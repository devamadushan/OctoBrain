{
 "cells": [
  {
   "cell_type": "code",
   "id": "initial_id",
   "metadata": {
    "collapsed": true,
    "ExecuteTime": {
     "end_time": "2025-07-09T08:22:56.246193Z",
     "start_time": "2025-07-09T08:22:56.241034Z"
    }
   },
   "source": "import pandas as pd",
   "outputs": [],
   "execution_count": 1
  },
  {
   "metadata": {
    "ExecuteTime": {
     "end_time": "2025-06-30T11:16:02.227103Z",
     "start_time": "2025-06-30T11:16:01.362568Z"
    }
   },
   "cell_type": "code",
   "source": "df_c1_2 = pd.read_csv('../datas/ECOLAB_3/C1/C1_1.csv' , sep=';',low_memory=False)",
   "id": "373f8d5952cb01cf",
   "outputs": [],
   "execution_count": 3
  },
  {
   "metadata": {
    "ExecuteTime": {
     "end_time": "2025-06-26T15:12:13.107132Z",
     "start_time": "2025-06-26T15:12:11.815083Z"
    }
   },
   "cell_type": "code",
   "source": [
    "df_c1_1 = pd.read_csv('../datas/E4_2/C4/C4_1.csv' , sep=';',low_memory=False)\n",
    "df_c1_1['datetime'] = pd.to_datetime(df_c1_1['Date'] + ' ' +df_c1_1['Time'] , dayfirst=True)\n",
    "\n",
    "\n",
    "df_c1_2 = pd.read_csv('../datas/E4_2/C4/C4_2.csv' , sep=';',low_memory=False)\n",
    "df_c1_2['datetime'] = pd.to_datetime(df_c1_2['Date'] +' ' +df_c1_2['Time'], dayfirst=True)\n",
    "\n",
    "\n",
    "df_c1_3 = pd.read_csv('../datas/E4_2/C4/C4_3.csv' , sep=';',low_memory=False)\n",
    "df_c1_3['datetime'] = pd.to_datetime(df_c1_3['Date'] +' ' +df_c1_3['Time'], dayfirst=True)\n",
    "\n",
    "\n",
    "df_c1_4 = pd.read_csv('../datas/E4_2/C4/C4_4.csv' , sep=';',low_memory=False)\n",
    "df_c1_4['datetime'] = pd.to_datetime(df_c1_4['Date'] +' ' +df_c1_4['Time'], dayfirst=True)\n",
    "totalSize = len(df_c1_1) + len(df_c1_2) + len(df_c1_3) + len(df_c1_4)\n",
    "print(\"Total size : \", totalSize )\n"
   ],
   "id": "187105912c5f992f",
   "outputs": [
    {
     "name": "stdout",
     "output_type": "stream",
     "text": [
      "Total size :  375667\n"
     ]
    }
   ],
   "execution_count": 4
  },
  {
   "metadata": {
    "ExecuteTime": {
     "end_time": "2025-06-26T15:12:14.482634Z",
     "start_time": "2025-06-26T15:12:14.415325Z"
    }
   },
   "cell_type": "code",
   "source": "df_c1_1.isnull().sum()",
   "id": "4544d6eab0aa9336",
   "outputs": [
    {
     "data": {
      "text/plain": [
       "Breaks                       307634\n",
       "Date                              0\n",
       "Time                              0\n",
       "TEMPERATURE_MEG_FROID [R]         0\n",
       "TEMPERATURE_MEG_CHAUD [R]         0\n",
       "BP_R134_EN_BARS [R]               0\n",
       "BP_R134_EN_DEGRES [R]             0\n",
       "CONSIGNE_BALLON_FROID [R]         0\n",
       "CONSIGNE_BALLON_CHAUD [R]         0\n",
       "HP_R134_EN_BARS [R]               0\n",
       "HP_R134_EN_DEGRES [R]             0\n",
       "datetime                          0\n",
       "dtype: int64"
      ]
     },
     "execution_count": 5,
     "metadata": {},
     "output_type": "execute_result"
    }
   ],
   "execution_count": 5
  },
  {
   "metadata": {
    "ExecuteTime": {
     "end_time": "2025-06-25T14:24:40.096635Z",
     "start_time": "2025-06-25T14:24:40.087835Z"
    }
   },
   "cell_type": "code",
   "source": "len(df_c1_1)-375667",
   "id": "9f5f1f3b2e4f0269",
   "outputs": [
    {
     "data": {
      "text/plain": [
       "-63437"
      ]
     },
     "execution_count": 103,
     "metadata": {},
     "output_type": "execute_result"
    }
   ],
   "execution_count": 103
  },
  {
   "metadata": {
    "ExecuteTime": {
     "end_time": "2025-06-26T15:12:52.870739Z",
     "start_time": "2025-06-26T15:12:52.859563Z"
    }
   },
   "cell_type": "code",
   "source": "df_c1_1['TEMPERATURE_MEG_FROID [R]']",
   "id": "be6f9d0c0fa0c6f1",
   "outputs": [
    {
     "data": {
      "text/plain": [
       "0                  0\n",
       "1         -8,3000002\n",
       "2         -8,8999996\n",
       "3         -9,1999998\n",
       "4         -9,3999996\n",
       "             ...    \n",
       "312225          22,6\n",
       "312226          22,6\n",
       "312227          22,6\n",
       "312228          22,6\n",
       "312229          22,6\n",
       "Name: TEMPERATURE_MEG_FROID [R], Length: 312230, dtype: object"
      ]
     },
     "execution_count": 6,
     "metadata": {},
     "output_type": "execute_result"
    }
   ],
   "execution_count": 6
  },
  {
   "metadata": {
    "ExecuteTime": {
     "end_time": "2025-06-26T15:13:06.639494Z",
     "start_time": "2025-06-26T15:13:06.533949Z"
    }
   },
   "cell_type": "code",
   "source": "df_c1_1.isnull().sum()",
   "id": "d254eb09ac021237",
   "outputs": [
    {
     "data": {
      "text/plain": [
       "Breaks                       307634\n",
       "Date                              0\n",
       "Time                              0\n",
       "TEMPERATURE_MEG_FROID [R]         0\n",
       "TEMPERATURE_MEG_CHAUD [R]         0\n",
       "BP_R134_EN_BARS [R]               0\n",
       "BP_R134_EN_DEGRES [R]             0\n",
       "CONSIGNE_BALLON_FROID [R]         0\n",
       "CONSIGNE_BALLON_CHAUD [R]         0\n",
       "HP_R134_EN_BARS [R]               0\n",
       "HP_R134_EN_DEGRES [R]             0\n",
       "datetime                          0\n",
       "dtype: int64"
      ]
     },
     "execution_count": 7,
     "metadata": {},
     "output_type": "execute_result"
    }
   ],
   "execution_count": 7
  },
  {
   "metadata": {
    "ExecuteTime": {
     "end_time": "2025-06-30T11:48:29.558747Z",
     "start_time": "2025-06-30T11:48:29.516659Z"
    }
   },
   "cell_type": "code",
   "source": [
    "\n",
    "df_c1 = pd.concat([df_c1_1, df_c1_2, df_c1_3, df_c1_4], ignore_index=True)"
   ],
   "id": "e0c367f99e201054",
   "outputs": [
    {
     "ename": "NameError",
     "evalue": "name 'df_c1_1' is not defined",
     "output_type": "error",
     "traceback": [
      "\u001B[31m---------------------------------------------------------------------------\u001B[39m",
      "\u001B[31mNameError\u001B[39m                                 Traceback (most recent call last)",
      "\u001B[36mCell\u001B[39m\u001B[36m \u001B[39m\u001B[32mIn[4]\u001B[39m\u001B[32m, line 1\u001B[39m\n\u001B[32m----> \u001B[39m\u001B[32m1\u001B[39m df_c1 = pd.concat([\u001B[43mdf_c1_1\u001B[49m, df_c1_2, df_c1_3, df_c1_4], ignore_index=\u001B[38;5;28;01mTrue\u001B[39;00m)\n",
      "\u001B[31mNameError\u001B[39m: name 'df_c1_1' is not defined"
     ]
    }
   ],
   "execution_count": 4
  },
  {
   "metadata": {
    "ExecuteTime": {
     "end_time": "2025-06-26T15:13:13.062280Z",
     "start_time": "2025-06-26T15:13:13.053215Z"
    }
   },
   "cell_type": "code",
   "source": "len(df_c1)",
   "id": "fc7713a6a2a861e3",
   "outputs": [
    {
     "data": {
      "text/plain": [
       "375667"
      ]
     },
     "execution_count": 9,
     "metadata": {},
     "output_type": "execute_result"
    }
   ],
   "execution_count": 9
  },
  {
   "metadata": {
    "ExecuteTime": {
     "end_time": "2025-06-26T15:13:14.141411Z",
     "start_time": "2025-06-26T15:13:14.131655Z"
    }
   },
   "cell_type": "code",
   "source": "df_c1['Date']",
   "id": "978b745d96a8a83f",
   "outputs": [
    {
     "data": {
      "text/plain": [
       "0         07.04.2025\n",
       "1         07.04.2025\n",
       "2         07.04.2025\n",
       "3         07.04.2025\n",
       "4         07.04.2025\n",
       "             ...    \n",
       "375662    19.06.2025\n",
       "375663    19.06.2025\n",
       "375664    19.06.2025\n",
       "375665    19.06.2025\n",
       "375666    23.06.2025\n",
       "Name: Date, Length: 375667, dtype: object"
      ]
     },
     "execution_count": 10,
     "metadata": {},
     "output_type": "execute_result"
    }
   ],
   "execution_count": 10
  },
  {
   "metadata": {
    "ExecuteTime": {
     "end_time": "2025-06-26T15:13:15.724864Z",
     "start_time": "2025-06-26T15:13:15.702651Z"
    }
   },
   "cell_type": "code",
   "source": "df_c1.head()",
   "id": "a216ee80169728bf",
   "outputs": [
    {
     "data": {
      "text/plain": [
       "  Breaks        Date      Time TEMPERATURE_MEG_FROID [R]  \\\n",
       "0   OPEN  07.04.2025  10:28:44                         0   \n",
       "1    NaN  07.04.2025  10:29:15                -8,3000002   \n",
       "2    NaN  07.04.2025  10:29:45                -8,8999996   \n",
       "3    NaN  07.04.2025  10:30:15                -9,1999998   \n",
       "4    NaN  07.04.2025  10:30:45                -9,3999996   \n",
       "\n",
       "  TEMPERATURE_MEG_CHAUD [R] BP_R134_EN_BARS [R] BP_R134_EN_DEGRES [R]  \\\n",
       "0                         0                   0                     0   \n",
       "1                 49,599998          0,66159999            -14,528214   \n",
       "2                 49,599998          0,68271995            -14,218569   \n",
       "3                 49,599998          0,70384002            -13,912477   \n",
       "4                 49,599998          0,71920002            -13,692051   \n",
       "\n",
       "   CONSIGNE_BALLON_FROID [R]  CONSIGNE_BALLON_CHAUD [R] HP_R134_EN_BARS [R]  \\\n",
       "0                        0.0                        0.0                   0   \n",
       "1                       -6.0                       45.0           7,6949997   \n",
       "2                       -6.0                       45.0               7,335   \n",
       "3                       -6.0                       45.0           7,2249999   \n",
       "4                       -6.0                       45.0           7,4699998   \n",
       "\n",
       "   ... COMPRESSEUR_2 [B] CDE_EVAPO_BP_FROID [B]  CDE_VENTILATEUR_EVAPO [B]  \\\n",
       "0  ...               NaN                    NaN                        NaN   \n",
       "1  ...               NaN                    NaN                        NaN   \n",
       "2  ...               NaN                    NaN                        NaN   \n",
       "3  ...               NaN                    NaN                        NaN   \n",
       "4  ...               NaN                    NaN                        NaN   \n",
       "\n",
       "   POMPE_MEG_FROID [B]  POMPE_MEG_CHAUD [B]  RETOUR_LOCAL_DISTANT [B]  \\\n",
       "0                  NaN                  NaN                       NaN   \n",
       "1                  NaN                  NaN                       NaN   \n",
       "2                  NaN                  NaN                       NaN   \n",
       "3                  NaN                  NaN                       NaN   \n",
       "4                  NaN                  NaN                       NaN   \n",
       "\n",
       "   SECU_BALLON_CHAUD [B]  SECU_BALLON_FROID [B]  CDE_COMPRESSEUR1 [B]  \\\n",
       "0                    NaN                    NaN                   NaN   \n",
       "1                    NaN                    NaN                   NaN   \n",
       "2                    NaN                    NaN                   NaN   \n",
       "3                    NaN                    NaN                   NaN   \n",
       "4                    NaN                    NaN                   NaN   \n",
       "\n",
       "   CDE_COMPRESSEUR2 [B]  \n",
       "0                   NaN  \n",
       "1                   NaN  \n",
       "2                   NaN  \n",
       "3                   NaN  \n",
       "4                   NaN  \n",
       "\n",
       "[5 rows x 39 columns]"
      ],
      "text/html": [
       "<div>\n",
       "<style scoped>\n",
       "    .dataframe tbody tr th:only-of-type {\n",
       "        vertical-align: middle;\n",
       "    }\n",
       "\n",
       "    .dataframe tbody tr th {\n",
       "        vertical-align: top;\n",
       "    }\n",
       "\n",
       "    .dataframe thead th {\n",
       "        text-align: right;\n",
       "    }\n",
       "</style>\n",
       "<table border=\"1\" class=\"dataframe\">\n",
       "  <thead>\n",
       "    <tr style=\"text-align: right;\">\n",
       "      <th></th>\n",
       "      <th>Breaks</th>\n",
       "      <th>Date</th>\n",
       "      <th>Time</th>\n",
       "      <th>TEMPERATURE_MEG_FROID [R]</th>\n",
       "      <th>TEMPERATURE_MEG_CHAUD [R]</th>\n",
       "      <th>BP_R134_EN_BARS [R]</th>\n",
       "      <th>BP_R134_EN_DEGRES [R]</th>\n",
       "      <th>CONSIGNE_BALLON_FROID [R]</th>\n",
       "      <th>CONSIGNE_BALLON_CHAUD [R]</th>\n",
       "      <th>HP_R134_EN_BARS [R]</th>\n",
       "      <th>...</th>\n",
       "      <th>COMPRESSEUR_2 [B]</th>\n",
       "      <th>CDE_EVAPO_BP_FROID [B]</th>\n",
       "      <th>CDE_VENTILATEUR_EVAPO [B]</th>\n",
       "      <th>POMPE_MEG_FROID [B]</th>\n",
       "      <th>POMPE_MEG_CHAUD [B]</th>\n",
       "      <th>RETOUR_LOCAL_DISTANT [B]</th>\n",
       "      <th>SECU_BALLON_CHAUD [B]</th>\n",
       "      <th>SECU_BALLON_FROID [B]</th>\n",
       "      <th>CDE_COMPRESSEUR1 [B]</th>\n",
       "      <th>CDE_COMPRESSEUR2 [B]</th>\n",
       "    </tr>\n",
       "  </thead>\n",
       "  <tbody>\n",
       "    <tr>\n",
       "      <th>0</th>\n",
       "      <td>OPEN</td>\n",
       "      <td>07.04.2025</td>\n",
       "      <td>10:28:44</td>\n",
       "      <td>0</td>\n",
       "      <td>0</td>\n",
       "      <td>0</td>\n",
       "      <td>0</td>\n",
       "      <td>0.0</td>\n",
       "      <td>0.0</td>\n",
       "      <td>0</td>\n",
       "      <td>...</td>\n",
       "      <td>NaN</td>\n",
       "      <td>NaN</td>\n",
       "      <td>NaN</td>\n",
       "      <td>NaN</td>\n",
       "      <td>NaN</td>\n",
       "      <td>NaN</td>\n",
       "      <td>NaN</td>\n",
       "      <td>NaN</td>\n",
       "      <td>NaN</td>\n",
       "      <td>NaN</td>\n",
       "    </tr>\n",
       "    <tr>\n",
       "      <th>1</th>\n",
       "      <td>NaN</td>\n",
       "      <td>07.04.2025</td>\n",
       "      <td>10:29:15</td>\n",
       "      <td>-8,3000002</td>\n",
       "      <td>49,599998</td>\n",
       "      <td>0,66159999</td>\n",
       "      <td>-14,528214</td>\n",
       "      <td>-6.0</td>\n",
       "      <td>45.0</td>\n",
       "      <td>7,6949997</td>\n",
       "      <td>...</td>\n",
       "      <td>NaN</td>\n",
       "      <td>NaN</td>\n",
       "      <td>NaN</td>\n",
       "      <td>NaN</td>\n",
       "      <td>NaN</td>\n",
       "      <td>NaN</td>\n",
       "      <td>NaN</td>\n",
       "      <td>NaN</td>\n",
       "      <td>NaN</td>\n",
       "      <td>NaN</td>\n",
       "    </tr>\n",
       "    <tr>\n",
       "      <th>2</th>\n",
       "      <td>NaN</td>\n",
       "      <td>07.04.2025</td>\n",
       "      <td>10:29:45</td>\n",
       "      <td>-8,8999996</td>\n",
       "      <td>49,599998</td>\n",
       "      <td>0,68271995</td>\n",
       "      <td>-14,218569</td>\n",
       "      <td>-6.0</td>\n",
       "      <td>45.0</td>\n",
       "      <td>7,335</td>\n",
       "      <td>...</td>\n",
       "      <td>NaN</td>\n",
       "      <td>NaN</td>\n",
       "      <td>NaN</td>\n",
       "      <td>NaN</td>\n",
       "      <td>NaN</td>\n",
       "      <td>NaN</td>\n",
       "      <td>NaN</td>\n",
       "      <td>NaN</td>\n",
       "      <td>NaN</td>\n",
       "      <td>NaN</td>\n",
       "    </tr>\n",
       "    <tr>\n",
       "      <th>3</th>\n",
       "      <td>NaN</td>\n",
       "      <td>07.04.2025</td>\n",
       "      <td>10:30:15</td>\n",
       "      <td>-9,1999998</td>\n",
       "      <td>49,599998</td>\n",
       "      <td>0,70384002</td>\n",
       "      <td>-13,912477</td>\n",
       "      <td>-6.0</td>\n",
       "      <td>45.0</td>\n",
       "      <td>7,2249999</td>\n",
       "      <td>...</td>\n",
       "      <td>NaN</td>\n",
       "      <td>NaN</td>\n",
       "      <td>NaN</td>\n",
       "      <td>NaN</td>\n",
       "      <td>NaN</td>\n",
       "      <td>NaN</td>\n",
       "      <td>NaN</td>\n",
       "      <td>NaN</td>\n",
       "      <td>NaN</td>\n",
       "      <td>NaN</td>\n",
       "    </tr>\n",
       "    <tr>\n",
       "      <th>4</th>\n",
       "      <td>NaN</td>\n",
       "      <td>07.04.2025</td>\n",
       "      <td>10:30:45</td>\n",
       "      <td>-9,3999996</td>\n",
       "      <td>49,599998</td>\n",
       "      <td>0,71920002</td>\n",
       "      <td>-13,692051</td>\n",
       "      <td>-6.0</td>\n",
       "      <td>45.0</td>\n",
       "      <td>7,4699998</td>\n",
       "      <td>...</td>\n",
       "      <td>NaN</td>\n",
       "      <td>NaN</td>\n",
       "      <td>NaN</td>\n",
       "      <td>NaN</td>\n",
       "      <td>NaN</td>\n",
       "      <td>NaN</td>\n",
       "      <td>NaN</td>\n",
       "      <td>NaN</td>\n",
       "      <td>NaN</td>\n",
       "      <td>NaN</td>\n",
       "    </tr>\n",
       "  </tbody>\n",
       "</table>\n",
       "<p>5 rows × 39 columns</p>\n",
       "</div>"
      ]
     },
     "execution_count": 11,
     "metadata": {},
     "output_type": "execute_result"
    }
   ],
   "execution_count": 11
  },
  {
   "metadata": {
    "ExecuteTime": {
     "end_time": "2025-06-26T15:13:18.664352Z",
     "start_time": "2025-06-26T15:13:18.654179Z"
    }
   },
   "cell_type": "code",
   "source": [
    "df_c1.columns\n",
    "\n",
    "#df_dates = pd.concat([df_c1_1['Date'] , df_c1_1['Time']])"
   ],
   "id": "f66c9d52ef332cfa",
   "outputs": [
    {
     "data": {
      "text/plain": [
       "Index(['Breaks', 'Date', 'Time', 'TEMPERATURE_MEG_FROID [R]',\n",
       "       'TEMPERATURE_MEG_CHAUD [R]', 'BP_R134_EN_BARS [R]',\n",
       "       'BP_R134_EN_DEGRES [R]', 'CONSIGNE_BALLON_FROID [R]',\n",
       "       'CONSIGNE_BALLON_CHAUD [R]', 'HP_R134_EN_BARS [R]',\n",
       "       'HP_R134_EN_DEGRES [R]', 'datetime', 'CDE_CONDENSEUR [B]',\n",
       "       'CDE_EVAPORATEUR [B]', 'LOCAL_DISTANT [B]', 'MA_THERMO [B]',\n",
       "       'CDE_DEGIVRAGE [B]', 'CDE_EVAPO_FROID [B]', 'CDE_EVAPO_CHAUD [B]',\n",
       "       'DEBIT_BP [B]', 'DEBIT_HP [B]', 'DEFAUT_COMPRESSEUR_HP [B]',\n",
       "       'DEFAUT_COMPRESSEUR_BP [B]', 'DEFAUT_COMPRESSEUR_1 [B]',\n",
       "       'DEFAUT_COMPRESSEUR_2 [B]', 'SECURITE_GENERALE [B]', 'THERMOSTAT [B]',\n",
       "       'SECURITE_HP [B]', 'COMPRESSEUR_1 [B]', 'COMPRESSEUR_2 [B]',\n",
       "       'CDE_EVAPO_BP_FROID [B]', 'CDE_VENTILATEUR_EVAPO [B]',\n",
       "       'POMPE_MEG_FROID [B]', 'POMPE_MEG_CHAUD [B]',\n",
       "       'RETOUR_LOCAL_DISTANT [B]', 'SECU_BALLON_CHAUD [B]',\n",
       "       'SECU_BALLON_FROID [B]', 'CDE_COMPRESSEUR1 [B]',\n",
       "       'CDE_COMPRESSEUR2 [B]'],\n",
       "      dtype='object')"
      ]
     },
     "execution_count": 12,
     "metadata": {},
     "output_type": "execute_result"
    }
   ],
   "execution_count": 12
  },
  {
   "metadata": {
    "ExecuteTime": {
     "end_time": "2025-06-26T15:13:21.828412Z",
     "start_time": "2025-06-26T15:13:21.814258Z"
    }
   },
   "cell_type": "code",
   "source": "print(df_c1.head())",
   "id": "3e20614e00292658",
   "outputs": [
    {
     "name": "stdout",
     "output_type": "stream",
     "text": [
      "  Breaks        Date      Time TEMPERATURE_MEG_FROID [R]  \\\n",
      "0   OPEN  07.04.2025  10:28:44                         0   \n",
      "1    NaN  07.04.2025  10:29:15                -8,3000002   \n",
      "2    NaN  07.04.2025  10:29:45                -8,8999996   \n",
      "3    NaN  07.04.2025  10:30:15                -9,1999998   \n",
      "4    NaN  07.04.2025  10:30:45                -9,3999996   \n",
      "\n",
      "  TEMPERATURE_MEG_CHAUD [R] BP_R134_EN_BARS [R] BP_R134_EN_DEGRES [R]  \\\n",
      "0                         0                   0                     0   \n",
      "1                 49,599998          0,66159999            -14,528214   \n",
      "2                 49,599998          0,68271995            -14,218569   \n",
      "3                 49,599998          0,70384002            -13,912477   \n",
      "4                 49,599998          0,71920002            -13,692051   \n",
      "\n",
      "   CONSIGNE_BALLON_FROID [R]  CONSIGNE_BALLON_CHAUD [R] HP_R134_EN_BARS [R]  \\\n",
      "0                        0.0                        0.0                   0   \n",
      "1                       -6.0                       45.0           7,6949997   \n",
      "2                       -6.0                       45.0               7,335   \n",
      "3                       -6.0                       45.0           7,2249999   \n",
      "4                       -6.0                       45.0           7,4699998   \n",
      "\n",
      "   ... COMPRESSEUR_2 [B] CDE_EVAPO_BP_FROID [B]  CDE_VENTILATEUR_EVAPO [B]  \\\n",
      "0  ...               NaN                    NaN                        NaN   \n",
      "1  ...               NaN                    NaN                        NaN   \n",
      "2  ...               NaN                    NaN                        NaN   \n",
      "3  ...               NaN                    NaN                        NaN   \n",
      "4  ...               NaN                    NaN                        NaN   \n",
      "\n",
      "   POMPE_MEG_FROID [B]  POMPE_MEG_CHAUD [B]  RETOUR_LOCAL_DISTANT [B]  \\\n",
      "0                  NaN                  NaN                       NaN   \n",
      "1                  NaN                  NaN                       NaN   \n",
      "2                  NaN                  NaN                       NaN   \n",
      "3                  NaN                  NaN                       NaN   \n",
      "4                  NaN                  NaN                       NaN   \n",
      "\n",
      "   SECU_BALLON_CHAUD [B]  SECU_BALLON_FROID [B]  CDE_COMPRESSEUR1 [B]  \\\n",
      "0                    NaN                    NaN                   NaN   \n",
      "1                    NaN                    NaN                   NaN   \n",
      "2                    NaN                    NaN                   NaN   \n",
      "3                    NaN                    NaN                   NaN   \n",
      "4                    NaN                    NaN                   NaN   \n",
      "\n",
      "   CDE_COMPRESSEUR2 [B]  \n",
      "0                   NaN  \n",
      "1                   NaN  \n",
      "2                   NaN  \n",
      "3                   NaN  \n",
      "4                   NaN  \n",
      "\n",
      "[5 rows x 39 columns]\n"
     ]
    }
   ],
   "execution_count": 13
  },
  {
   "metadata": {
    "ExecuteTime": {
     "end_time": "2025-06-25T14:16:04.711577Z",
     "start_time": "2025-06-25T14:16:04.707299Z"
    }
   },
   "cell_type": "code",
   "source": "print(df_c1['Date'] , df_c1['Time'])",
   "id": "6d9468436be2dfcd",
   "outputs": [
    {
     "name": "stdout",
     "output_type": "stream",
     "text": [
      "0         07.04.2025\n",
      "1         07.04.2025\n",
      "2         07.04.2025\n",
      "3         07.04.2025\n",
      "4         07.04.2025\n",
      "             ...    \n",
      "375662    19.06.2025\n",
      "375663    19.06.2025\n",
      "375664    19.06.2025\n",
      "375665    19.06.2025\n",
      "375666    23.06.2025\n",
      "Name: Date, Length: 375667, dtype: object 0         10:28:44\n",
      "1         10:29:15\n",
      "2         10:29:45\n",
      "3         10:30:15\n",
      "4         10:30:45\n",
      "            ...   \n",
      "375662    05:10:51\n",
      "375663    05:15:41\n",
      "375664    05:17:55\n",
      "375665    06:43:36\n",
      "375666    07:23:25\n",
      "Name: Time, Length: 375667, dtype: object\n"
     ]
    }
   ],
   "execution_count": 91
  },
  {
   "metadata": {
    "ExecuteTime": {
     "end_time": "2025-06-25T14:16:04.790639Z",
     "start_time": "2025-06-25T14:16:04.787077Z"
    }
   },
   "cell_type": "code",
   "source": [
    "cols = df_c1.columns\n",
    "print(len(cols))\n",
    "for c in cols:\n",
    "    print(c)"
   ],
   "id": "fdee706055228e0",
   "outputs": [
    {
     "name": "stdout",
     "output_type": "stream",
     "text": [
      "39\n",
      "Breaks\n",
      "Date\n",
      "Time\n",
      "TEMPERATURE_MEG_FROID [R]\n",
      "TEMPERATURE_MEG_CHAUD [R]\n",
      "BP_R134_EN_BARS [R]\n",
      "BP_R134_EN_DEGRES [R]\n",
      "CONSIGNE_BALLON_FROID [R]\n",
      "CONSIGNE_BALLON_CHAUD [R]\n",
      "HP_R134_EN_BARS [R]\n",
      "HP_R134_EN_DEGRES [R]\n",
      "datetime\n",
      "CDE_CONDENSEUR [B]\n",
      "CDE_EVAPORATEUR [B]\n",
      "LOCAL_DISTANT [B]\n",
      "MA_THERMO [B]\n",
      "CDE_DEGIVRAGE [B]\n",
      "CDE_EVAPO_FROID [B]\n",
      "CDE_EVAPO_CHAUD [B]\n",
      "DEBIT_BP [B]\n",
      "DEBIT_HP [B]\n",
      "DEFAUT_COMPRESSEUR_HP [B]\n",
      "DEFAUT_COMPRESSEUR_BP [B]\n",
      "DEFAUT_COMPRESSEUR_1 [B]\n",
      "DEFAUT_COMPRESSEUR_2 [B]\n",
      "SECURITE_GENERALE [B]\n",
      "THERMOSTAT [B]\n",
      "SECURITE_HP [B]\n",
      "COMPRESSEUR_1 [B]\n",
      "COMPRESSEUR_2 [B]\n",
      "CDE_EVAPO_BP_FROID [B]\n",
      "CDE_VENTILATEUR_EVAPO [B]\n",
      "POMPE_MEG_FROID [B]\n",
      "POMPE_MEG_CHAUD [B]\n",
      "RETOUR_LOCAL_DISTANT [B]\n",
      "SECU_BALLON_CHAUD [B]\n",
      "SECU_BALLON_FROID [B]\n",
      "CDE_COMPRESSEUR1 [B]\n",
      "CDE_COMPRESSEUR2 [B]\n"
     ]
    }
   ],
   "execution_count": 92
  },
  {
   "metadata": {
    "ExecuteTime": {
     "end_time": "2025-06-26T15:14:32.196355Z",
     "start_time": "2025-06-26T15:14:32.184188Z"
    }
   },
   "cell_type": "code",
   "source": "df_c1['TEMPERATURE_MEG_FROID [R]']",
   "id": "28ecd22ac3ac2372",
   "outputs": [
    {
     "data": {
      "text/plain": [
       "0                  0\n",
       "1         -8,3000002\n",
       "2         -8,8999996\n",
       "3         -9,1999998\n",
       "4         -9,3999996\n",
       "             ...    \n",
       "375662           NaN\n",
       "375663           NaN\n",
       "375664           NaN\n",
       "375665           NaN\n",
       "375666           NaN\n",
       "Name: TEMPERATURE_MEG_FROID [R], Length: 375667, dtype: object"
      ]
     },
     "execution_count": 14,
     "metadata": {},
     "output_type": "execute_result"
    }
   ],
   "execution_count": 14
  },
  {
   "metadata": {
    "ExecuteTime": {
     "end_time": "2025-06-25T14:16:57.213083Z",
     "start_time": "2025-06-25T14:16:54.282912Z"
    }
   },
   "cell_type": "code",
   "source": "df_c1.to_csv('../datas/E4_2/C4/C4_main.csv', index=False)",
   "id": "a7a58c2f16e0507f",
   "outputs": [],
   "execution_count": 94
  },
  {
   "metadata": {
    "ExecuteTime": {
     "end_time": "2025-06-25T14:16:04.934399459Z",
     "start_time": "2025-06-24T10:04:04.096155Z"
    }
   },
   "cell_type": "code",
   "source": "df_main_c1.to_csv('../datas/E4/C1/C1_main.csv', index=False)",
   "id": "d4f3b20156ec7f78",
   "outputs": [],
   "execution_count": 11
  },
  {
   "metadata": {
    "ExecuteTime": {
     "end_time": "2025-06-26T15:15:00.320369Z",
     "start_time": "2025-06-26T15:14:57.735956Z"
    }
   },
   "cell_type": "code",
   "source": [
    "\n",
    "df_C1 = pd.read_csv('../datas/E4/C1/C1_formated.csv' , sep=',')\n",
    "df_C4 = pd.read_csv('../../datas/E4/C4/C4_formated.csv', sep=',')"
   ],
   "id": "5ab889b812f8f277",
   "outputs": [],
   "execution_count": 15
  },
  {
   "metadata": {
    "ExecuteTime": {
     "end_time": "2025-06-26T15:15:35.045577Z",
     "start_time": "2025-06-26T15:15:35.033818Z"
    }
   },
   "cell_type": "code",
   "source": "df_C4['TEMPERATURE_MEG_FROID [R]']",
   "id": "5ac741912925aa56",
   "outputs": [
    {
     "data": {
      "text/plain": [
       "0          0.0\n",
       "1         -8.3\n",
       "2         -8.9\n",
       "3         -9.2\n",
       "4         -9.4\n",
       "          ... \n",
       "303499    15.8\n",
       "303500    15.8\n",
       "303501    15.8\n",
       "303502    15.8\n",
       "303503    15.8\n",
       "Name: TEMPERATURE_MEG_FROID [R], Length: 303504, dtype: float64"
      ]
     },
     "execution_count": 16,
     "metadata": {},
     "output_type": "execute_result"
    }
   ],
   "execution_count": 16
  },
  {
   "metadata": {
    "ExecuteTime": {
     "end_time": "2025-06-26T15:17:34.452115Z",
     "start_time": "2025-06-26T15:17:34.440318Z"
    }
   },
   "cell_type": "code",
   "source": "print(df_C1['Date'] , df_C4['Date'])",
   "id": "912d37de7e1ffb22",
   "outputs": [
    {
     "name": "stdout",
     "output_type": "stream",
     "text": [
      "0        NaN\n",
      "1        NaN\n",
      "2        NaN\n",
      "3        NaN\n",
      "4        NaN\n",
      "          ..\n",
      "459863   NaN\n",
      "459864   NaN\n",
      "459865   NaN\n",
      "459866   NaN\n",
      "459867   NaN\n",
      "Name: Date, Length: 459868, dtype: float64 0        NaN\n",
      "1        NaN\n",
      "2        NaN\n",
      "3        NaN\n",
      "4        NaN\n",
      "          ..\n",
      "303499   NaN\n",
      "303500   NaN\n",
      "303501   NaN\n",
      "303502   NaN\n",
      "303503   NaN\n",
      "Name: Date, Length: 303504, dtype: float64\n"
     ]
    }
   ],
   "execution_count": 20
  },
  {
   "metadata": {
    "ExecuteTime": {
     "end_time": "2025-06-26T15:18:10.294296Z",
     "start_time": "2025-06-26T15:18:09.801167Z"
    }
   },
   "cell_type": "code",
   "source": [
    "C1_C4_main = pd.concat([df_C1 , df_C4],ignore_index=True)\n",
    "c = C1_C4_main.drop(columns=['Date' , 'Time'])\n",
    "len(c)\n",
    "\n"
   ],
   "id": "234ff9bede75cdee",
   "outputs": [
    {
     "data": {
      "text/plain": [
       "763372"
      ]
     },
     "execution_count": 21,
     "metadata": {},
     "output_type": "execute_result"
    }
   ],
   "execution_count": 21
  },
  {
   "metadata": {
    "ExecuteTime": {
     "end_time": "2025-06-26T15:18:12.225659Z",
     "start_time": "2025-06-26T15:18:12.216050Z"
    }
   },
   "cell_type": "code",
   "source": "c['TEMPERATURE_MEG_FROID [R]']",
   "id": "4c98854afc31f493",
   "outputs": [
    {
     "data": {
      "text/plain": [
       "0          NaN\n",
       "1          NaN\n",
       "2          NaN\n",
       "3          NaN\n",
       "4          NaN\n",
       "          ... \n",
       "763367    15.8\n",
       "763368    15.8\n",
       "763369    15.8\n",
       "763370    15.8\n",
       "763371    15.8\n",
       "Name: TEMPERATURE_MEG_FROID [R], Length: 763372, dtype: float64"
      ]
     },
     "execution_count": 22,
     "metadata": {},
     "output_type": "execute_result"
    }
   ],
   "execution_count": 22
  },
  {
   "metadata": {
    "ExecuteTime": {
     "end_time": "2025-06-25T14:16:04.936550024Z",
     "start_time": "2025-06-25T08:20:38.864172Z"
    }
   },
   "cell_type": "code",
   "source": [
    "\n",
    "c.to_csv('../datas/E4/C1-C4_formated.csv', index=False)"
   ],
   "id": "bd8487a3880a656f",
   "outputs": [
    {
     "ename": "NameError",
     "evalue": "name 'c' is not defined",
     "output_type": "error",
     "traceback": [
      "\u001B[31m---------------------------------------------------------------------------\u001B[39m",
      "\u001B[31mNameError\u001B[39m                                 Traceback (most recent call last)",
      "\u001B[36mCell\u001B[39m\u001B[36m \u001B[39m\u001B[32mIn[10]\u001B[39m\u001B[32m, line 1\u001B[39m\n\u001B[32m----> \u001B[39m\u001B[32m1\u001B[39m \u001B[38;5;28mlen\u001B[39m(\u001B[43mc\u001B[49m)\n",
      "\u001B[31mNameError\u001B[39m: name 'c' is not defined"
     ]
    }
   ],
   "execution_count": 10
  },
  {
   "metadata": {
    "ExecuteTime": {
     "end_time": "2025-06-25T14:18:48.332590Z",
     "start_time": "2025-06-25T14:18:47.112031Z"
    }
   },
   "cell_type": "code",
   "source": "new_df = pd.read_csv('../../datas/E4_2/C4/C4_main.csv', sep=',', low_memory=False)",
   "id": "7fe92498042630a4",
   "outputs": [],
   "execution_count": 96
  },
  {
   "metadata": {
    "ExecuteTime": {
     "end_time": "2025-06-25T14:19:36.092157Z",
     "start_time": "2025-06-25T14:19:36.083844Z"
    }
   },
   "cell_type": "code",
   "source": [
    "for col in new_df.columns:\n",
    "    print(col)"
   ],
   "id": "f1c240520867c652",
   "outputs": [
    {
     "name": "stdout",
     "output_type": "stream",
     "text": [
      "Breaks\n",
      "Date\n",
      "Time\n",
      "TEMPERATURE_MEG_FROID [R]\n",
      "TEMPERATURE_MEG_CHAUD [R]\n",
      "BP_R134_EN_BARS [R]\n",
      "BP_R134_EN_DEGRES [R]\n",
      "CONSIGNE_BALLON_FROID [R]\n",
      "CONSIGNE_BALLON_CHAUD [R]\n",
      "HP_R134_EN_BARS [R]\n",
      "HP_R134_EN_DEGRES [R]\n",
      "datetime\n",
      "CDE_CONDENSEUR [B]\n",
      "CDE_EVAPORATEUR [B]\n",
      "LOCAL_DISTANT [B]\n",
      "MA_THERMO [B]\n",
      "CDE_DEGIVRAGE [B]\n",
      "CDE_EVAPO_FROID [B]\n",
      "CDE_EVAPO_CHAUD [B]\n",
      "DEBIT_BP [B]\n",
      "DEBIT_HP [B]\n",
      "DEFAUT_COMPRESSEUR_HP [B]\n",
      "DEFAUT_COMPRESSEUR_BP [B]\n",
      "DEFAUT_COMPRESSEUR_1 [B]\n",
      "DEFAUT_COMPRESSEUR_2 [B]\n",
      "SECURITE_GENERALE [B]\n",
      "THERMOSTAT [B]\n",
      "SECURITE_HP [B]\n",
      "COMPRESSEUR_1 [B]\n",
      "COMPRESSEUR_2 [B]\n",
      "CDE_EVAPO_BP_FROID [B]\n",
      "CDE_VENTILATEUR_EVAPO [B]\n",
      "POMPE_MEG_FROID [B]\n",
      "POMPE_MEG_CHAUD [B]\n",
      "RETOUR_LOCAL_DISTANT [B]\n",
      "SECU_BALLON_CHAUD [B]\n",
      "SECU_BALLON_FROID [B]\n",
      "CDE_COMPRESSEUR1 [B]\n",
      "CDE_COMPRESSEUR2 [B]\n"
     ]
    }
   ],
   "execution_count": 98
  },
  {
   "metadata": {
    "ExecuteTime": {
     "end_time": "2025-06-25T14:20:05.755976Z",
     "start_time": "2025-06-25T14:20:05.600788Z"
    }
   },
   "cell_type": "code",
   "source": "new_df.isnull().sum()",
   "id": "dd2b7663302df3eb",
   "outputs": [
    {
     "data": {
      "text/plain": [
       "Breaks                       371007\n",
       "Date                              0\n",
       "Time                              0\n",
       "TEMPERATURE_MEG_FROID [R]     63437\n",
       "TEMPERATURE_MEG_CHAUD [R]     63437\n",
       "BP_R134_EN_BARS [R]           63437\n",
       "BP_R134_EN_DEGRES [R]         63437\n",
       "CONSIGNE_BALLON_FROID [R]     63437\n",
       "CONSIGNE_BALLON_CHAUD [R]     63437\n",
       "HP_R134_EN_BARS [R]           63437\n",
       "HP_R134_EN_DEGRES [R]         63437\n",
       "datetime                          0\n",
       "CDE_CONDENSEUR [B]           337061\n",
       "CDE_EVAPORATEUR [B]          337061\n",
       "LOCAL_DISTANT [B]            337061\n",
       "MA_THERMO [B]                337061\n",
       "CDE_DEGIVRAGE [B]            337061\n",
       "CDE_EVAPO_FROID [B]          337061\n",
       "CDE_EVAPO_CHAUD [B]          337061\n",
       "DEBIT_BP [B]                 337061\n",
       "DEBIT_HP [B]                 337061\n",
       "DEFAUT_COMPRESSEUR_HP [B]    372783\n",
       "DEFAUT_COMPRESSEUR_BP [B]    372783\n",
       "DEFAUT_COMPRESSEUR_1 [B]     372783\n",
       "DEFAUT_COMPRESSEUR_2 [B]     372783\n",
       "SECURITE_GENERALE [B]        372783\n",
       "THERMOSTAT [B]               372783\n",
       "SECURITE_HP [B]              372783\n",
       "COMPRESSEUR_1 [B]            372783\n",
       "COMPRESSEUR_2 [B]            372783\n",
       "CDE_EVAPO_BP_FROID [B]       353720\n",
       "CDE_VENTILATEUR_EVAPO [B]    353720\n",
       "POMPE_MEG_FROID [B]          353720\n",
       "POMPE_MEG_CHAUD [B]          353720\n",
       "RETOUR_LOCAL_DISTANT [B]     353720\n",
       "SECU_BALLON_CHAUD [B]        353720\n",
       "SECU_BALLON_FROID [B]        353720\n",
       "CDE_COMPRESSEUR1 [B]         353720\n",
       "CDE_COMPRESSEUR2 [B]         353720\n",
       "dtype: int64"
      ]
     },
     "execution_count": 99,
     "metadata": {},
     "output_type": "execute_result"
    }
   ],
   "execution_count": 99
  },
  {
   "metadata": {
    "ExecuteTime": {
     "end_time": "2025-08-08T14:36:27.830906Z",
     "start_time": "2025-08-08T14:36:27.825331Z"
    }
   },
   "cell_type": "code",
   "source": "import pandas as pd\n",
   "id": "214c650fc3ba8f93",
   "outputs": [],
   "execution_count": 3
  },
  {
   "metadata": {
    "ExecuteTime": {
     "end_time": "2025-08-08T14:36:42.192922Z",
     "start_time": "2025-08-08T14:36:28.752997Z"
    }
   },
   "cell_type": "code",
   "source": [
    "df = pd.read_csv('../../datas/E4_3/E3_all_alert.csv')\n",
    "\n",
    "df['ecart_temp_C4_C'] = df['TEMPERATURE_MEG_CHAUD [R]_C4'] - df['CONSIGNE_BALLON_CHAUD [R]_C4']\n",
    "df['ecart_temp_C4_F'] = df['TEMPERATURE_MEG_FROID [R]_C4'] - df['CONSIGNE_BALLON_FROID [R]_C4']\n"
   ],
   "id": "32c4a89685ea62ce",
   "outputs": [],
   "execution_count": 4
  },
  {
   "metadata": {
    "ExecuteTime": {
     "end_time": "2025-08-08T14:36:50.089805Z",
     "start_time": "2025-08-08T14:36:47.273931Z"
    }
   },
   "cell_type": "code",
   "source": [
    "from matplotlib import pyplot as plt\n",
    "\n",
    "plt.figure(figsize=(14, 6))\n",
    "\n",
    "# Tracer chaque variable (sur le même graphique) avec la couleur correspondant au cluster\n",
    "\n",
    "#plt.scatter(df.index, df['TEMPERATURE_MOY_INF [R]'], c=colors, label='Prob-Reprise', alpha=1.0, s=2)\n",
    "#plt.scatter(df.index, df['TEMPERATURE_MOY_SUP [R]'], c=colors_2, label='Prob-Consigne', alpha=1.0, s=2)\n",
    "\n",
    "plt.scatter(df.index, df['ecart_temp_C4_C'], label='Normal', alpha=0.5, s=2)\n",
    "plt.scatter(df.index, df['ecart_temp_C4_F'], label='Normal', alpha=0.5, s=2)\n",
    "#plt.scatter(df.index, df['ecart_temp_C1'], label='Prob-Consigne', alpha=1.0, s=2)\n",
    "#plt.scatter(df.index, df['alerte_pred'], c=colors_4, label='Prob-Consigne', alpha=1.0, s=2)\n",
    "plt.title(' ')\n",
    "plt.xlabel(df['datetime'])\n",
    "plt.ylabel('CDE_EVAPO_FROID [B] ' )\n",
    "plt.legend()\n",
    "plt.grid(True)\n",
    "plt.show()"
   ],
   "id": "c78535c974481e2c",
   "outputs": [
    {
     "data": {
      "text/plain": [
       "<Figure size 1400x600 with 1 Axes>"
      ],
      "image/png": "[encoded data removed]"
     },
     "metadata": {},
     "output_type": "display_data"
    }
   ],
   "execution_count": 5
  },
  {
   "metadata": {
    "ExecuteTime": {
     "end_time": "2025-08-08T14:37:00.019138Z",
     "start_time": "2025-08-08T14:36:59.763675Z"
    }
   },
   "cell_type": "code",
   "source": [
    "import numpy as np\n",
    "df['datetime'] = pd.to_datetime(df['datetime'])\n",
    "\n",
    "# 3. Créer une colonne avec secondes depuis minuit\n",
    "df['seconds_in_day'] = (\n",
    "    df['datetime'].dt.hour * 3600 +\n",
    "    df['datetime'].dt.minute * 60 +\n",
    "    df['datetime'].dt.second\n",
    ")\n",
    "\n",
    "# 4. Encoder cycliquement la position dans la journée\n",
    "df['day_sin'] = np.sin(2 * np.pi * df['seconds_in_day'] / 86400)\n",
    "df['day_cos'] = np.cos(2 * np.pi * df['seconds_in_day'] / 86400)"
   ],
   "id": "5b7d18d8e8642d40",
   "outputs": [],
   "execution_count": 6
  },
  {
   "metadata": {
    "ExecuteTime": {
     "end_time": "2025-08-08T14:39:52.368059Z",
     "start_time": "2025-08-08T14:37:56.694222Z"
    }
   },
   "cell_type": "code",
   "source": "df.to_csv('../datas/E4_3/E3_all_alert.csv')",
   "id": "6e8f17f0dfa0eb39",
   "outputs": [],
   "execution_count": 7
  },
  {
   "metadata": {
    "ExecuteTime": {
     "end_time": "2025-08-08T14:39:56.754302Z",
     "start_time": "2025-08-08T14:39:56.747255Z"
    }
   },
   "cell_type": "code",
   "source": "len(df)",
   "id": "a8be90537f048f8e",
   "outputs": [
    {
     "data": {
      "text/plain": [
       "891762"
      ]
     },
     "execution_count": 8,
     "metadata": {},
     "output_type": "execute_result"
    }
   ],
   "execution_count": 8
  },
  {
   "metadata": {
    "ExecuteTime": {
     "end_time": "2025-08-08T14:42:32.744428Z",
     "start_time": "2025-08-08T14:42:32.738179Z"
    }
   },
   "cell_type": "code",
   "source": [
    "df_1 = df.iloc[0:800_000]\n",
    "df_2 = df.iloc[800_000:890_000]\n",
    "df_3 = df.iloc[890_000:]"
   ],
   "id": "9883c2a64fcfcf86",
   "outputs": [],
   "execution_count": 9
  },
  {
   "metadata": {
    "ExecuteTime": {
     "end_time": "2025-08-08T14:43:01.266722Z",
     "start_time": "2025-08-08T14:43:01.258281Z"
    }
   },
   "cell_type": "code",
   "source": "len(df_2)",
   "id": "5cb4d12e937bd3e9",
   "outputs": [
    {
     "data": {
      "text/plain": [
       "1762"
      ]
     },
     "execution_count": 12,
     "metadata": {},
     "output_type": "execute_result"
    }
   ],
   "execution_count": 12
  },
  {
   "metadata": {
    "ExecuteTime": {
     "end_time": "2025-08-08T14:45:55.402024Z",
     "start_time": "2025-08-08T14:44:00.692980Z"
    }
   },
   "cell_type": "code",
   "source": [
    "df_1.to_csv('../datas/E4_3/train.csv')\n",
    "df_2.to_csv('../datas/E4_3/test.csv')\n",
    "df_3.to_csv('../datas/E4_3/play.csv')"
   ],
   "id": "aae8e6f711d4f8f1",
   "outputs": [],
   "execution_count": 13
  },
  {
   "metadata": {
    "ExecuteTime": {
     "end_time": "2025-08-08T15:45:27.416229Z",
     "start_time": "2025-08-08T15:45:26.828974Z"
    }
   },
   "cell_type": "code",
   "source": "df_3['TEMPERATURE_REPRISE [R]']",
   "id": "f4827f4832cf3249",
   "outputs": [
    {
     "ename": "KeyError",
     "evalue": "'TEMPERATURE_REPRISE [R]'",
     "output_type": "error",
     "traceback": [
      "\u001B[31m---------------------------------------------------------------------------\u001B[39m",
      "\u001B[31mKeyError\u001B[39m                                  Traceback (most recent call last)",
      "\u001B[36mFile \u001B[39m\u001B[32m~/octobrain/.venv/lib/python3.11/site-packages/pandas/core/indexes/base.py:3805\u001B[39m, in \u001B[36mIndex.get_loc\u001B[39m\u001B[34m(self, key)\u001B[39m\n\u001B[32m   3804\u001B[39m \u001B[38;5;28;01mtry\u001B[39;00m:\n\u001B[32m-> \u001B[39m\u001B[32m3805\u001B[39m     \u001B[38;5;28;01mreturn\u001B[39;00m \u001B[38;5;28;43mself\u001B[39;49m\u001B[43m.\u001B[49m\u001B[43m_engine\u001B[49m\u001B[43m.\u001B[49m\u001B[43mget_loc\u001B[49m\u001B[43m(\u001B[49m\u001B[43mcasted_key\u001B[49m\u001B[43m)\u001B[49m\n\u001B[32m   3806\u001B[39m \u001B[38;5;28;01mexcept\u001B[39;00m \u001B[38;5;167;01mKeyError\u001B[39;00m \u001B[38;5;28;01mas\u001B[39;00m err:\n",
      "\u001B[36mFile \u001B[39m\u001B[32mindex.pyx:167\u001B[39m, in \u001B[36mpandas._libs.index.IndexEngine.get_loc\u001B[39m\u001B[34m()\u001B[39m\n",
      "\u001B[36mFile \u001B[39m\u001B[32mindex.pyx:196\u001B[39m, in \u001B[36mpandas._libs.index.IndexEngine.get_loc\u001B[39m\u001B[34m()\u001B[39m\n",
      "\u001B[36mFile \u001B[39m\u001B[32mpandas/_libs/hashtable_class_helper.pxi:7081\u001B[39m, in \u001B[36mpandas._libs.hashtable.PyObjectHashTable.get_item\u001B[39m\u001B[34m()\u001B[39m\n",
      "\u001B[36mFile \u001B[39m\u001B[32mpandas/_libs/hashtable_class_helper.pxi:7089\u001B[39m, in \u001B[36mpandas._libs.hashtable.PyObjectHashTable.get_item\u001B[39m\u001B[34m()\u001B[39m\n",
      "\u001B[31mKeyError\u001B[39m: 'TEMPERATURE_REPRISE [R]'",
      "\nThe above exception was the direct cause of the following exception:\n",
      "\u001B[31mKeyError\u001B[39m                                  Traceback (most recent call last)",
      "\u001B[36mCell\u001B[39m\u001B[36m \u001B[39m\u001B[32mIn[17]\u001B[39m\u001B[32m, line 1\u001B[39m\n\u001B[32m----> \u001B[39m\u001B[32m1\u001B[39m \u001B[43mdf_3\u001B[49m\u001B[43m[\u001B[49m\u001B[33;43m'\u001B[39;49m\u001B[33;43mTEMPERATURE_REPRISE [R]\u001B[39;49m\u001B[33;43m'\u001B[39;49m\u001B[43m]\u001B[49m\n",
      "\u001B[36mFile \u001B[39m\u001B[32m~/octobrain/.venv/lib/python3.11/site-packages/pandas/core/frame.py:4102\u001B[39m, in \u001B[36mDataFrame.__getitem__\u001B[39m\u001B[34m(self, key)\u001B[39m\n\u001B[32m   4100\u001B[39m \u001B[38;5;28;01mif\u001B[39;00m \u001B[38;5;28mself\u001B[39m.columns.nlevels > \u001B[32m1\u001B[39m:\n\u001B[32m   4101\u001B[39m     \u001B[38;5;28;01mreturn\u001B[39;00m \u001B[38;5;28mself\u001B[39m._getitem_multilevel(key)\n\u001B[32m-> \u001B[39m\u001B[32m4102\u001B[39m indexer = \u001B[38;5;28;43mself\u001B[39;49m\u001B[43m.\u001B[49m\u001B[43mcolumns\u001B[49m\u001B[43m.\u001B[49m\u001B[43mget_loc\u001B[49m\u001B[43m(\u001B[49m\u001B[43mkey\u001B[49m\u001B[43m)\u001B[49m\n\u001B[32m   4103\u001B[39m \u001B[38;5;28;01mif\u001B[39;00m is_integer(indexer):\n\u001B[32m   4104\u001B[39m     indexer = [indexer]\n",
      "\u001B[36mFile \u001B[39m\u001B[32m~/octobrain/.venv/lib/python3.11/site-packages/pandas/core/indexes/base.py:3812\u001B[39m, in \u001B[36mIndex.get_loc\u001B[39m\u001B[34m(self, key)\u001B[39m\n\u001B[32m   3807\u001B[39m     \u001B[38;5;28;01mif\u001B[39;00m \u001B[38;5;28misinstance\u001B[39m(casted_key, \u001B[38;5;28mslice\u001B[39m) \u001B[38;5;129;01mor\u001B[39;00m (\n\u001B[32m   3808\u001B[39m         \u001B[38;5;28misinstance\u001B[39m(casted_key, abc.Iterable)\n\u001B[32m   3809\u001B[39m         \u001B[38;5;129;01mand\u001B[39;00m \u001B[38;5;28many\u001B[39m(\u001B[38;5;28misinstance\u001B[39m(x, \u001B[38;5;28mslice\u001B[39m) \u001B[38;5;28;01mfor\u001B[39;00m x \u001B[38;5;129;01min\u001B[39;00m casted_key)\n\u001B[32m   3810\u001B[39m     ):\n\u001B[32m   3811\u001B[39m         \u001B[38;5;28;01mraise\u001B[39;00m InvalidIndexError(key)\n\u001B[32m-> \u001B[39m\u001B[32m3812\u001B[39m     \u001B[38;5;28;01mraise\u001B[39;00m \u001B[38;5;167;01mKeyError\u001B[39;00m(key) \u001B[38;5;28;01mfrom\u001B[39;00m\u001B[38;5;250m \u001B[39m\u001B[34;01merr\u001B[39;00m\n\u001B[32m   3813\u001B[39m \u001B[38;5;28;01mexcept\u001B[39;00m \u001B[38;5;167;01mTypeError\u001B[39;00m:\n\u001B[32m   3814\u001B[39m     \u001B[38;5;66;03m# If we have a listlike key, _check_indexing_error will raise\u001B[39;00m\n\u001B[32m   3815\u001B[39m     \u001B[38;5;66;03m#  InvalidIndexError. Otherwise we fall through and re-raise\u001B[39;00m\n\u001B[32m   3816\u001B[39m     \u001B[38;5;66;03m#  the TypeError.\u001B[39;00m\n\u001B[32m   3817\u001B[39m     \u001B[38;5;28mself\u001B[39m._check_indexing_error(key)\n",
      "\u001B[31mKeyError\u001B[39m: 'TEMPERATURE_REPRISE [R]'"
     ]
    }
   ],
   "execution_count": 17
  }
 ],
 "metadata": {
  "kernelspec": {
   "display_name": "Python 3",
   "language": "python",
   "name": "python3"
  },
  "language_info": {
   "codemirror_mode": {
    "name": "ipython",
    "version": 2
   },
   "file_extension": ".py",
   "mimetype": "text/x-python",
   "name": "python",
   "nbconvert_exporter": "python",
   "pygments_lexer": "ipython2",
   "version": "2.7.6"
  }
 },
 "nbformat": 4,
 "nbformat_minor": 5
}
