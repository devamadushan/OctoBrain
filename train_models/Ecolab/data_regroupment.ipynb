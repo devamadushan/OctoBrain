{
 "cells": [
  {
   "cell_type": "code",
   "id": "initial_id",
   "metadata": {
    "collapsed": true,
    "ExecuteTime": {
     "end_time": "2025-07-08T12:03:09.812678Z",
     "start_time": "2025-07-08T12:03:09.809120Z"
    }
   },
   "source": "import pandas as pd\n",
   "outputs": [],
   "execution_count": 1
  },
  {
   "metadata": {
    "ExecuteTime": {
     "end_time": "2025-06-30T14:38:11.823426Z",
     "start_time": "2025-06-30T14:38:02.194973Z"
    }
   },
   "cell_type": "code",
   "source": [
    "df_1 = pd.read_csv('../datas/ECOLAB_3/C3/C3_1.csv' , sep=';', low_memory=False)\n",
    "df_1['datatime'] = pd.to_datetime(df_1['Date'] + ' ' +df_1['Time'] , dayfirst=True)\n",
    "df_1 = df_1.drop(columns=['Date', 'Time' , 'Breaks'])\n",
    "df_1.to_csv('../datas/ECOLAB_3/C3/C3_1.csv')\n",
    "\n",
    "df_2 = pd.read_csv('../datas/ECOLAB_3/C3/C3_2.csv' , sep=';', low_memory=False)\n",
    "df_2['datatime'] = pd.to_datetime(df_2['Date'] + ' ' +df_2['Time'] , dayfirst=True)\n",
    "df_2 = df_2.drop(columns=['Date', 'Time' , 'Breaks'])\n",
    "df_2.to_csv('../datas/ECOLAB_3/C3/C3_2.csv')\n",
    "\n",
    "df_3 = pd.read_csv('../datas/ECOLAB_3/C3/C3_3.csv' , sep=';', low_memory=False)\n",
    "df_3['datatime'] = pd.to_datetime(df_3['Date'] + ' ' +df_3['Time'] , dayfirst=True)\n",
    "df_3 = df_3.drop(columns=['Date', 'Time' , 'Breaks'])\n",
    "df_3.to_csv('../datas/ECOLAB_3/C3/C3_3.csv')\n",
    "\n",
    "df_4 = pd.read_csv('../datas/ECOLAB_3/C3/C3_4.csv' , sep=';', low_memory=False)\n",
    "df_4['datatime'] = pd.to_datetime(df_4['Date'] + ' ' +df_4['Time'] , dayfirst=True)\n",
    "df_4 = df_4.drop(columns=['Date', 'Time' , 'Breaks'])\n",
    "df_4.to_csv('../datas/ECOLAB_3/C3/C3_4.csv')\n",
    "\n",
    "df_5 = pd.read_csv('../datas/ECOLAB_3/C3/C3_5.csv' , sep=';', low_memory=False)\n",
    "df_5['datatime'] = pd.to_datetime(df_5['Date'] + ' ' +df_5['Time'] , dayfirst=True)\n",
    "df_5 = df_5.drop(columns=['Date', 'Time' , 'Breaks'])\n",
    "df_5.to_csv('../datas/ECOLAB_3/C3/C3_5.csv')\n",
    "\n",
    "df_6 = pd.read_csv('../datas/ECOLAB_3/C3/C3_6.csv' , sep=';', low_memory=False)\n",
    "df_6['datatime'] = pd.to_datetime(df_6['Date'] + ' ' +df_6['Time'] , dayfirst=True)\n",
    "df_6 = df_6.drop(columns=['Date', 'Time' , 'Breaks'])\n",
    "df_6.to_csv('../datas/ECOLAB_3/C3/C3_6.csv')\n",
    "\n",
    "df_7 = pd.read_csv('../datas/ECOLAB_3/C3/C3_7.csv' , sep=';', low_memory=False)\n",
    "df_7['datatime'] = pd.to_datetime(df_7['Date'] + ' ' +df_7['Time'] , dayfirst=True)\n",
    "df_7 = df_7.drop(columns=['Date', 'Time' , 'Breaks'])\n",
    "df_7.to_csv('../datas/ECOLAB_3/C3/C3_7.csv')\n",
    "\n",
    "df_8 = pd.read_csv('../datas/ECOLAB_3/C3/C3_8.csv' , sep=';', low_memory=False)\n",
    "df_8['datatime'] = pd.to_datetime(df_8['Date'] + ' ' +df_8['Time'] , dayfirst=True)\n",
    "df_8 = df_8.drop(columns=['Date', 'Time' , 'Breaks'])\n",
    "df_8.to_csv('../datas/ECOLAB_3/C3/C3_8.csv')"
   ],
   "id": "2cb3c58489deb057",
   "outputs": [],
   "execution_count": 2
  },
  {
   "metadata": {
    "ExecuteTime": {
     "end_time": "2025-07-08T12:07:37.717391Z",
     "start_time": "2025-07-08T12:07:36.159575Z"
    }
   },
   "cell_type": "code",
   "source": [
    "df_1 = pd.read_csv('../datas/ECOLAB_4/test/C1.csv' , sep=';', low_memory=False)\n",
    "df_1['datatime'] = pd.to_datetime(df_1['Date'] + ' ' +df_1['Time'] , dayfirst=True)\n",
    "df_1 = df_1.drop(columns=['Date', 'Time' , 'Breaks'])\n",
    "df_1.to_csv('../datas/ECOLAB_4/test/C1.csv')\n",
    "\n",
    "df_2 = pd.read_csv('../datas/ECOLAB_4/test/C2.csv' , sep=';', low_memory=False)\n",
    "df_2['datatime'] = pd.to_datetime(df_2['Date'] + ' ' +df_2['Time'] , dayfirst=True)\n",
    "df_2 = df_2.drop(columns=['Date', 'Time' , 'Breaks'])\n",
    "df_2.to_csv('../datas/ECOLAB_4/test/C2.csv')\n",
    "\n",
    "df_3 = pd.read_csv('../datas/ECOLAB_4/test/C3.csv' , sep=';', low_memory=False)\n",
    "df_3['datatime'] = pd.to_datetime(df_3['Date'] + ' ' +df_3['Time'] , dayfirst=True)\n",
    "df_3 = df_3.drop(columns=['Date', 'Time' , 'Breaks'])\n",
    "df_3.to_csv('../datas/ECOLAB_4/test/C3.csv')\n",
    "\n",
    "df_4 = pd.read_csv('../datas/ECOLAB_4/test/C4.csv' , sep=';', low_memory=False)\n",
    "df_4['datatime'] = pd.to_datetime(df_4['Date'] + ' ' +df_4['Time'] , dayfirst=True)\n",
    "df_4 = df_4.drop(columns=['Date', 'Time' , 'Breaks'])\n",
    "df_4.to_csv('../datas/ECOLAB_4/test/C4.csv')"
   ],
   "id": "c5c32db560322a22",
   "outputs": [],
   "execution_count": 13
  },
  {
   "metadata": {
    "ExecuteTime": {
     "end_time": "2025-07-08T11:59:45.353964Z",
     "start_time": "2025-07-08T11:59:44.270917Z"
    }
   },
   "cell_type": "code",
   "source": [
    "df_4 = pd.read_csv('../datas/ECOLAB_4/test/C4.csv' , sep=';', low_memory=False)\n",
    "df_4['datatime'] = pd.to_datetime(df_4['Date'] + ' ' +df_4['Time'] , dayfirst=True)\n",
    "df_4 = df_4.drop(columns=['Date', 'Time' , 'Breaks'])\n",
    "df_4.to_csv('../datas/ECOLAB_4/test/C4.csv')"
   ],
   "id": "3e7b41eea691598c",
   "outputs": [
    {
     "ename": "KeyError",
     "evalue": "'Date'",
     "output_type": "error",
     "traceback": [
      "\u001B[31m---------------------------------------------------------------------------\u001B[39m",
      "\u001B[31mKeyError\u001B[39m                                  Traceback (most recent call last)",
      "\u001B[36mFile \u001B[39m\u001B[32m~/octobrain/.venv/lib/python3.11/site-packages/pandas/core/indexes/base.py:3805\u001B[39m, in \u001B[36mIndex.get_loc\u001B[39m\u001B[34m(self, key)\u001B[39m\n\u001B[32m   3804\u001B[39m \u001B[38;5;28;01mtry\u001B[39;00m:\n\u001B[32m-> \u001B[39m\u001B[32m3805\u001B[39m     \u001B[38;5;28;01mreturn\u001B[39;00m \u001B[38;5;28;43mself\u001B[39;49m\u001B[43m.\u001B[49m\u001B[43m_engine\u001B[49m\u001B[43m.\u001B[49m\u001B[43mget_loc\u001B[49m\u001B[43m(\u001B[49m\u001B[43mcasted_key\u001B[49m\u001B[43m)\u001B[49m\n\u001B[32m   3806\u001B[39m \u001B[38;5;28;01mexcept\u001B[39;00m \u001B[38;5;167;01mKeyError\u001B[39;00m \u001B[38;5;28;01mas\u001B[39;00m err:\n",
      "\u001B[36mFile \u001B[39m\u001B[32mindex.pyx:167\u001B[39m, in \u001B[36mpandas._libs.index.IndexEngine.get_loc\u001B[39m\u001B[34m()\u001B[39m\n",
      "\u001B[36mFile \u001B[39m\u001B[32mindex.pyx:196\u001B[39m, in \u001B[36mpandas._libs.index.IndexEngine.get_loc\u001B[39m\u001B[34m()\u001B[39m\n",
      "\u001B[36mFile \u001B[39m\u001B[32mpandas/_libs/hashtable_class_helper.pxi:7081\u001B[39m, in \u001B[36mpandas._libs.hashtable.PyObjectHashTable.get_item\u001B[39m\u001B[34m()\u001B[39m\n",
      "\u001B[36mFile \u001B[39m\u001B[32mpandas/_libs/hashtable_class_helper.pxi:7089\u001B[39m, in \u001B[36mpandas._libs.hashtable.PyObjectHashTable.get_item\u001B[39m\u001B[34m()\u001B[39m\n",
      "\u001B[31mKeyError\u001B[39m: 'Date'",
      "\nThe above exception was the direct cause of the following exception:\n",
      "\u001B[31mKeyError\u001B[39m                                  Traceback (most recent call last)",
      "\u001B[36mCell\u001B[39m\u001B[36m \u001B[39m\u001B[32mIn[4]\u001B[39m\u001B[32m, line 2\u001B[39m\n\u001B[32m      1\u001B[39m df_4 = pd.read_csv(\u001B[33m'\u001B[39m\u001B[33m../datas/ECOLAB_4/test/C4.csv\u001B[39m\u001B[33m'\u001B[39m , sep=\u001B[33m'\u001B[39m\u001B[33m;\u001B[39m\u001B[33m'\u001B[39m, low_memory=\u001B[38;5;28;01mFalse\u001B[39;00m)\n\u001B[32m----> \u001B[39m\u001B[32m2\u001B[39m df_4[\u001B[33m'\u001B[39m\u001B[33mdatatime\u001B[39m\u001B[33m'\u001B[39m] = pd.to_datetime(\u001B[43mdf_4\u001B[49m\u001B[43m[\u001B[49m\u001B[33;43m'\u001B[39;49m\u001B[33;43mDate\u001B[39;49m\u001B[33;43m'\u001B[39;49m\u001B[43m]\u001B[49m + \u001B[33m'\u001B[39m\u001B[33m \u001B[39m\u001B[33m'\u001B[39m +df_4[\u001B[33m'\u001B[39m\u001B[33mTime\u001B[39m\u001B[33m'\u001B[39m] , dayfirst=\u001B[38;5;28;01mTrue\u001B[39;00m)\n\u001B[32m      3\u001B[39m df_4 = df_4.drop(columns=[\u001B[33m'\u001B[39m\u001B[33mDate\u001B[39m\u001B[33m'\u001B[39m, \u001B[33m'\u001B[39m\u001B[33mTime\u001B[39m\u001B[33m'\u001B[39m , \u001B[33m'\u001B[39m\u001B[33mBreaks\u001B[39m\u001B[33m'\u001B[39m])\n\u001B[32m      4\u001B[39m df_4.to_csv(\u001B[33m'\u001B[39m\u001B[33m../datas/ECOLAB_4/test/C4.csv\u001B[39m\u001B[33m'\u001B[39m)\n",
      "\u001B[36mFile \u001B[39m\u001B[32m~/octobrain/.venv/lib/python3.11/site-packages/pandas/core/frame.py:4102\u001B[39m, in \u001B[36mDataFrame.__getitem__\u001B[39m\u001B[34m(self, key)\u001B[39m\n\u001B[32m   4100\u001B[39m \u001B[38;5;28;01mif\u001B[39;00m \u001B[38;5;28mself\u001B[39m.columns.nlevels > \u001B[32m1\u001B[39m:\n\u001B[32m   4101\u001B[39m     \u001B[38;5;28;01mreturn\u001B[39;00m \u001B[38;5;28mself\u001B[39m._getitem_multilevel(key)\n\u001B[32m-> \u001B[39m\u001B[32m4102\u001B[39m indexer = \u001B[38;5;28;43mself\u001B[39;49m\u001B[43m.\u001B[49m\u001B[43mcolumns\u001B[49m\u001B[43m.\u001B[49m\u001B[43mget_loc\u001B[49m\u001B[43m(\u001B[49m\u001B[43mkey\u001B[49m\u001B[43m)\u001B[49m\n\u001B[32m   4103\u001B[39m \u001B[38;5;28;01mif\u001B[39;00m is_integer(indexer):\n\u001B[32m   4104\u001B[39m     indexer = [indexer]\n",
      "\u001B[36mFile \u001B[39m\u001B[32m~/octobrain/.venv/lib/python3.11/site-packages/pandas/core/indexes/base.py:3812\u001B[39m, in \u001B[36mIndex.get_loc\u001B[39m\u001B[34m(self, key)\u001B[39m\n\u001B[32m   3807\u001B[39m     \u001B[38;5;28;01mif\u001B[39;00m \u001B[38;5;28misinstance\u001B[39m(casted_key, \u001B[38;5;28mslice\u001B[39m) \u001B[38;5;129;01mor\u001B[39;00m (\n\u001B[32m   3808\u001B[39m         \u001B[38;5;28misinstance\u001B[39m(casted_key, abc.Iterable)\n\u001B[32m   3809\u001B[39m         \u001B[38;5;129;01mand\u001B[39;00m \u001B[38;5;28many\u001B[39m(\u001B[38;5;28misinstance\u001B[39m(x, \u001B[38;5;28mslice\u001B[39m) \u001B[38;5;28;01mfor\u001B[39;00m x \u001B[38;5;129;01min\u001B[39;00m casted_key)\n\u001B[32m   3810\u001B[39m     ):\n\u001B[32m   3811\u001B[39m         \u001B[38;5;28;01mraise\u001B[39;00m InvalidIndexError(key)\n\u001B[32m-> \u001B[39m\u001B[32m3812\u001B[39m     \u001B[38;5;28;01mraise\u001B[39;00m \u001B[38;5;167;01mKeyError\u001B[39;00m(key) \u001B[38;5;28;01mfrom\u001B[39;00m\u001B[38;5;250m \u001B[39m\u001B[34;01merr\u001B[39;00m\n\u001B[32m   3813\u001B[39m \u001B[38;5;28;01mexcept\u001B[39;00m \u001B[38;5;167;01mTypeError\u001B[39;00m:\n\u001B[32m   3814\u001B[39m     \u001B[38;5;66;03m# If we have a listlike key, _check_indexing_error will raise\u001B[39;00m\n\u001B[32m   3815\u001B[39m     \u001B[38;5;66;03m#  InvalidIndexError. Otherwise we fall through and re-raise\u001B[39;00m\n\u001B[32m   3816\u001B[39m     \u001B[38;5;66;03m#  the TypeError.\u001B[39;00m\n\u001B[32m   3817\u001B[39m     \u001B[38;5;28mself\u001B[39m._check_indexing_error(key)\n",
      "\u001B[31mKeyError\u001B[39m: 'Date'"
     ]
    }
   ],
   "execution_count": 4
  },
  {
   "metadata": {
    "ExecuteTime": {
     "end_time": "2025-07-08T12:10:09.614780Z",
     "start_time": "2025-07-08T12:10:09.604516Z"
    }
   },
   "cell_type": "code",
   "source": "print(df_4['datatime'])",
   "id": "7a2f1509a09bcbac",
   "outputs": [
    {
     "name": "stdout",
     "output_type": "stream",
     "text": [
      "0         2025-02-05 01:00:00\n",
      "1         2025-02-05 01:00:15\n",
      "2         2025-02-05 01:00:16\n",
      "3         2025-02-05 01:00:45\n",
      "4         2025-02-05 01:00:46\n",
      "                 ...         \n",
      "213865    2025-03-18 15:13:15\n",
      "213866    2025-03-18 15:13:44\n",
      "213867    2025-03-18 15:13:45\n",
      "213868    2025-03-18 15:14:14\n",
      "213869    2025-03-18 15:14:15\n",
      "Name: datatime, Length: 213870, dtype: object\n"
     ]
    }
   ],
   "execution_count": 21
  },
  {
   "metadata": {
    "ExecuteTime": {
     "end_time": "2025-07-08T12:09:53.604749Z",
     "start_time": "2025-07-08T12:09:53.265775Z"
    }
   },
   "cell_type": "code",
   "source": "df_4 =  pd.read_csv('../datas/ECOLAB_4/test/C4.csv' , sep=',', low_memory=False)",
   "id": "b96c9e4471ea794c",
   "outputs": [],
   "execution_count": 19
  },
  {
   "metadata": {
    "ExecuteTime": {
     "end_time": "2025-07-08T12:08:35.344030Z",
     "start_time": "2025-07-08T12:08:35.319418Z"
    }
   },
   "cell_type": "code",
   "source": [
    "df_1 =  pd.read_csv('../datas/ECOLAB_4/test/C1.csv' , sep=';', low_memory=False)\n",
    "print(df_1)\n"
   ],
   "id": "949f1710ec576785",
   "outputs": [
    {
     "name": "stdout",
     "output_type": "stream",
     "text": [
      "      ,CONSIGNE_ROTATION [I],CONSIGNE_ECLAIRAGE [I],CONSIGNE_TEMP_FOND [R],TEMPERATURE_REPRISE [R],CONSIGNE_VENTILATION [I],HYGROMETRIE_CONSIGNE [I],TEMPERATURE_CONSIGNE [R],HYGROMETRIE_SOUFFLAGE [R],TEMPERATURE_SOUFFLAGE [R],datatime\n",
      "0             0,0,0,23,0,60,80,0,0,0,2025-07-04 10:34:08                                                                                                                                                                                  \n",
      "1      1,0,0,23,\"22,799999\",60,80,0,66,\"22,9\",2025-07...                                                                                                                                                                                  \n",
      "2             2,0,0,23,0,60,80,0,0,0,2025-07-04 10:34:52                                                                                                                                                                                  \n",
      "3             3,0,0,23,0,60,80,0,0,0,2025-07-04 10:35:54                                                                                                                                                                                  \n",
      "4      4,0,0,23,\"22,799999\",60,80,0,64,\"22,9\",2025-07...                                                                                                                                                                                  \n",
      "...                                                  ...                                                                                                                                                                                  \n",
      "16839  16839,0,0,23,\"21,799999\",60,80,23,42,24,2025-0...                                                                                                                                                                                  \n",
      "16840  16840,0,0,23,\"21,799999\",60,80,23,42,24,2025-0...                                                                                                                                                                                  \n",
      "16841  16841,0,0,23,\"22,5\",60,80,23,41,\"25,200001\",20...                                                                                                                                                                                  \n",
      "16842  16842,0,0,23,\"23,200001\",60,80,23,40,\"25,70000...                                                                                                                                                                                  \n",
      "16843  16843,0,0,23,\"23,4\",60,80,23,40,\"25,6\",2025-07...                                                                                                                                                                                  \n",
      "\n",
      "[16844 rows x 1 columns]\n"
     ]
    }
   ],
   "execution_count": 16
  }
 ],
 "metadata": {
  "kernelspec": {
   "display_name": "Python 3",
   "language": "python",
   "name": "python3"
  },
  "language_info": {
   "codemirror_mode": {
    "name": "ipython",
    "version": 2
   },
   "file_extension": ".py",
   "mimetype": "text/x-python",
   "name": "python",
   "nbconvert_exporter": "python",
   "pygments_lexer": "ipython2",
   "version": "2.7.6"
  }
 },
 "nbformat": 4,
 "nbformat_minor": 5
}
