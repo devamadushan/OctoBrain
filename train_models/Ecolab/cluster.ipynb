{
 "cells": [
  {
   "cell_type": "code",
   "id": "initial_id",
   "metadata": {
    "collapsed": true,
    "ExecuteTime": {
     "end_time": "2025-07-08T19:49:39.744232Z",
     "start_time": "2025-07-08T19:49:39.737301Z"
    }
   },
   "source": "import pandas as pd",
   "outputs": [],
   "execution_count": 1
  },
  {
   "metadata": {
    "ExecuteTime": {
     "end_time": "2025-07-08T19:35:49.395353Z",
     "start_time": "2025-07-08T19:35:36.446062Z"
    }
   },
   "cell_type": "code",
   "source": "df = pd.read_csv('../datas/ECOLAB_3/E3_all_alert_copy.csv' , sep=',')",
   "id": "bef29ad029999625",
   "outputs": [
    {
     "ename": "KeyboardInterrupt",
     "evalue": "",
     "output_type": "error",
     "traceback": [
      "\u001B[31m---------------------------------------------------------------------------\u001B[39m",
      "\u001B[31mKeyboardInterrupt\u001B[39m                         Traceback (most recent call last)",
      "\u001B[36mCell\u001B[39m\u001B[36m \u001B[39m\u001B[32mIn[7]\u001B[39m\u001B[32m, line 1\u001B[39m\n\u001B[32m----> \u001B[39m\u001B[32m1\u001B[39m df = \u001B[43mpd\u001B[49m\u001B[43m.\u001B[49m\u001B[43mread_csv\u001B[49m\u001B[43m(\u001B[49m\u001B[33;43m'\u001B[39;49m\u001B[33;43m../datas/ECOLAB_3/E3_all_alert_copy.csv\u001B[39;49m\u001B[33;43m'\u001B[39;49m\u001B[43m \u001B[49m\u001B[43m,\u001B[49m\u001B[43m \u001B[49m\u001B[43msep\u001B[49m\u001B[43m=\u001B[49m\u001B[33;43m'\u001B[39;49m\u001B[33;43m,\u001B[39;49m\u001B[33;43m'\u001B[39;49m\u001B[43m)\u001B[49m\n",
      "\u001B[36mFile \u001B[39m\u001B[32m~/octobrain/.venv/lib/python3.11/site-packages/pandas/io/parsers/readers.py:1026\u001B[39m, in \u001B[36mread_csv\u001B[39m\u001B[34m(filepath_or_buffer, sep, delimiter, header, names, index_col, usecols, dtype, engine, converters, true_values, false_values, skipinitialspace, skiprows, skipfooter, nrows, na_values, keep_default_na, na_filter, verbose, skip_blank_lines, parse_dates, infer_datetime_format, keep_date_col, date_parser, date_format, dayfirst, cache_dates, iterator, chunksize, compression, thousands, decimal, lineterminator, quotechar, quoting, doublequote, escapechar, comment, encoding, encoding_errors, dialect, on_bad_lines, delim_whitespace, low_memory, memory_map, float_precision, storage_options, dtype_backend)\u001B[39m\n\u001B[32m   1013\u001B[39m kwds_defaults = _refine_defaults_read(\n\u001B[32m   1014\u001B[39m     dialect,\n\u001B[32m   1015\u001B[39m     delimiter,\n\u001B[32m   (...)\u001B[39m\u001B[32m   1022\u001B[39m     dtype_backend=dtype_backend,\n\u001B[32m   1023\u001B[39m )\n\u001B[32m   1024\u001B[39m kwds.update(kwds_defaults)\n\u001B[32m-> \u001B[39m\u001B[32m1026\u001B[39m \u001B[38;5;28;01mreturn\u001B[39;00m \u001B[43m_read\u001B[49m\u001B[43m(\u001B[49m\u001B[43mfilepath_or_buffer\u001B[49m\u001B[43m,\u001B[49m\u001B[43m \u001B[49m\u001B[43mkwds\u001B[49m\u001B[43m)\u001B[49m\n",
      "\u001B[36mFile \u001B[39m\u001B[32m~/octobrain/.venv/lib/python3.11/site-packages/pandas/io/parsers/readers.py:626\u001B[39m, in \u001B[36m_read\u001B[39m\u001B[34m(filepath_or_buffer, kwds)\u001B[39m\n\u001B[32m    623\u001B[39m     \u001B[38;5;28;01mreturn\u001B[39;00m parser\n\u001B[32m    625\u001B[39m \u001B[38;5;28;01mwith\u001B[39;00m parser:\n\u001B[32m--> \u001B[39m\u001B[32m626\u001B[39m     \u001B[38;5;28;01mreturn\u001B[39;00m \u001B[43mparser\u001B[49m\u001B[43m.\u001B[49m\u001B[43mread\u001B[49m\u001B[43m(\u001B[49m\u001B[43mnrows\u001B[49m\u001B[43m)\u001B[49m\n",
      "\u001B[36mFile \u001B[39m\u001B[32m~/octobrain/.venv/lib/python3.11/site-packages/pandas/io/parsers/readers.py:1968\u001B[39m, in \u001B[36mTextFileReader.read\u001B[39m\u001B[34m(self, nrows)\u001B[39m\n\u001B[32m   1965\u001B[39m     \u001B[38;5;28;01melse\u001B[39;00m:\n\u001B[32m   1966\u001B[39m         new_col_dict = col_dict\n\u001B[32m-> \u001B[39m\u001B[32m1968\u001B[39m     df = \u001B[43mDataFrame\u001B[49m\u001B[43m(\u001B[49m\n\u001B[32m   1969\u001B[39m \u001B[43m        \u001B[49m\u001B[43mnew_col_dict\u001B[49m\u001B[43m,\u001B[49m\n\u001B[32m   1970\u001B[39m \u001B[43m        \u001B[49m\u001B[43mcolumns\u001B[49m\u001B[43m=\u001B[49m\u001B[43mcolumns\u001B[49m\u001B[43m,\u001B[49m\n\u001B[32m   1971\u001B[39m \u001B[43m        \u001B[49m\u001B[43mindex\u001B[49m\u001B[43m=\u001B[49m\u001B[43mindex\u001B[49m\u001B[43m,\u001B[49m\n\u001B[32m   1972\u001B[39m \u001B[43m        \u001B[49m\u001B[43mcopy\u001B[49m\u001B[43m=\u001B[49m\u001B[38;5;129;43;01mnot\u001B[39;49;00m\u001B[43m \u001B[49m\u001B[43musing_copy_on_write\u001B[49m\u001B[43m(\u001B[49m\u001B[43m)\u001B[49m\u001B[43m,\u001B[49m\n\u001B[32m   1973\u001B[39m \u001B[43m    \u001B[49m\u001B[43m)\u001B[49m\n\u001B[32m   1975\u001B[39m     \u001B[38;5;28mself\u001B[39m._currow += new_rows\n\u001B[32m   1976\u001B[39m \u001B[38;5;28;01mreturn\u001B[39;00m df\n",
      "\u001B[36mFile \u001B[39m\u001B[32m~/octobrain/.venv/lib/python3.11/site-packages/pandas/core/frame.py:778\u001B[39m, in \u001B[36mDataFrame.__init__\u001B[39m\u001B[34m(self, data, index, columns, dtype, copy)\u001B[39m\n\u001B[32m    772\u001B[39m     mgr = \u001B[38;5;28mself\u001B[39m._init_mgr(\n\u001B[32m    773\u001B[39m         data, axes={\u001B[33m\"\u001B[39m\u001B[33mindex\u001B[39m\u001B[33m\"\u001B[39m: index, \u001B[33m\"\u001B[39m\u001B[33mcolumns\u001B[39m\u001B[33m\"\u001B[39m: columns}, dtype=dtype, copy=copy\n\u001B[32m    774\u001B[39m     )\n\u001B[32m    776\u001B[39m \u001B[38;5;28;01melif\u001B[39;00m \u001B[38;5;28misinstance\u001B[39m(data, \u001B[38;5;28mdict\u001B[39m):\n\u001B[32m    777\u001B[39m     \u001B[38;5;66;03m# GH#38939 de facto copy defaults to False only in non-dict cases\u001B[39;00m\n\u001B[32m--> \u001B[39m\u001B[32m778\u001B[39m     mgr = \u001B[43mdict_to_mgr\u001B[49m\u001B[43m(\u001B[49m\u001B[43mdata\u001B[49m\u001B[43m,\u001B[49m\u001B[43m \u001B[49m\u001B[43mindex\u001B[49m\u001B[43m,\u001B[49m\u001B[43m \u001B[49m\u001B[43mcolumns\u001B[49m\u001B[43m,\u001B[49m\u001B[43m \u001B[49m\u001B[43mdtype\u001B[49m\u001B[43m=\u001B[49m\u001B[43mdtype\u001B[49m\u001B[43m,\u001B[49m\u001B[43m \u001B[49m\u001B[43mcopy\u001B[49m\u001B[43m=\u001B[49m\u001B[43mcopy\u001B[49m\u001B[43m,\u001B[49m\u001B[43m \u001B[49m\u001B[43mtyp\u001B[49m\u001B[43m=\u001B[49m\u001B[43mmanager\u001B[49m\u001B[43m)\u001B[49m\n\u001B[32m    779\u001B[39m \u001B[38;5;28;01melif\u001B[39;00m \u001B[38;5;28misinstance\u001B[39m(data, ma.MaskedArray):\n\u001B[32m    780\u001B[39m     \u001B[38;5;28;01mfrom\u001B[39;00m\u001B[38;5;250m \u001B[39m\u001B[34;01mnumpy\u001B[39;00m\u001B[34;01m.\u001B[39;00m\u001B[34;01mma\u001B[39;00m\u001B[38;5;250m \u001B[39m\u001B[38;5;28;01mimport\u001B[39;00m mrecords\n",
      "\u001B[36mFile \u001B[39m\u001B[32m~/octobrain/.venv/lib/python3.11/site-packages/pandas/core/internals/construction.py:503\u001B[39m, in \u001B[36mdict_to_mgr\u001B[39m\u001B[34m(data, index, columns, dtype, typ, copy)\u001B[39m\n\u001B[32m    499\u001B[39m     \u001B[38;5;28;01melse\u001B[39;00m:\n\u001B[32m    500\u001B[39m         \u001B[38;5;66;03m# dtype check to exclude e.g. range objects, scalars\u001B[39;00m\n\u001B[32m    501\u001B[39m         arrays = [x.copy() \u001B[38;5;28;01mif\u001B[39;00m \u001B[38;5;28mhasattr\u001B[39m(x, \u001B[33m\"\u001B[39m\u001B[33mdtype\u001B[39m\u001B[33m\"\u001B[39m) \u001B[38;5;28;01melse\u001B[39;00m x \u001B[38;5;28;01mfor\u001B[39;00m x \u001B[38;5;129;01min\u001B[39;00m arrays]\n\u001B[32m--> \u001B[39m\u001B[32m503\u001B[39m \u001B[38;5;28;01mreturn\u001B[39;00m \u001B[43marrays_to_mgr\u001B[49m\u001B[43m(\u001B[49m\u001B[43marrays\u001B[49m\u001B[43m,\u001B[49m\u001B[43m \u001B[49m\u001B[43mcolumns\u001B[49m\u001B[43m,\u001B[49m\u001B[43m \u001B[49m\u001B[43mindex\u001B[49m\u001B[43m,\u001B[49m\u001B[43m \u001B[49m\u001B[43mdtype\u001B[49m\u001B[43m=\u001B[49m\u001B[43mdtype\u001B[49m\u001B[43m,\u001B[49m\u001B[43m \u001B[49m\u001B[43mtyp\u001B[49m\u001B[43m=\u001B[49m\u001B[43mtyp\u001B[49m\u001B[43m,\u001B[49m\u001B[43m \u001B[49m\u001B[43mconsolidate\u001B[49m\u001B[43m=\u001B[49m\u001B[43mcopy\u001B[49m\u001B[43m)\u001B[49m\n",
      "\u001B[36mFile \u001B[39m\u001B[32m~/octobrain/.venv/lib/python3.11/site-packages/pandas/core/internals/construction.py:152\u001B[39m, in \u001B[36marrays_to_mgr\u001B[39m\u001B[34m(arrays, columns, index, dtype, verify_integrity, typ, consolidate)\u001B[39m\n\u001B[32m    149\u001B[39m axes = [columns, index]\n\u001B[32m    151\u001B[39m \u001B[38;5;28;01mif\u001B[39;00m typ == \u001B[33m\"\u001B[39m\u001B[33mblock\u001B[39m\u001B[33m\"\u001B[39m:\n\u001B[32m--> \u001B[39m\u001B[32m152\u001B[39m     \u001B[38;5;28;01mreturn\u001B[39;00m \u001B[43mcreate_block_manager_from_column_arrays\u001B[49m\u001B[43m(\u001B[49m\n\u001B[32m    153\u001B[39m \u001B[43m        \u001B[49m\u001B[43marrays\u001B[49m\u001B[43m,\u001B[49m\u001B[43m \u001B[49m\u001B[43maxes\u001B[49m\u001B[43m,\u001B[49m\u001B[43m \u001B[49m\u001B[43mconsolidate\u001B[49m\u001B[43m=\u001B[49m\u001B[43mconsolidate\u001B[49m\u001B[43m,\u001B[49m\u001B[43m \u001B[49m\u001B[43mrefs\u001B[49m\u001B[43m=\u001B[49m\u001B[43mrefs\u001B[49m\n\u001B[32m    154\u001B[39m \u001B[43m    \u001B[49m\u001B[43m)\u001B[49m\n\u001B[32m    155\u001B[39m \u001B[38;5;28;01melif\u001B[39;00m typ == \u001B[33m\"\u001B[39m\u001B[33marray\u001B[39m\u001B[33m\"\u001B[39m:\n\u001B[32m    156\u001B[39m     \u001B[38;5;28;01mreturn\u001B[39;00m ArrayManager(arrays, [index, columns])\n",
      "\u001B[36mFile \u001B[39m\u001B[32m~/octobrain/.venv/lib/python3.11/site-packages/pandas/core/internals/managers.py:2139\u001B[39m, in \u001B[36mcreate_block_manager_from_column_arrays\u001B[39m\u001B[34m(arrays, axes, consolidate, refs)\u001B[39m\n\u001B[32m   2121\u001B[39m \u001B[38;5;28;01mdef\u001B[39;00m\u001B[38;5;250m \u001B[39m\u001B[34mcreate_block_manager_from_column_arrays\u001B[39m(\n\u001B[32m   2122\u001B[39m     arrays: \u001B[38;5;28mlist\u001B[39m[ArrayLike],\n\u001B[32m   2123\u001B[39m     axes: \u001B[38;5;28mlist\u001B[39m[Index],\n\u001B[32m   (...)\u001B[39m\u001B[32m   2135\u001B[39m     \u001B[38;5;66;03m# These last three are sufficient to allow us to safely pass\u001B[39;00m\n\u001B[32m   2136\u001B[39m     \u001B[38;5;66;03m#  verify_integrity=False below.\u001B[39;00m\n\u001B[32m   2138\u001B[39m     \u001B[38;5;28;01mtry\u001B[39;00m:\n\u001B[32m-> \u001B[39m\u001B[32m2139\u001B[39m         blocks = \u001B[43m_form_blocks\u001B[49m\u001B[43m(\u001B[49m\u001B[43marrays\u001B[49m\u001B[43m,\u001B[49m\u001B[43m \u001B[49m\u001B[43mconsolidate\u001B[49m\u001B[43m,\u001B[49m\u001B[43m \u001B[49m\u001B[43mrefs\u001B[49m\u001B[43m)\u001B[49m\n\u001B[32m   2140\u001B[39m         mgr = BlockManager(blocks, axes, verify_integrity=\u001B[38;5;28;01mFalse\u001B[39;00m)\n\u001B[32m   2141\u001B[39m     \u001B[38;5;28;01mexcept\u001B[39;00m \u001B[38;5;167;01mValueError\u001B[39;00m \u001B[38;5;28;01mas\u001B[39;00m e:\n",
      "\u001B[36mFile \u001B[39m\u001B[32m~/octobrain/.venv/lib/python3.11/site-packages/pandas/core/internals/managers.py:2212\u001B[39m, in \u001B[36m_form_blocks\u001B[39m\u001B[34m(arrays, consolidate, refs)\u001B[39m\n\u001B[32m   2209\u001B[39m \u001B[38;5;28;01mif\u001B[39;00m \u001B[38;5;28missubclass\u001B[39m(dtype.type, (\u001B[38;5;28mstr\u001B[39m, \u001B[38;5;28mbytes\u001B[39m)):\n\u001B[32m   2210\u001B[39m     dtype = np.dtype(\u001B[38;5;28mobject\u001B[39m)\n\u001B[32m-> \u001B[39m\u001B[32m2212\u001B[39m values, placement = \u001B[43m_stack_arrays\u001B[49m\u001B[43m(\u001B[49m\u001B[38;5;28;43mlist\u001B[39;49m\u001B[43m(\u001B[49m\u001B[43mtup_block\u001B[49m\u001B[43m)\u001B[49m\u001B[43m,\u001B[49m\u001B[43m \u001B[49m\u001B[43mdtype\u001B[49m\u001B[43m)\u001B[49m\n\u001B[32m   2213\u001B[39m \u001B[38;5;28;01mif\u001B[39;00m is_dtlike:\n\u001B[32m   2214\u001B[39m     values = ensure_wrapped_if_datetimelike(values)\n",
      "\u001B[36mFile \u001B[39m\u001B[32m~/octobrain/.venv/lib/python3.11/site-packages/pandas/core/internals/managers.py:2254\u001B[39m, in \u001B[36m_stack_arrays\u001B[39m\u001B[34m(tuples, dtype)\u001B[39m\n\u001B[32m   2252\u001B[39m stacked = np.empty(shape, dtype=dtype)\n\u001B[32m   2253\u001B[39m \u001B[38;5;28;01mfor\u001B[39;00m i, arr \u001B[38;5;129;01min\u001B[39;00m \u001B[38;5;28menumerate\u001B[39m(arrays):\n\u001B[32m-> \u001B[39m\u001B[32m2254\u001B[39m     stacked[i] = arr\n\u001B[32m   2256\u001B[39m \u001B[38;5;28;01mreturn\u001B[39;00m stacked, placement\n",
      "\u001B[31mKeyboardInterrupt\u001B[39m: "
     ]
    }
   ],
   "execution_count": 7
  },
  {
   "metadata": {},
   "cell_type": "code",
   "source": "len(df)",
   "id": "5251ba95fba25c25",
   "outputs": [],
   "execution_count": null
  },
  {
   "metadata": {},
   "cell_type": "code",
   "source": "",
   "id": "b80410c350b6954c",
   "outputs": [],
   "execution_count": null
  },
  {
   "metadata": {},
   "cell_type": "code",
   "source": [
    "for col in df.columns:\n",
    "    print(col)"
   ],
   "id": "128056c6921b208d",
   "outputs": [],
   "execution_count": null
  },
  {
   "metadata": {},
   "cell_type": "code",
   "source": [
    "df_bla = df.iloc[0:40000]\n",
    "df_bla['alerte_temp_C1']"
   ],
   "id": "4a3ccfe0a154a843",
   "outputs": [],
   "execution_count": null
  },
  {
   "metadata": {},
   "cell_type": "code",
   "source": [
    "import matplotlib.pyplot as plt\n",
    "df = pd.read_csv('../../datas/E4_3/E3_all_alert.csv', sep=',', low_memory=False)\n",
    "df['anomalie'] = 0\n",
    "df = df[df['datetime'] >= '2025-06-13 00:00:00']\n",
    "df = df[df['datetime'] <= '2025-06-16 03:00:00']\n",
    "df['anomalie'] = 1\n",
    "plt.figure(figsize=(10, 6))\n",
    "#plt.plot(df['TEMPERATURE_REPRISE [R]'], label=\"TEMPERATURE_REPRISE\", color=\"yellow\")\n",
    "#plt.plot(df['TEMPERATURE_CONSIGNE [R]'], label=\"TEMPERATURE_CONSIGNE\", color=\"green\")\n",
    "plt.plot(df['TEMPERATURE_MEG_FROID [R]_C4'], label=\"Ecart\", color=\"purple\")\n",
    "plt.plot(df['CONSIGNE_BALLON_FROID [R]_C4'], label=\"alterte\", color=\"red\", linestyle=\"dashed\")\n",
    "#plt.plot(df['DEFAUT_COMPRESSEUR_2 [B]_C4'], label=\"alterte\", color=\"green\", linestyle=\"dashed\")\n",
    "plt.legend()\n",
    "plt.show()"
   ],
   "id": "1b0e42c93cfb9df3",
   "outputs": [],
   "execution_count": null
  },
  {
   "metadata": {
    "ExecuteTime": {
     "end_time": "2025-08-12T14:18:42.274286Z",
     "start_time": "2025-08-12T14:18:42.264189Z"
    }
   },
   "cell_type": "code",
   "source": [
    "df['anomalie'] = 0\n",
    "df.loc[\n",
    "    (df['TEMPERATURE_MEG_FROID [R]_C4'] == 0) & (df['TEMPERATURE_MEG_CHAUD [R]_C4'] == 0),\n",
    "    'anomalie'\n",
    "] = 1\n"
   ],
   "id": "3a2fe6fd2aa7d81f",
   "outputs": [],
   "execution_count": 23
  },
  {
   "metadata": {},
   "cell_type": "code",
   "source": "",
   "id": "469c54747c175c85",
   "outputs": [],
   "execution_count": null
  },
  {
   "metadata": {
    "ExecuteTime": {
     "end_time": "2025-07-08T19:06:17.673633Z",
     "start_time": "2025-07-08T19:06:17.660927Z"
    }
   },
   "cell_type": "code",
   "source": "len(df)",
   "id": "53af1d52ab56859f",
   "outputs": [
    {
     "data": {
      "text/plain": [
       "891762"
      ]
     },
     "execution_count": 4,
     "metadata": {},
     "output_type": "execute_result"
    }
   ],
   "execution_count": 4
  },
  {
   "metadata": {},
   "cell_type": "code",
   "source": "\n",
   "id": "1d91f82f8ffc2f2d",
   "outputs": [],
   "execution_count": null
  },
  {
   "metadata": {
    "ExecuteTime": {
     "end_time": "2025-08-12T14:18:14.964725Z",
     "start_time": "2025-08-12T14:18:14.781542Z"
    }
   },
   "cell_type": "code",
   "source": [
    "df['anomalie'] = 0\n",
    "\n",
    "mask = (df['datetime'] >= '2025-06-13 15:17:00') & (df['datetime'] <= '2025-06-13 15:20:00')\n",
    "mask_2 = (df['datetime'] >= '2025-06-13 15:47:00') & (df['datetime'] <= '2025-06-13 15:51:00')\n",
    "df.loc[mask, 'anomalie'] = 1\n"
   ],
   "id": "7aef2a46374ec2b1",
   "outputs": [],
   "execution_count": 17
  },
  {
   "metadata": {},
   "cell_type": "code",
   "source": "df.columns",
   "id": "26fbc428402ce9ae",
   "outputs": [],
   "execution_count": null
  },
  {
   "metadata": {},
   "cell_type": "code",
   "source": "len(df)",
   "id": "3ed553ee5e89a9e8",
   "outputs": [],
   "execution_count": null
  },
  {
   "metadata": {
    "ExecuteTime": {
     "end_time": "2025-07-08T19:08:51.434816Z",
     "start_time": "2025-07-08T19:06:54.240122Z"
    }
   },
   "cell_type": "code",
   "source": [
    "\n",
    "\n",
    "df.to_csv('../datas/ECOLAB_3/E3_all_alert.csv')"
   ],
   "id": "26d484348658f7c3",
   "outputs": [],
   "execution_count": 5
  },
  {
   "metadata": {
    "ExecuteTime": {
     "end_time": "2025-08-12T14:03:38.311123Z",
     "start_time": "2025-08-12T14:03:31.330621Z"
    }
   },
   "cell_type": "code",
   "source": "df = pd.read_csv('../../Brain013/data_raw/to_sample/data_train.csv', sep=',')",
   "id": "e79dc3a44d644db2",
   "outputs": [],
   "execution_count": 12
  },
  {
   "metadata": {
    "ExecuteTime": {
     "end_time": "2025-08-12T14:18:46.388194Z",
     "start_time": "2025-08-12T14:18:46.158650Z"
    }
   },
   "cell_type": "code",
   "source": [
    "\n",
    "df['anomalie'].plot()"
   ],
   "id": "ee40681679cff842",
   "outputs": [
    {
     "data": {
      "text/plain": [
       "<Axes: >"
      ]
     },
     "execution_count": 24,
     "metadata": {},
     "output_type": "execute_result"
    },
    {
     "data": {
      "text/plain": [
       "<Figure size 640x480 with 1 Axes>"
      ],
      "image/png": "[encoded data removed]"
     },
     "metadata": {},
     "output_type": "display_data"
    }
   ],
   "execution_count": 24
  },
  {
   "metadata": {
    "ExecuteTime": {
     "end_time": "2025-08-12T14:17:56.460778Z",
     "start_time": "2025-08-12T14:17:41.992355Z"
    }
   },
   "cell_type": "code",
   "source": [
    "import pandas as pd\n",
    "from sklearn.cluster import KMeans\n",
    "df = pd.read_csv('../../datas/E4_3/E3_all_alert.csv', sep=',')\n",
    "#df = df[df['datetime'] >= '2025-06-06 00:47:00']"
   ],
   "id": "894f0a90922cafaa",
   "outputs": [],
   "execution_count": 15
  },
  {
   "metadata": {
    "ExecuteTime": {
     "end_time": "2025-08-12T14:17:58.988631Z",
     "start_time": "2025-08-12T14:17:58.981367Z"
    }
   },
   "cell_type": "code",
   "source": "len(df)",
   "id": "ed18abe6c81ac1c5",
   "outputs": [
    {
     "data": {
      "text/plain": [
       "891762"
      ]
     },
     "execution_count": 16,
     "metadata": {},
     "output_type": "execute_result"
    }
   ],
   "execution_count": 16
  },
  {
   "metadata": {},
   "cell_type": "code",
   "source": [
    "import pandas as pd\n",
    "from sklearn.cluster import KMeans\n",
    "#df = pd.read_csv('../datas/ECOLAB_3/E3_all_alert.csv' , sep=',')\n",
    "# df['indicator'] = (\n",
    "#     df['ecart_temp_C1'].abs() +\n",
    "#     df['ecart_temp_C2'].abs() +\n",
    "#     df['ecart_temp_C3'].abs() +\n",
    "#     df['ecart_temp_C4_C'].abs() +\n",
    "#     df['ecart_temp_C4_F'].abs()\n",
    "# )\n",
    "\n",
    "#df  =df.drop(columns=['alerte_panne_2'])\n",
    "# Appliquer KMeans (2 groupes ici)\n",
    "df = df[df['datetime'] >= '2025-06-06 00:47:00']\n",
    "cols = [\n",
    "    'TEMPERATURE_MEG_FROID [R]_C4',\n",
    "    'TEMPERATURE_MEG_CHAUD [R]_C4',\n",
    "    'anomalie',\n",
    "    'indicator'\n",
    "\n",
    "]\n",
    "\n",
    "\n",
    "from sklearn.preprocessing import MinMaxScaler\n",
    "\n",
    "scaler = MinMaxScaler()\n",
    "df[cols] = scaler.fit_transform(df[cols])\n",
    "\n",
    "\n",
    "kmeans = KMeans(n_clusters=2, random_state=42)\n",
    "df['alerte_panne'] = kmeans.fit_predict(df[cols])\n",
    "#df.to_csv('../datas/ECOLAB_3/E3_all_alert_cluster_2.csv', index=False)"
   ],
   "id": "4ab278d74309f710",
   "outputs": [],
   "execution_count": null
  },
  {
   "metadata": {},
   "cell_type": "code",
   "source": [
    "centroids = kmeans.cluster_centers_\n",
    "labels = kmeans.labels_\n",
    "print(\"Centroïdes shape:\", centroids.shape)\n",
    "print(\"Inertie :\", kmeans.inertia_)\n",
    "print(\"Itérations :\", kmeans.n_iter_)\n"
   ],
   "id": "4d85c77c097b1eed",
   "outputs": [],
   "execution_count": null
  },
  {
   "metadata": {},
   "cell_type": "code",
   "source": [
    "import numpy as np\n",
    "from scipy.spatial.distance import cdist\n",
    "distances_to_centroids = np.min(cdist(df[cols], centroids), axis=1)\n",
    "df['distance_to_centroid'] = distances_to_centroids\n",
    "# Moyennes par cluster\n",
    "print(\"\\n📊 Moyennes des variables par cluster :\")\n",
    "print(df.groupby('alerte_panne').mean(numeric_only=True))"
   ],
   "id": "d13d1cd37443945b",
   "outputs": [],
   "execution_count": null
  },
  {
   "metadata": {},
   "cell_type": "code",
   "source": [
    "from sklearn.metrics import pairwise_distances_argmin_min\n",
    "closest, min_distances = pairwise_distances_argmin_min(centroids, df[cols])\n",
    "print(\"\\n📍 Index des points les plus proches de chaque centroïde :\", closest)"
   ],
   "id": "b7a24880437005c2",
   "outputs": [],
   "execution_count": null
  },
  {
   "metadata": {},
   "cell_type": "code",
   "source": [
    "# Détection des changements de cluster\n",
    "df['changement_de_cluster'] = df['alerte_panne'].diff().fillna(0).ne(0).astype(int)"
   ],
   "id": "117f773173a829fe",
   "outputs": [],
   "execution_count": null
  },
  {
   "metadata": {},
   "cell_type": "code",
   "source": "df[''].plot()",
   "id": "a09915fd453ab030",
   "outputs": [],
   "execution_count": null
  },
  {
   "metadata": {},
   "cell_type": "code",
   "source": [
    "for ligne in labels:\n",
    "    print(ligne)"
   ],
   "id": "1890dda2ffe1e5e4",
   "outputs": [],
   "execution_count": null
  },
  {
   "metadata": {},
   "cell_type": "code",
   "source": [
    "\n",
    "\n"
   ],
   "id": "fd007099aef3c621",
   "outputs": [],
   "execution_count": null
  },
  {
   "metadata": {},
   "cell_type": "code",
   "source": [
    "df = pd.read_csv('../datas/ECOLAB_3/E3_all_alert_copy.csv')\n",
    "len(df)"
   ],
   "id": "c147b714cb9ecc06",
   "outputs": [],
   "execution_count": null
  },
  {
   "metadata": {},
   "cell_type": "code",
   "source": "df.columns",
   "id": "d4d3b99efa0dee47",
   "outputs": [],
   "execution_count": null
  },
  {
   "metadata": {
    "ExecuteTime": {
     "end_time": "2025-08-12T13:53:46.097443Z",
     "start_time": "2025-08-12T13:53:30.074138Z"
    }
   },
   "cell_type": "code",
   "source": [
    "import matplotlib.dates as mdates\n",
    "import pandas as pd\n",
    "import matplotlib.pyplot as plt\n",
    "df = pd.read_csv('../../Brain013/data_raw/to_sample/data_train.csv', sep=',', low_memory=False)\n",
    "#df['datetime'] = pd.to_datetime(df['datetime'])\n",
    "#\n",
    "#df = df[df['datetime'] >= '2025-06-13 00:47:00']\n",
    "#df = df[df['datetime'] <= '2025-06-13 24:00:00']\n",
    "\n",
    "plt.figure(figsize=(14, 6))\n",
    "\n",
    "\n",
    "#df = df.iloc[200_000:400_000]\n",
    "# Mapper une couleur par cluster\n",
    "#df = df[df['anomalie']==1]\n",
    "colors =  df['anomalie'].map({\n",
    "    0: 'green',\n",
    "    1: 'red',\n",
    "    2: 'blue',\n",
    "    3: 'orange',\n",
    "    4: 'purple',\n",
    "    5: 'brown',\n",
    "    6: 'pink',\n",
    "    7: 'gray',\n",
    "    8: 'yellow',\n",
    "    9: 'cyan',\n",
    "    10: 'magenta',\n",
    "    11: 'lime',\n",
    "    12: 'gold',\n",
    "    13: 'darkblue',\n",
    "    14: 'crimson',\n",
    "    15: 'darkgreen',\n",
    "    16: 'teal',\n",
    "    17: 'navy',\n",
    "    18: 'olive',\n",
    "    19: 'maroon',\n",
    "    20: 'darkorange',\n",
    "    21: 'indigo'\n",
    "\n",
    "}).fillna('gray')\n",
    "\n",
    "\n",
    "\n",
    "plt.scatter(df.index, df['TEMPERATURE_REPRISE [R]_C1'], c=colors, label='', alpha=0.5, s=2)\n",
    "#plt.scatter(df.index, df['TEMPERATURE_CONSIGNE [R]_C1'], c=colors, label='T__MEG_FROID C4 (panne=1 → violet, 0 → marron)', alpha=0.5,# s=2)\n",
    "\n",
    "plt.title('Alerte Panne')\n",
    "\n",
    "\n",
    "plt.xlabel(df['datetime'])\n",
    "plt.legend()\n",
    "plt.grid(True)\n",
    "plt.show()"
   ],
   "id": "ae1e526cde8a9b8e",
   "outputs": [
    {
     "ename": "KeyError",
     "evalue": "'anomalie'",
     "output_type": "error",
     "traceback": [
      "\u001B[31m---------------------------------------------------------------------------\u001B[39m",
      "\u001B[31mKeyError\u001B[39m                                  Traceback (most recent call last)",
      "\u001B[36mFile \u001B[39m\u001B[32m~/octobrain/.venv/lib/python3.11/site-packages/pandas/core/indexes/base.py:3805\u001B[39m, in \u001B[36mIndex.get_loc\u001B[39m\u001B[34m(self, key)\u001B[39m\n\u001B[32m   3804\u001B[39m \u001B[38;5;28;01mtry\u001B[39;00m:\n\u001B[32m-> \u001B[39m\u001B[32m3805\u001B[39m     \u001B[38;5;28;01mreturn\u001B[39;00m \u001B[38;5;28;43mself\u001B[39;49m\u001B[43m.\u001B[49m\u001B[43m_engine\u001B[49m\u001B[43m.\u001B[49m\u001B[43mget_loc\u001B[49m\u001B[43m(\u001B[49m\u001B[43mcasted_key\u001B[49m\u001B[43m)\u001B[49m\n\u001B[32m   3806\u001B[39m \u001B[38;5;28;01mexcept\u001B[39;00m \u001B[38;5;167;01mKeyError\u001B[39;00m \u001B[38;5;28;01mas\u001B[39;00m err:\n",
      "\u001B[36mFile \u001B[39m\u001B[32mindex.pyx:167\u001B[39m, in \u001B[36mpandas._libs.index.IndexEngine.get_loc\u001B[39m\u001B[34m()\u001B[39m\n",
      "\u001B[36mFile \u001B[39m\u001B[32mindex.pyx:196\u001B[39m, in \u001B[36mpandas._libs.index.IndexEngine.get_loc\u001B[39m\u001B[34m()\u001B[39m\n",
      "\u001B[36mFile \u001B[39m\u001B[32mpandas/_libs/hashtable_class_helper.pxi:7081\u001B[39m, in \u001B[36mpandas._libs.hashtable.PyObjectHashTable.get_item\u001B[39m\u001B[34m()\u001B[39m\n",
      "\u001B[36mFile \u001B[39m\u001B[32mpandas/_libs/hashtable_class_helper.pxi:7089\u001B[39m, in \u001B[36mpandas._libs.hashtable.PyObjectHashTable.get_item\u001B[39m\u001B[34m()\u001B[39m\n",
      "\u001B[31mKeyError\u001B[39m: 'anomalie'",
      "\nThe above exception was the direct cause of the following exception:\n",
      "\u001B[31mKeyError\u001B[39m                                  Traceback (most recent call last)",
      "\u001B[36mCell\u001B[39m\u001B[36m \u001B[39m\u001B[32mIn[1]\u001B[39m\u001B[32m, line 16\u001B[39m\n\u001B[32m     10\u001B[39m plt.figure(figsize=(\u001B[32m14\u001B[39m, \u001B[32m6\u001B[39m))\n\u001B[32m     13\u001B[39m \u001B[38;5;66;03m#df = df.iloc[200_000:400_000]\u001B[39;00m\n\u001B[32m     14\u001B[39m \u001B[38;5;66;03m# Mapper une couleur par cluster\u001B[39;00m\n\u001B[32m     15\u001B[39m \u001B[38;5;66;03m#df = df[df['anomalie']==1]\u001B[39;00m\n\u001B[32m---> \u001B[39m\u001B[32m16\u001B[39m colors =  \u001B[43mdf\u001B[49m\u001B[43m[\u001B[49m\u001B[33;43m'\u001B[39;49m\u001B[33;43manomalie\u001B[39;49m\u001B[33;43m'\u001B[39;49m\u001B[43m]\u001B[49m.map({\n\u001B[32m     17\u001B[39m     \u001B[32m0\u001B[39m: \u001B[33m'\u001B[39m\u001B[33mgreen\u001B[39m\u001B[33m'\u001B[39m,\n\u001B[32m     18\u001B[39m     \u001B[32m1\u001B[39m: \u001B[33m'\u001B[39m\u001B[33mred\u001B[39m\u001B[33m'\u001B[39m,\n\u001B[32m     19\u001B[39m     \u001B[32m2\u001B[39m: \u001B[33m'\u001B[39m\u001B[33mblue\u001B[39m\u001B[33m'\u001B[39m,\n\u001B[32m     20\u001B[39m     \u001B[32m3\u001B[39m: \u001B[33m'\u001B[39m\u001B[33morange\u001B[39m\u001B[33m'\u001B[39m,\n\u001B[32m     21\u001B[39m     \u001B[32m4\u001B[39m: \u001B[33m'\u001B[39m\u001B[33mpurple\u001B[39m\u001B[33m'\u001B[39m,\n\u001B[32m     22\u001B[39m     \u001B[32m5\u001B[39m: \u001B[33m'\u001B[39m\u001B[33mbrown\u001B[39m\u001B[33m'\u001B[39m,\n\u001B[32m     23\u001B[39m     \u001B[32m6\u001B[39m: \u001B[33m'\u001B[39m\u001B[33mpink\u001B[39m\u001B[33m'\u001B[39m,\n\u001B[32m     24\u001B[39m     \u001B[32m7\u001B[39m: \u001B[33m'\u001B[39m\u001B[33mgray\u001B[39m\u001B[33m'\u001B[39m,\n\u001B[32m     25\u001B[39m     \u001B[32m8\u001B[39m: \u001B[33m'\u001B[39m\u001B[33myellow\u001B[39m\u001B[33m'\u001B[39m,\n\u001B[32m     26\u001B[39m     \u001B[32m9\u001B[39m: \u001B[33m'\u001B[39m\u001B[33mcyan\u001B[39m\u001B[33m'\u001B[39m,\n\u001B[32m     27\u001B[39m     \u001B[32m10\u001B[39m: \u001B[33m'\u001B[39m\u001B[33mmagenta\u001B[39m\u001B[33m'\u001B[39m,\n\u001B[32m     28\u001B[39m     \u001B[32m11\u001B[39m: \u001B[33m'\u001B[39m\u001B[33mlime\u001B[39m\u001B[33m'\u001B[39m,\n\u001B[32m     29\u001B[39m     \u001B[32m12\u001B[39m: \u001B[33m'\u001B[39m\u001B[33mgold\u001B[39m\u001B[33m'\u001B[39m,\n\u001B[32m     30\u001B[39m     \u001B[32m13\u001B[39m: \u001B[33m'\u001B[39m\u001B[33mdarkblue\u001B[39m\u001B[33m'\u001B[39m,\n\u001B[32m     31\u001B[39m     \u001B[32m14\u001B[39m: \u001B[33m'\u001B[39m\u001B[33mcrimson\u001B[39m\u001B[33m'\u001B[39m,\n\u001B[32m     32\u001B[39m     \u001B[32m15\u001B[39m: \u001B[33m'\u001B[39m\u001B[33mdarkgreen\u001B[39m\u001B[33m'\u001B[39m,\n\u001B[32m     33\u001B[39m     \u001B[32m16\u001B[39m: \u001B[33m'\u001B[39m\u001B[33mteal\u001B[39m\u001B[33m'\u001B[39m,\n\u001B[32m     34\u001B[39m     \u001B[32m17\u001B[39m: \u001B[33m'\u001B[39m\u001B[33mnavy\u001B[39m\u001B[33m'\u001B[39m,\n\u001B[32m     35\u001B[39m     \u001B[32m18\u001B[39m: \u001B[33m'\u001B[39m\u001B[33molive\u001B[39m\u001B[33m'\u001B[39m,\n\u001B[32m     36\u001B[39m     \u001B[32m19\u001B[39m: \u001B[33m'\u001B[39m\u001B[33mmaroon\u001B[39m\u001B[33m'\u001B[39m,\n\u001B[32m     37\u001B[39m     \u001B[32m20\u001B[39m: \u001B[33m'\u001B[39m\u001B[33mdarkorange\u001B[39m\u001B[33m'\u001B[39m,\n\u001B[32m     38\u001B[39m     \u001B[32m21\u001B[39m: \u001B[33m'\u001B[39m\u001B[33mindigo\u001B[39m\u001B[33m'\u001B[39m\n\u001B[32m     39\u001B[39m \n\u001B[32m     40\u001B[39m }).fillna(\u001B[33m'\u001B[39m\u001B[33mgray\u001B[39m\u001B[33m'\u001B[39m)\n\u001B[32m     44\u001B[39m plt.scatter(df.index, df[\u001B[33m'\u001B[39m\u001B[33mTEMPERATURE_REPRISE [R]_C1\u001B[39m\u001B[33m'\u001B[39m], c=colors, label=\u001B[33m'\u001B[39m\u001B[33m'\u001B[39m, alpha=\u001B[32m0.5\u001B[39m, s=\u001B[32m2\u001B[39m)\n\u001B[32m     45\u001B[39m \u001B[38;5;66;03m#plt.scatter(df.index, df['TEMPERATURE_CONSIGNE [R]_C1'], c=colors, label='T__MEG_FROID C4 (panne=1 → violet, 0 → marron)', alpha=0.5,# s=2)\u001B[39;00m\n",
      "\u001B[36mFile \u001B[39m\u001B[32m~/octobrain/.venv/lib/python3.11/site-packages/pandas/core/frame.py:4102\u001B[39m, in \u001B[36mDataFrame.__getitem__\u001B[39m\u001B[34m(self, key)\u001B[39m\n\u001B[32m   4100\u001B[39m \u001B[38;5;28;01mif\u001B[39;00m \u001B[38;5;28mself\u001B[39m.columns.nlevels > \u001B[32m1\u001B[39m:\n\u001B[32m   4101\u001B[39m     \u001B[38;5;28;01mreturn\u001B[39;00m \u001B[38;5;28mself\u001B[39m._getitem_multilevel(key)\n\u001B[32m-> \u001B[39m\u001B[32m4102\u001B[39m indexer = \u001B[38;5;28;43mself\u001B[39;49m\u001B[43m.\u001B[49m\u001B[43mcolumns\u001B[49m\u001B[43m.\u001B[49m\u001B[43mget_loc\u001B[49m\u001B[43m(\u001B[49m\u001B[43mkey\u001B[49m\u001B[43m)\u001B[49m\n\u001B[32m   4103\u001B[39m \u001B[38;5;28;01mif\u001B[39;00m is_integer(indexer):\n\u001B[32m   4104\u001B[39m     indexer = [indexer]\n",
      "\u001B[36mFile \u001B[39m\u001B[32m~/octobrain/.venv/lib/python3.11/site-packages/pandas/core/indexes/base.py:3812\u001B[39m, in \u001B[36mIndex.get_loc\u001B[39m\u001B[34m(self, key)\u001B[39m\n\u001B[32m   3807\u001B[39m     \u001B[38;5;28;01mif\u001B[39;00m \u001B[38;5;28misinstance\u001B[39m(casted_key, \u001B[38;5;28mslice\u001B[39m) \u001B[38;5;129;01mor\u001B[39;00m (\n\u001B[32m   3808\u001B[39m         \u001B[38;5;28misinstance\u001B[39m(casted_key, abc.Iterable)\n\u001B[32m   3809\u001B[39m         \u001B[38;5;129;01mand\u001B[39;00m \u001B[38;5;28many\u001B[39m(\u001B[38;5;28misinstance\u001B[39m(x, \u001B[38;5;28mslice\u001B[39m) \u001B[38;5;28;01mfor\u001B[39;00m x \u001B[38;5;129;01min\u001B[39;00m casted_key)\n\u001B[32m   3810\u001B[39m     ):\n\u001B[32m   3811\u001B[39m         \u001B[38;5;28;01mraise\u001B[39;00m InvalidIndexError(key)\n\u001B[32m-> \u001B[39m\u001B[32m3812\u001B[39m     \u001B[38;5;28;01mraise\u001B[39;00m \u001B[38;5;167;01mKeyError\u001B[39;00m(key) \u001B[38;5;28;01mfrom\u001B[39;00m\u001B[38;5;250m \u001B[39m\u001B[34;01merr\u001B[39;00m\n\u001B[32m   3813\u001B[39m \u001B[38;5;28;01mexcept\u001B[39;00m \u001B[38;5;167;01mTypeError\u001B[39;00m:\n\u001B[32m   3814\u001B[39m     \u001B[38;5;66;03m# If we have a listlike key, _check_indexing_error will raise\u001B[39;00m\n\u001B[32m   3815\u001B[39m     \u001B[38;5;66;03m#  InvalidIndexError. Otherwise we fall through and re-raise\u001B[39;00m\n\u001B[32m   3816\u001B[39m     \u001B[38;5;66;03m#  the TypeError.\u001B[39;00m\n\u001B[32m   3817\u001B[39m     \u001B[38;5;28mself\u001B[39m._check_indexing_error(key)\n",
      "\u001B[31mKeyError\u001B[39m: 'anomalie'"
     ]
    },
    {
     "data": {
      "text/plain": [
       "<Figure size 1400x600 with 0 Axes>"
      ]
     },
     "metadata": {},
     "output_type": "display_data"
    }
   ],
   "execution_count": 1
  },
  {
   "metadata": {},
   "cell_type": "markdown",
   "source": "",
   "id": "93ee5d9ea00c0beb"
  },
  {
   "metadata": {
    "ExecuteTime": {
     "end_time": "2025-08-12T13:53:51.752870Z",
     "start_time": "2025-08-12T13:53:51.747351Z"
    }
   },
   "cell_type": "code",
   "source": "len(df)",
   "id": "c1f0948e0efe37ec",
   "outputs": [
    {
     "data": {
      "text/plain": [
       "415263"
      ]
     },
     "execution_count": 2,
     "metadata": {},
     "output_type": "execute_result"
    }
   ],
   "execution_count": 2
  },
  {
   "metadata": {
    "ExecuteTime": {
     "end_time": "2025-08-12T13:53:58.397641Z",
     "start_time": "2025-08-12T13:53:58.311545Z"
    }
   },
   "cell_type": "code",
   "source": [
    "dates_anomalies = df.loc[df['anomalie'] == 1, 'datetime']\n",
    "for date in dates_anomalies:\n",
    "\n",
    "    print(date)"
   ],
   "id": "958c1bcf5d3553c8",
   "outputs": [
    {
     "ename": "KeyError",
     "evalue": "'anomalie'",
     "output_type": "error",
     "traceback": [
      "\u001B[31m---------------------------------------------------------------------------\u001B[39m",
      "\u001B[31mKeyError\u001B[39m                                  Traceback (most recent call last)",
      "\u001B[36mFile \u001B[39m\u001B[32m~/octobrain/.venv/lib/python3.11/site-packages/pandas/core/indexes/base.py:3805\u001B[39m, in \u001B[36mIndex.get_loc\u001B[39m\u001B[34m(self, key)\u001B[39m\n\u001B[32m   3804\u001B[39m \u001B[38;5;28;01mtry\u001B[39;00m:\n\u001B[32m-> \u001B[39m\u001B[32m3805\u001B[39m     \u001B[38;5;28;01mreturn\u001B[39;00m \u001B[38;5;28;43mself\u001B[39;49m\u001B[43m.\u001B[49m\u001B[43m_engine\u001B[49m\u001B[43m.\u001B[49m\u001B[43mget_loc\u001B[49m\u001B[43m(\u001B[49m\u001B[43mcasted_key\u001B[49m\u001B[43m)\u001B[49m\n\u001B[32m   3806\u001B[39m \u001B[38;5;28;01mexcept\u001B[39;00m \u001B[38;5;167;01mKeyError\u001B[39;00m \u001B[38;5;28;01mas\u001B[39;00m err:\n",
      "\u001B[36mFile \u001B[39m\u001B[32mindex.pyx:167\u001B[39m, in \u001B[36mpandas._libs.index.IndexEngine.get_loc\u001B[39m\u001B[34m()\u001B[39m\n",
      "\u001B[36mFile \u001B[39m\u001B[32mindex.pyx:196\u001B[39m, in \u001B[36mpandas._libs.index.IndexEngine.get_loc\u001B[39m\u001B[34m()\u001B[39m\n",
      "\u001B[36mFile \u001B[39m\u001B[32mpandas/_libs/hashtable_class_helper.pxi:7081\u001B[39m, in \u001B[36mpandas._libs.hashtable.PyObjectHashTable.get_item\u001B[39m\u001B[34m()\u001B[39m\n",
      "\u001B[36mFile \u001B[39m\u001B[32mpandas/_libs/hashtable_class_helper.pxi:7089\u001B[39m, in \u001B[36mpandas._libs.hashtable.PyObjectHashTable.get_item\u001B[39m\u001B[34m()\u001B[39m\n",
      "\u001B[31mKeyError\u001B[39m: 'anomalie'",
      "\nThe above exception was the direct cause of the following exception:\n",
      "\u001B[31mKeyError\u001B[39m                                  Traceback (most recent call last)",
      "\u001B[36mCell\u001B[39m\u001B[36m \u001B[39m\u001B[32mIn[3]\u001B[39m\u001B[32m, line 1\u001B[39m\n\u001B[32m----> \u001B[39m\u001B[32m1\u001B[39m dates_anomalies = df.loc[\u001B[43mdf\u001B[49m\u001B[43m[\u001B[49m\u001B[33;43m'\u001B[39;49m\u001B[33;43manomalie\u001B[39;49m\u001B[33;43m'\u001B[39;49m\u001B[43m]\u001B[49m == \u001B[32m1\u001B[39m, \u001B[33m'\u001B[39m\u001B[33mdatetime\u001B[39m\u001B[33m'\u001B[39m]\n\u001B[32m      2\u001B[39m \u001B[38;5;28;01mfor\u001B[39;00m date \u001B[38;5;129;01min\u001B[39;00m dates_anomalies:\n\u001B[32m      4\u001B[39m     \u001B[38;5;28mprint\u001B[39m(date)\n",
      "\u001B[36mFile \u001B[39m\u001B[32m~/octobrain/.venv/lib/python3.11/site-packages/pandas/core/frame.py:4102\u001B[39m, in \u001B[36mDataFrame.__getitem__\u001B[39m\u001B[34m(self, key)\u001B[39m\n\u001B[32m   4100\u001B[39m \u001B[38;5;28;01mif\u001B[39;00m \u001B[38;5;28mself\u001B[39m.columns.nlevels > \u001B[32m1\u001B[39m:\n\u001B[32m   4101\u001B[39m     \u001B[38;5;28;01mreturn\u001B[39;00m \u001B[38;5;28mself\u001B[39m._getitem_multilevel(key)\n\u001B[32m-> \u001B[39m\u001B[32m4102\u001B[39m indexer = \u001B[38;5;28;43mself\u001B[39;49m\u001B[43m.\u001B[49m\u001B[43mcolumns\u001B[49m\u001B[43m.\u001B[49m\u001B[43mget_loc\u001B[49m\u001B[43m(\u001B[49m\u001B[43mkey\u001B[49m\u001B[43m)\u001B[49m\n\u001B[32m   4103\u001B[39m \u001B[38;5;28;01mif\u001B[39;00m is_integer(indexer):\n\u001B[32m   4104\u001B[39m     indexer = [indexer]\n",
      "\u001B[36mFile \u001B[39m\u001B[32m~/octobrain/.venv/lib/python3.11/site-packages/pandas/core/indexes/base.py:3812\u001B[39m, in \u001B[36mIndex.get_loc\u001B[39m\u001B[34m(self, key)\u001B[39m\n\u001B[32m   3807\u001B[39m     \u001B[38;5;28;01mif\u001B[39;00m \u001B[38;5;28misinstance\u001B[39m(casted_key, \u001B[38;5;28mslice\u001B[39m) \u001B[38;5;129;01mor\u001B[39;00m (\n\u001B[32m   3808\u001B[39m         \u001B[38;5;28misinstance\u001B[39m(casted_key, abc.Iterable)\n\u001B[32m   3809\u001B[39m         \u001B[38;5;129;01mand\u001B[39;00m \u001B[38;5;28many\u001B[39m(\u001B[38;5;28misinstance\u001B[39m(x, \u001B[38;5;28mslice\u001B[39m) \u001B[38;5;28;01mfor\u001B[39;00m x \u001B[38;5;129;01min\u001B[39;00m casted_key)\n\u001B[32m   3810\u001B[39m     ):\n\u001B[32m   3811\u001B[39m         \u001B[38;5;28;01mraise\u001B[39;00m InvalidIndexError(key)\n\u001B[32m-> \u001B[39m\u001B[32m3812\u001B[39m     \u001B[38;5;28;01mraise\u001B[39;00m \u001B[38;5;167;01mKeyError\u001B[39;00m(key) \u001B[38;5;28;01mfrom\u001B[39;00m\u001B[38;5;250m \u001B[39m\u001B[34;01merr\u001B[39;00m\n\u001B[32m   3813\u001B[39m \u001B[38;5;28;01mexcept\u001B[39;00m \u001B[38;5;167;01mTypeError\u001B[39;00m:\n\u001B[32m   3814\u001B[39m     \u001B[38;5;66;03m# If we have a listlike key, _check_indexing_error will raise\u001B[39;00m\n\u001B[32m   3815\u001B[39m     \u001B[38;5;66;03m#  InvalidIndexError. Otherwise we fall through and re-raise\u001B[39;00m\n\u001B[32m   3816\u001B[39m     \u001B[38;5;66;03m#  the TypeError.\u001B[39;00m\n\u001B[32m   3817\u001B[39m     \u001B[38;5;28mself\u001B[39m._check_indexing_error(key)\n",
      "\u001B[31mKeyError\u001B[39m: 'anomalie'"
     ]
    }
   ],
   "execution_count": 3
  },
  {
   "metadata": {
    "ExecuteTime": {
     "end_time": "2025-08-12T14:18:57.733128Z",
     "start_time": "2025-08-12T14:18:57.699362Z"
    }
   },
   "cell_type": "code",
   "source": [
    "dates_a_marquer = [\n",
    "    '2025-06-13 15:20:33',\n",
    "    '2025-06-13 15:20:34',\n",
    "    '2025-06-13 15:20:39',\n",
    "    '2025-06-13 15:20:44',\n",
    "    '2025-06-13 15:20:49',\n",
    "    '2025-06-13 15:20:50',\n",
    "    '2025-06-13 15:20:53',\n",
    "    '2025-06-13 15:20:55',\n",
    "    '2025-06-13 15:50:41',\n",
    "    '2025-06-13 15:50:42',\n",
    "    '2025-06-13 15:50:47',\n",
    "    '2025-06-13 15:50:50',\n",
    "    '2025-06-13 15:50:58',\n",
    "    '2025-06-13 15:51:01'\n",
    "]\n",
    "\n",
    "# Convertir les dates en datetime si nécessaire\n",
    "dates_a_marquer = pd.to_datetime(dates_a_marquer)\n",
    "\n",
    "# S'assurer que la colonne est bien en datetime\n",
    "df['datetime'] = pd.to_datetime(df['datetime'])\n",
    "\n",
    "# Mettre anomalie = 2 pour les dates spécifiques\n",
    "df.loc[df['datetime'].isin(dates_a_marquer), 'anomalie'] = 2"
   ],
   "id": "e17bb5387024191d",
   "outputs": [],
   "execution_count": 25
  },
  {
   "metadata": {
    "ExecuteTime": {
     "end_time": "2025-08-12T14:18:59.795100Z",
     "start_time": "2025-08-12T14:18:59.545740Z"
    }
   },
   "cell_type": "code",
   "source": "df['anomalie'].plot()",
   "id": "64d6cca5130ac00",
   "outputs": [
    {
     "data": {
      "text/plain": [
       "<Axes: >"
      ]
     },
     "execution_count": 26,
     "metadata": {},
     "output_type": "execute_result"
    },
    {
     "data": {
      "text/plain": [
       "<Figure size 640x480 with 1 Axes>"
      ],
      "image/png": "[encoded data removed]"
     },
     "metadata": {},
     "output_type": "display_data"
    }
   ],
   "execution_count": 26
  },
  {
   "metadata": {
    "ExecuteTime": {
     "end_time": "2025-08-12T14:21:04.394363Z",
     "start_time": "2025-08-12T14:19:06.255723Z"
    }
   },
   "cell_type": "code",
   "source": "df.to_csv('../datas/E4_3/E3_all_alert_panne.csv', index=False)",
   "id": "6cafa15895e2ba99",
   "outputs": [],
   "execution_count": 28
  },
  {
   "metadata": {
    "ExecuteTime": {
     "end_time": "2025-08-12T14:19:02.581118Z",
     "start_time": "2025-08-12T14:19:02.572948Z"
    }
   },
   "cell_type": "code",
   "source": "len(df)",
   "id": "27ade9db67c1a5d0",
   "outputs": [
    {
     "data": {
      "text/plain": [
       "891762"
      ]
     },
     "execution_count": 27,
     "metadata": {},
     "output_type": "execute_result"
    }
   ],
   "execution_count": 27
  },
  {
   "metadata": {
    "ExecuteTime": {
     "end_time": "2025-08-12T13:54:17.960856Z",
     "start_time": "2025-08-12T13:54:17.444556Z"
    }
   },
   "cell_type": "code",
   "source": "df['anomalie'].plot()",
   "id": "fcfa07982b3a364a",
   "outputs": [
    {
     "data": {
      "text/plain": [
       "<Axes: >"
      ]
     },
     "execution_count": 6,
     "metadata": {},
     "output_type": "execute_result"
    },
    {
     "data": {
      "text/plain": [
       "<Figure size 640x480 with 1 Axes>"
      ],
      "image/png": "[encoded data removed]"
     },
     "metadata": {},
     "output_type": "display_data"
    }
   ],
   "execution_count": 6
  },
  {
   "metadata": {
    "ExecuteTime": {
     "end_time": "2025-07-08T19:52:24.580356Z",
     "start_time": "2025-07-08T19:51:37.984574Z"
    }
   },
   "cell_type": "code",
   "source": "df = pd.read_csv('../datas/ECOLAB_3/E3_all_alert_cluster.csv' , sep=',' , low_memory=False)",
   "id": "a84139097c2a43b2",
   "outputs": [],
   "execution_count": 6
  },
  {
   "metadata": {
    "ExecuteTime": {
     "end_time": "2025-08-12T14:34:16.040090Z",
     "start_time": "2025-08-12T14:34:15.933662Z"
    }
   },
   "cell_type": "code",
   "source": "df['indicator'].plot()",
   "id": "85fdd38011306efd",
   "outputs": [
    {
     "ename": "KeyError",
     "evalue": "'indicator'",
     "output_type": "error",
     "traceback": [
      "\u001B[31m---------------------------------------------------------------------------\u001B[39m",
      "\u001B[31mKeyError\u001B[39m                                  Traceback (most recent call last)",
      "\u001B[36mFile \u001B[39m\u001B[32m~/octobrain/.venv/lib/python3.11/site-packages/pandas/core/indexes/base.py:3805\u001B[39m, in \u001B[36mIndex.get_loc\u001B[39m\u001B[34m(self, key)\u001B[39m\n\u001B[32m   3804\u001B[39m \u001B[38;5;28;01mtry\u001B[39;00m:\n\u001B[32m-> \u001B[39m\u001B[32m3805\u001B[39m     \u001B[38;5;28;01mreturn\u001B[39;00m \u001B[38;5;28;43mself\u001B[39;49m\u001B[43m.\u001B[49m\u001B[43m_engine\u001B[49m\u001B[43m.\u001B[49m\u001B[43mget_loc\u001B[49m\u001B[43m(\u001B[49m\u001B[43mcasted_key\u001B[49m\u001B[43m)\u001B[49m\n\u001B[32m   3806\u001B[39m \u001B[38;5;28;01mexcept\u001B[39;00m \u001B[38;5;167;01mKeyError\u001B[39;00m \u001B[38;5;28;01mas\u001B[39;00m err:\n",
      "\u001B[36mFile \u001B[39m\u001B[32mindex.pyx:167\u001B[39m, in \u001B[36mpandas._libs.index.IndexEngine.get_loc\u001B[39m\u001B[34m()\u001B[39m\n",
      "\u001B[36mFile \u001B[39m\u001B[32mindex.pyx:196\u001B[39m, in \u001B[36mpandas._libs.index.IndexEngine.get_loc\u001B[39m\u001B[34m()\u001B[39m\n",
      "\u001B[36mFile \u001B[39m\u001B[32mpandas/_libs/hashtable_class_helper.pxi:7081\u001B[39m, in \u001B[36mpandas._libs.hashtable.PyObjectHashTable.get_item\u001B[39m\u001B[34m()\u001B[39m\n",
      "\u001B[36mFile \u001B[39m\u001B[32mpandas/_libs/hashtable_class_helper.pxi:7089\u001B[39m, in \u001B[36mpandas._libs.hashtable.PyObjectHashTable.get_item\u001B[39m\u001B[34m()\u001B[39m\n",
      "\u001B[31mKeyError\u001B[39m: 'indicator'",
      "\nThe above exception was the direct cause of the following exception:\n",
      "\u001B[31mKeyError\u001B[39m                                  Traceback (most recent call last)",
      "\u001B[36mCell\u001B[39m\u001B[36m \u001B[39m\u001B[32mIn[30]\u001B[39m\u001B[32m, line 1\u001B[39m\n\u001B[32m----> \u001B[39m\u001B[32m1\u001B[39m \u001B[43mdf\u001B[49m\u001B[43m[\u001B[49m\u001B[33;43m'\u001B[39;49m\u001B[33;43mindicator\u001B[39;49m\u001B[33;43m'\u001B[39;49m\u001B[43m]\u001B[49m.plot()\n",
      "\u001B[36mFile \u001B[39m\u001B[32m~/octobrain/.venv/lib/python3.11/site-packages/pandas/core/frame.py:4102\u001B[39m, in \u001B[36mDataFrame.__getitem__\u001B[39m\u001B[34m(self, key)\u001B[39m\n\u001B[32m   4100\u001B[39m \u001B[38;5;28;01mif\u001B[39;00m \u001B[38;5;28mself\u001B[39m.columns.nlevels > \u001B[32m1\u001B[39m:\n\u001B[32m   4101\u001B[39m     \u001B[38;5;28;01mreturn\u001B[39;00m \u001B[38;5;28mself\u001B[39m._getitem_multilevel(key)\n\u001B[32m-> \u001B[39m\u001B[32m4102\u001B[39m indexer = \u001B[38;5;28;43mself\u001B[39;49m\u001B[43m.\u001B[49m\u001B[43mcolumns\u001B[49m\u001B[43m.\u001B[49m\u001B[43mget_loc\u001B[49m\u001B[43m(\u001B[49m\u001B[43mkey\u001B[49m\u001B[43m)\u001B[49m\n\u001B[32m   4103\u001B[39m \u001B[38;5;28;01mif\u001B[39;00m is_integer(indexer):\n\u001B[32m   4104\u001B[39m     indexer = [indexer]\n",
      "\u001B[36mFile \u001B[39m\u001B[32m~/octobrain/.venv/lib/python3.11/site-packages/pandas/core/indexes/base.py:3812\u001B[39m, in \u001B[36mIndex.get_loc\u001B[39m\u001B[34m(self, key)\u001B[39m\n\u001B[32m   3807\u001B[39m     \u001B[38;5;28;01mif\u001B[39;00m \u001B[38;5;28misinstance\u001B[39m(casted_key, \u001B[38;5;28mslice\u001B[39m) \u001B[38;5;129;01mor\u001B[39;00m (\n\u001B[32m   3808\u001B[39m         \u001B[38;5;28misinstance\u001B[39m(casted_key, abc.Iterable)\n\u001B[32m   3809\u001B[39m         \u001B[38;5;129;01mand\u001B[39;00m \u001B[38;5;28many\u001B[39m(\u001B[38;5;28misinstance\u001B[39m(x, \u001B[38;5;28mslice\u001B[39m) \u001B[38;5;28;01mfor\u001B[39;00m x \u001B[38;5;129;01min\u001B[39;00m casted_key)\n\u001B[32m   3810\u001B[39m     ):\n\u001B[32m   3811\u001B[39m         \u001B[38;5;28;01mraise\u001B[39;00m InvalidIndexError(key)\n\u001B[32m-> \u001B[39m\u001B[32m3812\u001B[39m     \u001B[38;5;28;01mraise\u001B[39;00m \u001B[38;5;167;01mKeyError\u001B[39;00m(key) \u001B[38;5;28;01mfrom\u001B[39;00m\u001B[38;5;250m \u001B[39m\u001B[34;01merr\u001B[39;00m\n\u001B[32m   3813\u001B[39m \u001B[38;5;28;01mexcept\u001B[39;00m \u001B[38;5;167;01mTypeError\u001B[39;00m:\n\u001B[32m   3814\u001B[39m     \u001B[38;5;66;03m# If we have a listlike key, _check_indexing_error will raise\u001B[39;00m\n\u001B[32m   3815\u001B[39m     \u001B[38;5;66;03m#  InvalidIndexError. Otherwise we fall through and re-raise\u001B[39;00m\n\u001B[32m   3816\u001B[39m     \u001B[38;5;66;03m#  the TypeError.\u001B[39;00m\n\u001B[32m   3817\u001B[39m     \u001B[38;5;28mself\u001B[39m._check_indexing_error(key)\n",
      "\u001B[31mKeyError\u001B[39m: 'indicator'"
     ]
    }
   ],
   "execution_count": 30
  },
  {
   "metadata": {
    "ExecuteTime": {
     "end_time": "2025-07-08T20:06:09.967523Z",
     "start_time": "2025-07-08T20:06:09.742555Z"
    }
   },
   "cell_type": "code",
   "source": "df['anomalie'].plot()",
   "id": "eadcbec172de99b4",
   "outputs": [
    {
     "data": {
      "text/plain": [
       "<Axes: >"
      ]
     },
     "execution_count": 32,
     "metadata": {},
     "output_type": "execute_result"
    },
    {
     "data": {
      "text/plain": [
       "<Figure size 640x480 with 1 Axes>"
      ],
      "image/png": "[encoded data removed]"
     },
     "metadata": {},
     "output_type": "display_data"
    }
   ],
   "execution_count": 32
  },
  {
   "metadata": {},
   "cell_type": "code",
   "source": "",
   "id": "91ba78364b0f424",
   "outputs": [],
   "execution_count": null
  },
  {
   "metadata": {},
   "cell_type": "code",
   "source": "len(df)",
   "id": "1dd08ba8049a36f1",
   "outputs": [],
   "execution_count": null
  },
  {
   "metadata": {},
   "cell_type": "code",
   "source": [
    "for date in df['datetime']:\n",
    "    print(date)"
   ],
   "id": "a7c6108466425197",
   "outputs": [],
   "execution_count": null
  },
  {
   "metadata": {
    "ExecuteTime": {
     "end_time": "2025-08-12T14:34:03.320649Z",
     "start_time": "2025-08-12T14:34:03.311641Z"
    }
   },
   "cell_type": "code",
   "source": [
    "for col in df.columns:\n",
    "    print(col)"
   ],
   "id": "5596cdf1f4f33019",
   "outputs": [
    {
     "name": "stdout",
     "output_type": "stream",
     "text": [
      "Unnamed: 0\n",
      "datetime\n",
      "BP [R]_C1\n",
      "HP [R]_C1\n",
      "O2 [R]_C1\n",
      "CO2 [R]_C1\n",
      "O2_MMOL [R]_C1\n",
      "POIDS_1 [R]_C1\n",
      "POIDS_2 [R]_C1\n",
      "POIDS_3 [R]_C1\n",
      "CO2_MMOL [R]_C1\n",
      "DEFAUT_BP [B]_C1\n",
      "DEFAUT_HP [B]_C1\n",
      "A_SECONDES [I]_C1\n",
      "IRRADIANCE [I]_C1\n",
      "REARMEMENT [B]_C1\n",
      "ARU_CELLULE [B]_C1\n",
      "CONSIGNE_O2 [I]_C1\n",
      "Etat_Mesure [B]_C1\n",
      "POIDS_TOTAL [R]_C1\n",
      "BALLON_CHAUD [R]_C1\n",
      "BALLON_FROID [R]_C1\n",
      "CONSIGNE_CO2 [I]_C1\n",
      "MA_VARIATEUR [B]_C1\n",
      "COMPRESSEUR_1 [B]_C1\n",
      "COMPRESSEUR_2 [B]_C1\n",
      "POMPE_INF_ECO [B]_C1\n",
      "POMPE_SUP_ECO [B]_C1\n",
      "PPM_O2_HUMIDE [R]_C1\n",
      "V2V_AIR_VICIE [B]_C1\n",
      "V2V_EAU_PLUIE [I]_C1\n",
      "HAUTEUR_ECOLUX [I]_C1\n",
      "HUMIDIFICATEUR [I]_C1\n",
      "POMPE_FOND_ECO [B]_C1\n",
      "PPM_CO2_HUMIDE [I]_C1\n",
      "V2V_DESHUMIDIF [B]_C1\n",
      "VANNE_PROP_INF [I]_C1\n",
      "VANNE_PROP_SUP [I]_C1\n",
      "FERMETURE_PORTE [B]_C1\n",
      "MOLE_O2_DERIVEE [R]_C1\n",
      "POMPE_UTA_CHAUD [B]_C1\n",
      "POMPE_UTA_FROID [B]_C1\n",
      "V2V_CAPTAGE_CO2 [B]_C1\n",
      "VANNE_PROP_FOND [I]_C1\n",
      "VANNE_UTA_CHAUD [I]_C1\n",
      "VANNE_UTA_FROID [I]_C1\n",
      "VENTILATEUR_CTA [B]_C1\n",
      "MOLE_CO2_DERIVEE [R]_C1\n",
      "ORIGINE_COLONNES [B]_C1\n",
      "V2V_INJECTION_N2 [B]_C1\n",
      "V2V_INJECTION_O2 [B]_C1\n",
      "V2V_INJ_AIR_NEUF [B]_C1\n",
      "VIDANGE_CANIVEAU [B]_C1\n",
      "CONSIGNE_ROTATION [I]_C1\n",
      "CONSIGNE_TEMP_INF [R]_C1\n",
      "CONSIGNE_TEMP_SUP [R]_C1\n",
      "DESHUMIDIFICATEUR [B]_C1\n",
      "POIDS_EAU_CELLULE [R]_C1\n",
      "POMPE_GENER_CHAUD [B]_C1\n",
      "POMPE_GENER_FROID [B]_C1\n",
      "TEMPERATURE_SONDE [R]_C1\n",
      "V2V_ABSORBTION_O2 [B]_C1\n",
      "V2V_CHAUD_INF_ECO [B]_C1\n",
      "V2V_CHAUD_SUP_ECO [B]_C1\n",
      "V2V_FROID_INF_ECO [B]_C1\n",
      "V2V_FROID_SUP_ECO [B]_C1\n",
      "V2V_INJECTION_CO2 [B]_C1\n",
      "CONSIGNE_ECLAIRAGE [I]_C1\n",
      "CONSIGNE_TEMP_FOND [R]_C1\n",
      "POIDS_EAU_CONSIGNE [R]_C1\n",
      "PRESSION_EXTERIEUR [R]_C1\n",
      "PRESSION_O2_HUMIDE [R]_C1\n",
      "V2V_ABSORBTION_CO2 [B]_C1\n",
      "V2V_ABSORBTION_CO3 [B]_C1\n",
      "V2V_CHAUD_FOND_ECO [B]_C1\n",
      "V2V_FROID_FOND_ECO [B]_C1\n",
      "HYGROMETRIE_CELLULE [R]_C1\n",
      "PRESSION_CO2_HUMIDE [R]_C1\n",
      "SURPRESSION_CEL_EXT [R]_C1\n",
      "TEMPERATURE_MOY_INF [R]_C1\n",
      "TEMPERATURE_MOY_SUP [R]_C1\n",
      "TEMPERATURE_REPRISE [R]_C1\n",
      "V2V_CIRCULATION_AIR [B]_C1\n",
      "V2V_CONDENS_UTA_EXT [B]_C1\n",
      "V2V_CONDENS_UTA_INT [B]_C1\n",
      "CONSIGNE_VENTILATION [I]_C1\n",
      "HYGROMETRIE_CONSIGNE [I]_C1\n",
      "TEMPERATURE_CONSIGNE [R]_C1\n",
      "TEMPERATURE_MOY_FOND [R]_C1\n",
      "V2V_LESSIVAT_ECORIUM [B]_C1\n",
      "V2V_VIDANGE_CANIVEAU [B]_C1\n",
      "VIDANGE_EAU_DE_PLUIE [B]_C1\n",
      "HYGROMETRIE_SOUFFLAGE [R]_C1\n",
      "TEMPERATURE_SOUFFLAGE [R]_C1\n",
      "V2V_CONDENSAT_UTA_EXT [B]_C1\n",
      "V2V_CONDENSAT_UTA_INT [B]_C1\n",
      "VENTILATEUR_TEMPETE_1 [B]_C1\n",
      "VENTILATEUR_TEMPETE_2 [B]_C1\n",
      "VENTILATEUR_TEMPETE_3 [B]_C1\n",
      "VENTILATEUR_TEMPETE_4 [B]_C1\n",
      "TEMPERATURE_ALLER_CHAUD [R]_C1\n",
      "TEMPERATURE_ALLER_FROID [R]_C1\n",
      "TEMP_ENTREE_INF_ECORIUM [R]_C1\n",
      "TEMP_ENTREE_SUP_ECORIUM [R]_C1\n",
      "TEMP_SORTIE_INF_ECORIUM [R]_C1\n",
      "TEMP_SORTIE_SUP_ECORIUM [R]_C1\n",
      "TEMPERATURE_RETOUR_CHAUD [R]_C1\n",
      "TEMPERATURE_RETOUR_FROID [R]_C1\n",
      "TEMP_ENTREE_FOND_ECORIUM [R]_C1\n",
      "TEMP_SORTIE_FOND_ECORIUM [R]_C1\n",
      "BP [R]_C2\n",
      "HP [R]_C2\n",
      "O2 [R]_C2\n",
      "CO2 [R]_C2\n",
      "O2_MMOL [R]_C2\n",
      "POIDS_1 [R]_C2\n",
      "POIDS_2 [R]_C2\n",
      "POIDS_3 [R]_C2\n",
      "CO2_MMOL [R]_C2\n",
      "DEFAUT_BP [B]_C2\n",
      "DEFAUT_HP [B]_C2\n",
      "A_SECONDES [I]_C2\n",
      "IRRADIANCE [I]_C2\n",
      "REARMEMENT [B]_C2\n",
      "ARU_CELLULE [B]_C2\n",
      "CONSIGNE_O2 [I]_C2\n",
      "Etat_Mesure [B]_C2\n",
      "POIDS_TOTAL [I]_C2\n",
      "BALLON_CHAUD [R]_C2\n",
      "BALLON_FROID [R]_C2\n",
      "CONSIGNE_CO2 [I]_C2\n",
      "MA_VARIATEUR [B]_C2\n",
      "COMPRESSEUR_1 [B]_C2\n",
      "COMPRESSEUR_2 [B]_C2\n",
      "POMPE_INF_ECO [B]_C2\n",
      "POMPE_SUP_ECO [B]_C2\n",
      "PPM_O2_HUMIDE [R]_C2\n",
      "V2V_AIR_VICIE [B]_C2\n",
      "V2V_EAU_PLUIE [I]_C2\n",
      "HAUTEUR_ECOLUX [I]_C2\n",
      "HUMIDIFICATEUR [I]_C2\n",
      "POMPE_FOND_ECO [B]_C2\n",
      "PPM_CO2_HUMIDE [I]_C2\n",
      "V2V_DESHUMIDIF [B]_C2\n",
      "VANNE_PROP_INF [I]_C2\n",
      "VANNE_PROP_SUP [I]_C2\n",
      "FERMETURE_PORTE [B]_C2\n",
      "MOLE_O2_DERIVEE [R]_C2\n",
      "POMPE_UTA_CHAUD [B]_C2\n",
      "POMPE_UTA_FROID [B]_C2\n",
      "V2V_CAPTAGE_CO2 [B]_C2\n",
      "VANNE_PROP_FOND [I]_C2\n",
      "VANNE_UTA_CHAUD [I]_C2\n",
      "VANNE_UTA_FROID [I]_C2\n",
      "VENTILATEUR_CTA [B]_C2\n",
      "MOLE_CO2_DERIVEE [R]_C2\n",
      "ORIGINE_COLONNES [B]_C2\n",
      "V2V_INJECTION_N2 [B]_C2\n",
      "V2V_INJECTION_O2 [B]_C2\n",
      "V2V_INJ_AIR_NEUF [B]_C2\n",
      "VIDANGE_CANIVEAU [B]_C2\n",
      "CONSIGNE_ROTATION [I]_C2\n",
      "CONSIGNE_TEMP_INF [R]_C2\n",
      "CONSIGNE_TEMP_SUP [R]_C2\n",
      "DESHUMIDIFICATEUR [B]_C2\n",
      "POIDS_EAU_CELLULE [R]_C2\n",
      "POMPE_GENER_CHAUD [B]_C2\n",
      "POMPE_GENER_FROID [B]_C2\n",
      "TEMPERATURE_SONDE [R]_C2\n",
      "V2V_ABSORBTION_O2 [B]_C2\n",
      "V2V_CHAUD_INF_ECO [B]_C2\n",
      "V2V_CHAUD_SUP_ECO [B]_C2\n",
      "V2V_FROID_INF_ECO [B]_C2\n",
      "V2V_FROID_SUP_ECO [B]_C2\n",
      "V2V_INJECTION_CO2 [B]_C2\n",
      "CONSIGNE_ECLAIRAGE [I]_C2\n",
      "CONSIGNE_TEMP_FOND [R]_C2\n",
      "POIDS_EAU_CONSIGNE [R]_C2\n",
      "PRESSION_EXTERIEUR [R]_C2\n",
      "PRESSION_O2_HUMIDE [R]_C2\n",
      "V2V_ABSORBTION_CO2 [B]_C2\n",
      "V2V_CHAUD_FOND_ECO [B]_C2\n",
      "V2V_FROID_FOND_ECO [B]_C2\n",
      "HYGROMETRIE_CELLULE [R]_C2\n",
      "PRESSION_CO2_HUMIDE [R]_C2\n",
      "SURPRESSION_CEL_EXT [R]_C2\n",
      "TEMPERATURE_MOY_INF [R]_C2\n",
      "TEMPERATURE_MOY_SUP [R]_C2\n",
      "TEMPERATURE_REPRISE [R]_C2\n",
      "V2V_CIRCULATION_AIR [B]_C2\n",
      "V2V_CONDENS_UTA_EXT [B]_C2\n",
      "V2V_CONDENS_UTA_INT [B]_C2\n",
      "CONSIGNE_VENTILATION [I]_C2\n",
      "HYGROMETRIE_CONSIGNE [I]_C2\n",
      "TEMPERATURE_CONSIGNE [R]_C2\n",
      "TEMPERATURE_MOY_FOND [R]_C2\n",
      "V2V_LESSIVAT_ECORIUM [B]_C2\n",
      "V2V_VIDANGE_CANIVEAU [B]_C2\n",
      "VIDANGE_EAU_DE_PLUIE [B]_C2\n",
      "HYGROMETRIE_SOUFFLAGE [R]_C2\n",
      "TEMPERATURE_SOUFFLAGE [R]_C2\n",
      "V2V_CONDENSAT_UTA_EXT [B]_C2\n",
      "V2V_CONDENSAT_UTA_INT [B]_C2\n",
      "VENTILATEUR_TEMPETE_1 [B]_C2\n",
      "VENTILATEUR_TEMPETE_2 [B]_C2\n",
      "VENTILATEUR_TEMPETE_3 [B]_C2\n",
      "VENTILATEUR_TEMPETE_4 [B]_C2\n",
      "TEMPERATURE_ALLER_CHAUD [R]_C2\n",
      "TEMPERATURE_ALLER_FROID [R]_C2\n",
      "TEMP_ENTREE_INF_ECORIUM [R]_C2\n",
      "TEMP_ENTREE_SUP_ECORIUM [R]_C2\n",
      "TEMP_SORTIE_INF_ECORIUM [R]_C2\n",
      "TEMP_SORTIE_SUP_ECORIUM [R]_C2\n",
      "TEMPERATURE_RETOUR_CHAUD [R]_C2\n",
      "TEMPERATURE_RETOUR_FROID [R]_C2\n",
      "TEMP_ENTREE_FOND_ECORIUM [R]_C2\n",
      "TEMP_SORTIE_FOND_ECORIUM [R]_C2\n",
      "BP [R]_C3\n",
      "HP [R]_C3\n",
      "O2 [R]_C3\n",
      "CO2 [R]_C3\n",
      "O2_MMOL [R]_C3\n",
      "POIDS_1 [R]_C3\n",
      "POIDS_2 [R]_C3\n",
      "POIDS_3 [R]_C3\n",
      "CO2_MMOL [R]_C3\n",
      "DEFAUT_BP [B]_C3\n",
      "DEFAUT_HP [B]_C3\n",
      "A_SECONDES [I]_C3\n",
      "IRRADIANCE [I]_C3\n",
      "REARMEMENT [B]_C3\n",
      "ARU_CELLULE [B]_C3\n",
      "CONSIGNE_O2 [I]_C3\n",
      "Etat_Mesure [B]_C3\n",
      "POIDS_TOTAL [R]_C3\n",
      "BALLON_CHAUD [R]_C3\n",
      "BALLON_FROID [R]_C3\n",
      "CONSIGNE_CO2 [I]_C3\n",
      "MA_VARIATEUR [B]_C3\n",
      "COMPRESSEUR_1 [B]_C3\n",
      "COMPRESSEUR_2 [B]_C3\n",
      "POMPE_INF_ECO [B]_C3\n",
      "POMPE_SUP_ECO [B]_C3\n",
      "PPM_O2_HUMIDE [R]_C3\n",
      "V2V_AIR_VICIE [B]_C3\n",
      "V2V_EAU_PLUIE [I]_C3\n",
      "HAUTEUR_ECOLUX [I]_C3\n",
      "HUMIDIFICATEUR [I]_C3\n",
      "POMPE_FOND_ECO [B]_C3\n",
      "PPM_CO2_HUMIDE [I]_C3\n",
      "V2V_DESHUMIDIF [B]_C3\n",
      "VANNE_PROP_INF [I]_C3\n",
      "VANNE_PROP_SUP [I]_C3\n",
      "FERMETURE_PORTE [B]_C3\n",
      "MOLE_O2_DERIVEE [R]_C3\n",
      "POMPE_UTA_CHAUD [B]_C3\n",
      "POMPE_UTA_FROID [B]_C3\n",
      "V2V_CAPTAGE_CO2 [B]_C3\n",
      "VANNE_PROP_FOND [I]_C3\n",
      "VANNE_UTA_CHAUD [I]_C3\n",
      "VANNE_UTA_FROID [I]_C3\n",
      "VENTILATEUR_CTA [B]_C3\n",
      "MOLE_CO2_DERIVEE [R]_C3\n",
      "ORIGINE_COLONNES [B]_C3\n",
      "V2V_INJECTION_N2 [B]_C3\n",
      "V2V_INJECTION_O2 [B]_C3\n",
      "V2V_INJ_AIR_NEUF [B]_C3\n",
      "VIDANGE_CANIVEAU [B]_C3\n",
      "CONSIGNE_ROTATION [I]_C3\n",
      "CONSIGNE_TEMP_INF [R]_C3\n",
      "CONSIGNE_TEMP_SUP [R]_C3\n",
      "DESHUMIDIFICATEUR [B]_C3\n",
      "POIDS_EAU_CELLULE [R]_C3\n",
      "POMPE_GENER_CHAUD [B]_C3\n",
      "POMPE_GENER_FROID [B]_C3\n",
      "TEMPERATURE_SONDE [R]_C3\n",
      "V2V_ABSORBTION_O2 [B]_C3\n",
      "V2V_CHAUD_INF_ECO [B]_C3\n",
      "V2V_CHAUD_SUP_ECO [B]_C3\n",
      "V2V_FROID_INF_ECO [B]_C3\n",
      "V2V_FROID_SUP_ECO [B]_C3\n",
      "V2V_INJECTION_CO2 [B]_C3\n",
      "CONSIGNE_ECLAIRAGE [I]_C3\n",
      "CONSIGNE_TEMP_FOND [R]_C3\n",
      "POIDS_EAU_CONSIGNE [R]_C3\n",
      "PRESSION_EXTERIEUR [R]_C3\n",
      "PRESSION_O2_HUMIDE [R]_C3\n",
      "V2V_ABSORBTION_CO2 [B]_C3\n",
      "V2V_CHAUD_FOND_ECO [B]_C3\n",
      "HYGROMETRIE_CELLULE [R]_C3\n",
      "PRESSION_CO2_HUMIDE [R]_C3\n",
      "SURPRESSION_CEL_EXT [R]_C3\n",
      "TEMPERATURE_MOY_INF [R]_C3\n",
      "TEMPERATURE_MOY_SUP [R]_C3\n",
      "TEMPERATURE_REPRISE [R]_C3\n",
      "V2V_CIRCULATION_AIR [B]_C3\n",
      "V2V_CONDENS_UTA_EXT [B]_C3\n",
      "V2V_CONDENS_UTA_INT [B]_C3\n",
      "CONSIGNE_VENTILATION [I]_C3\n",
      "HYGROMETRIE_CONSIGNE [I]_C3\n",
      "TEMPERATURE_CONSIGNE [R]_C3\n",
      "TEMPERATURE_MOY_FOND [R]_C3\n",
      "V2V_LESSIVAT_ECORIUM [B]_C3\n",
      "V2V_VIDANGE_CANIVEAU [B]_C3\n",
      "VIDANGE_EAU_DE_PLUIE [B]_C3\n",
      "HYGROMETRIE_SOUFFLAGE [R]_C3\n",
      "TEMPERATURE_SOUFFLAGE [R]_C3\n",
      "V2V_CONDENSAT_UTA_EXT [B]_C3\n",
      "V2V_CONDENSAT_UTA_INT [B]_C3\n",
      "VENTILATEUR_TEMPETE_1 [B]_C3\n",
      "VENTILATEUR_TEMPETE_2 [B]_C3\n",
      "VENTILATEUR_TEMPETE_3 [B]_C3\n",
      "VENTILATEUR_TEMPETE_4 [B]_C3\n",
      "TEMPERATURE_ALLER_CHAUD [R]_C3\n",
      "TEMPERATURE_ALLER_FROID [R]_C3\n",
      "TEMP_ENTREE_INF_ECORIUM [R]_C3\n",
      "TEMP_ENTREE_SUP_ECORIUM [R]_C3\n",
      "TEMP_SORTIE_INF_ECORIUM [R]_C3\n",
      "TEMP_SORTIE_SUP_ECORIUM [R]_C3\n",
      "TEMPERATURE_RETOUR_CHAUD [R]_C3\n",
      "TEMPERATURE_RETOUR_FROID [R]_C3\n",
      "TEMP_ENTREE_FOND_ECORIUM [R]_C3\n",
      "TEMP_SORTIE_FOND_ECORIUM [R]_C3\n",
      "TEMPERATURE_MEG_FROID [R]_C4\n",
      "TEMPERATURE_MEG_CHAUD [R]_C4\n",
      "BP_R134_EN_BARS [R]_C4\n",
      "BP_R134_EN_DEGRES [R]_C4\n",
      "CONSIGNE_BALLON_FROID [R]_C4\n",
      "CONSIGNE_BALLON_CHAUD [R]_C4\n",
      "HP_R134_EN_BARS [R]_C4\n",
      "HP_R134_EN_DEGRES [R]_C4\n",
      "CDE_CONDENSEUR [B]_C4\n",
      "CDE_EVAPORATEUR [B]_C4\n",
      "LOCAL_DISTANT [B]_C4\n",
      "MA_THERMO [B]_C4\n",
      "CDE_DEGIVRAGE [B]_C4\n",
      "CDE_EVAPO_FROID [B]_C4\n",
      "CDE_EVAPO_CHAUD [B]_C4\n",
      "DEBIT_BP [B]_C4\n",
      "DEBIT_HP [B]_C4\n",
      "DEFAUT_COMPRESSEUR_HP [B]_C4\n",
      "DEFAUT_COMPRESSEUR_BP [B]_C4\n",
      "DEFAUT_COMPRESSEUR_1 [B]_C4\n",
      "DEFAUT_COMPRESSEUR_2 [B]_C4\n",
      "SECURITE_GENERALE [B]_C4\n",
      "THERMOSTAT [B]_C4\n",
      "SECURITE_HP [B]_C4\n",
      "COMPRESSEUR_1 [B]_C4\n",
      "COMPRESSEUR_2 [B]_C4\n",
      "CDE_EVAPO_BP_FROID [B]_C4\n",
      "CDE_VENTILATEUR_EVAPO [B]_C4\n",
      "POMPE_MEG_FROID [B]_C4\n",
      "POMPE_MEG_CHAUD [B]_C4\n",
      "RETOUR_LOCAL_DISTANT [B]_C4\n",
      "SECU_BALLON_CHAUD [B]_C4\n",
      "SECU_BALLON_FROID [B]_C4\n",
      "CDE_COMPRESSEUR1 [B]_C4\n",
      "CDE_COMPRESSEUR2 [B]_C4\n",
      "ecart_temp_C1\n",
      "alerte_temp_C1\n",
      "ecart_temp_C2\n",
      "alerte_temp_C2\n",
      "ecart_temp_C3\n",
      "alerte_temp_C3\n",
      "cluster_All\n",
      "ecart_temp_C4_C\n",
      "ecart_temp_C4_F\n",
      "seconds_in_day\n",
      "day_sin\n",
      "day_cos\n",
      "anomalie\n"
     ]
    }
   ],
   "execution_count": 29
  },
  {
   "metadata": {
    "ExecuteTime": {
     "end_time": "2025-08-16T21:00:11.605746Z",
     "start_time": "2025-08-16T20:59:54.374095Z"
    }
   },
   "cell_type": "code",
   "source": [
    "import pandas as pd\n",
    "df = pd.read_csv('../../datas/E4_3/E3_all_alert_panne_indicator.csv', sep=',')"
   ],
   "id": "35f0a4579648daf4",
   "outputs": [],
   "execution_count": 1
  },
  {
   "metadata": {
    "ExecuteTime": {
     "end_time": "2025-08-13T21:01:58.802786Z",
     "start_time": "2025-08-13T21:01:58.723801Z"
    }
   },
   "cell_type": "code",
   "source": "df.head",
   "id": "f0399e26a90687b5",
   "outputs": [
    {
     "data": {
      "text/plain": [
       "<bound method NDFrame.head of                    datetime  BP [R]_C1  HP [R]_C1  O2 [R]_C1  CO2 [R]_C1  \\\n",
       "0       2025-04-07 10:28:44   0.000000   0.000000        0.0         0.0   \n",
       "1       2025-04-07 10:28:50 -14.528214  33.102051  1638300.0       359.0   \n",
       "2       2025-04-07 10:28:53 -14.528214  33.102051  1638300.0       359.0   \n",
       "3       2025-04-07 10:29:00 -14.528214  33.102051  1638300.0       359.0   \n",
       "4       2025-04-07 10:29:04 -14.528214  33.102051  1638300.0       359.0   \n",
       "...                     ...        ...        ...        ...         ...   \n",
       "891757  2025-06-30 11:59:29  14.362375  27.909761  1638300.0       348.0   \n",
       "891758  2025-06-30 11:59:59  14.362375  27.909761  1638300.0       348.0   \n",
       "891759  2025-06-30 12:00:29  14.362375  27.909761  1638300.0       348.0   \n",
       "891760  2025-06-30 12:00:59  14.362375  27.909761  1638300.0       348.0   \n",
       "891761  2025-06-30 12:01:29  14.362375  27.909761  1638300.0       348.0   \n",
       "\n",
       "        O2_MMOL [R]_C1  POIDS_1 [R]_C1  POIDS_2 [R]_C1  POIDS_3 [R]_C1  \\\n",
       "0                  0.0    -1000.000000    -1000.000000    -1000.000000   \n",
       "1                  0.0      178.333333      158.333333      157.666667   \n",
       "2                  0.0      178.333333      158.333333      157.666667   \n",
       "3                  0.0      178.333333      158.333333      157.666667   \n",
       "4                  0.0      178.333333      158.333333      157.666667   \n",
       "...                ...             ...             ...             ...   \n",
       "891757             0.0        5.333333       -2.666667       -2.000000   \n",
       "891758             0.0        5.333333       -2.666667       -2.000000   \n",
       "891759             0.0        5.333333       -2.666667       -2.000000   \n",
       "891760             0.0        5.333333       -2.666667       -2.000000   \n",
       "891761             0.0        5.333333       -2.666667       -2.000000   \n",
       "\n",
       "        CO2_MMOL [R]_C1  ...  alerte_temp_C3  cluster_All  ecart_temp_C4_C  \\\n",
       "0                   0.0  ...               0            0         0.000000   \n",
       "1                   0.0  ...               0            1         0.000000   \n",
       "2                   0.0  ...               0            1         0.000000   \n",
       "3                   0.0  ...               0            1         0.000000   \n",
       "4                   0.0  ...               1            1         0.000000   \n",
       "...                 ...  ...             ...          ...              ...   \n",
       "891757              0.0  ...               1            0       -17.799999   \n",
       "891758              0.0  ...               1            0       -17.799999   \n",
       "891759              0.0  ...               1            0       -17.799999   \n",
       "891760              0.0  ...               1            0       -17.799999   \n",
       "891761              0.0  ...               1            0       -17.799999   \n",
       "\n",
       "        ecart_temp_C4_F  seconds_in_day   day_sin   day_cos  anomalie  \\\n",
       "0                   0.0           37724  0.387784 -0.921750         1   \n",
       "1                   0.0           37730  0.387382 -0.921920         1   \n",
       "2                   0.0           37733  0.387180 -0.922004         1   \n",
       "3                   0.0           37740  0.386711 -0.922201         1   \n",
       "4                   0.0           37744  0.386443 -0.922313         1   \n",
       "...                 ...             ...       ...       ...       ...   \n",
       "891757             30.5           43169  0.002254 -0.999997         0   \n",
       "891758             30.5           43199  0.000073 -1.000000         0   \n",
       "891759             30.5           43229 -0.002109 -0.999998         0   \n",
       "891760             30.5           43259 -0.004291 -0.999991         0   \n",
       "891761             30.5           43289 -0.006472 -0.999979         0   \n",
       "\n",
       "        indicators  cluster  \n",
       "0                0        1  \n",
       "1                0        1  \n",
       "2                0        1  \n",
       "3                0        1  \n",
       "4                0        1  \n",
       "...            ...      ...  \n",
       "891757           0        1  \n",
       "891758           0        1  \n",
       "891759           0        1  \n",
       "891760           0        1  \n",
       "891761           0        1  \n",
       "\n",
       "[891762 rows x 372 columns]>"
      ]
     },
     "execution_count": 126,
     "metadata": {},
     "output_type": "execute_result"
    }
   ],
   "execution_count": 126
  },
  {
   "metadata": {
    "ExecuteTime": {
     "end_time": "2025-08-13T12:38:33.991856Z",
     "start_time": "2025-08-13T12:38:33.978376Z"
    }
   },
   "cell_type": "code",
   "source": [
    "# Crée d'abord la colonne indicators à 0\n",
    "df[\"indicators\"] = 0\n",
    "\n",
    "# Trouve les index où anomalie == 2\n",
    "anom_idx = df.index[df[\"anomalie\"] == 2]\n",
    "\n",
    "# Décale de -10 (10 lignes avant)\n",
    "target_idx = anom_idx - 200\n",
    "\n",
    "# Filtre pour éviter les index négatifs\n",
    "target_idx = target_idx[target_idx >= 0]\n",
    "\n",
    "# Mets 1 à ces positions\n",
    "df.loc[target_idx, \"indicators\"] = 1\n"
   ],
   "id": "87286b0f1d7377a9",
   "outputs": [],
   "execution_count": 99
  },
  {
   "metadata": {
    "ExecuteTime": {
     "end_time": "2025-08-12T18:14:10.400014Z",
     "start_time": "2025-08-12T18:14:10.385409Z"
    }
   },
   "cell_type": "code",
   "source": [
    "df.loc[(df[\"indicators\"] == 1) & (df[\"anomalie\"] != 2), \"anomalie\"] = 3\n",
    "\n"
   ],
   "id": "ac4058ee3bb637c7",
   "execution_count": 43,
   "outputs": []
  },
  {
   "metadata": {
    "ExecuteTime": {
     "end_time": "2025-08-13T21:04:40.474101Z",
     "start_time": "2025-08-13T21:04:40.467542Z"
    }
   },
   "cell_type": "code",
   "source": "len(df)",
   "id": "d49ee4731bafb94e",
   "outputs": [
    {
     "data": {
      "text/plain": [
       "891762"
      ]
     },
     "execution_count": 128,
     "metadata": {},
     "output_type": "execute_result"
    }
   ],
   "execution_count": 128
  },
  {
   "metadata": {
    "ExecuteTime": {
     "end_time": "2025-08-13T21:05:36.353395Z",
     "start_time": "2025-08-13T21:05:36.347122Z"
    }
   },
   "cell_type": "code",
   "source": "df_train = df.iloc[0:700_000]",
   "id": "ceab58f45446b12b",
   "outputs": [],
   "execution_count": 129
  },
  {
   "metadata": {
    "ExecuteTime": {
     "end_time": "2025-08-13T21:05:48.555146Z",
     "start_time": "2025-08-13T21:05:48.548699Z"
    }
   },
   "cell_type": "code",
   "source": "df_test = df.iloc[700_000:]",
   "id": "27e9b4f38b9a9b3f",
   "outputs": [],
   "execution_count": 130
  },
  {
   "metadata": {
    "ExecuteTime": {
     "end_time": "2025-08-13T21:06:06.240090Z",
     "start_time": "2025-08-13T21:06:06.234083Z"
    }
   },
   "cell_type": "code",
   "source": "len(df_test)",
   "id": "eb18a88e9da1d4b4",
   "outputs": [
    {
     "data": {
      "text/plain": [
       "191762"
      ]
     },
     "execution_count": 132,
     "metadata": {},
     "output_type": "execute_result"
    }
   ],
   "execution_count": 132
  },
  {
   "metadata": {
    "ExecuteTime": {
     "end_time": "2025-08-13T21:08:02.908228Z",
     "start_time": "2025-08-13T21:07:34.010009Z"
    }
   },
   "cell_type": "code",
   "source": "df_test.to_csv('../datas/E4_3/anomalie_2/data_test.csv', index=False)",
   "id": "ee8d6beb757ed130",
   "outputs": [],
   "execution_count": 133
  },
  {
   "metadata": {
    "ExecuteTime": {
     "end_time": "2025-08-13T21:09:30.739961Z",
     "start_time": "2025-08-13T21:08:02.948756Z"
    }
   },
   "cell_type": "code",
   "source": "df_train.to_csv('../datas/E4_3/anomalie_2/data_train.csv', index=False)",
   "id": "56de7d023ef447cd",
   "outputs": [],
   "execution_count": 134
  },
  {
   "metadata": {
    "ExecuteTime": {
     "end_time": "2025-08-13T21:02:05.381256Z",
     "start_time": "2025-08-13T21:02:05.048935Z"
    }
   },
   "cell_type": "code",
   "source": "df['cluster'].plot()",
   "id": "3989fdef0d113fa6",
   "outputs": [
    {
     "data": {
      "text/plain": [
       "<Axes: >"
      ]
     },
     "execution_count": 127,
     "metadata": {},
     "output_type": "execute_result"
    },
    {
     "data": {
      "text/plain": [
       "<Figure size 640x480 with 1 Axes>"
      ],
      "image/png": "[encoded data removed]"
     },
     "metadata": {},
     "output_type": "display_data"
    }
   ],
   "execution_count": 127
  },
  {
   "metadata": {
    "ExecuteTime": {
     "end_time": "2025-08-12T17:29:48.982422Z",
     "start_time": "2025-08-12T17:29:48.969381Z"
    }
   },
   "cell_type": "code",
   "source": [
    "di = df[df['indicators'] ==1]\n",
    "da = df[df['anomalie'] ==2]"
   ],
   "id": "133983b77a0819c4",
   "outputs": [],
   "execution_count": 10
  },
  {
   "metadata": {
    "ExecuteTime": {
     "end_time": "2025-08-12T17:30:23.769843Z",
     "start_time": "2025-08-12T17:30:23.755021Z"
    }
   },
   "cell_type": "code",
   "source": "da.head",
   "id": "8378db4146d78a01",
   "outputs": [
    {
     "data": {
      "text/plain": [
       "<bound method NDFrame.head of         Unnamed: 0             datetime  BP [R]_C1  HP [R]_C1  O2 [R]_C1  \\\n",
       "773686      773686  2025-06-13 15:20:33   0.000000   0.000000        0.0   \n",
       "773687      773687  2025-06-13 15:20:34   0.000000   0.000000        0.0   \n",
       "773688      773688  2025-06-13 15:20:39 -11.129303  50.220543  1638300.0   \n",
       "773689      773689  2025-06-13 15:20:44 -11.129303  50.220543  1638300.0   \n",
       "773690      773690  2025-06-13 15:20:49 -11.129303  50.220543  1638300.0   \n",
       "773691      773691  2025-06-13 15:20:50 -11.129303  50.220543  1638300.0   \n",
       "773692      773692  2025-06-13 15:20:53 -11.129303  50.220543  1638300.0   \n",
       "773693      773693  2025-06-13 15:20:55 -11.129303  50.220543  1638300.0   \n",
       "773811      773811  2025-06-13 15:50:41   0.000000   0.000000        0.0   \n",
       "773812      773812  2025-06-13 15:50:42   0.000000   0.000000        0.0   \n",
       "773813      773813  2025-06-13 15:50:47  -7.838324  47.471207  1638300.0   \n",
       "773814      773814  2025-06-13 15:50:50  -7.838324  47.471207  1638300.0   \n",
       "773815      773815  2025-06-13 15:50:58  -7.838324  47.471207  1638300.0   \n",
       "773816      773816  2025-06-13 15:51:01  -7.838324  47.471207  1638300.0   \n",
       "\n",
       "        CO2 [R]_C1  O2_MMOL [R]_C1  POIDS_1 [R]_C1  POIDS_2 [R]_C1  \\\n",
       "773686         0.0             0.0    -1000.000000    -1000.000000   \n",
       "773687         0.0             0.0    -1000.000000    -1000.000000   \n",
       "773688       452.0             0.0      694.666667      644.333333   \n",
       "773689       452.0             0.0      694.666667      644.333333   \n",
       "773690       452.0             0.0      694.666667      644.333333   \n",
       "773691       452.0             0.0      694.666667      644.333333   \n",
       "773692       452.0             0.0      694.666667      644.333333   \n",
       "773693       452.0             0.0      694.666667      644.333333   \n",
       "773811         0.0             0.0    -1000.000000    -1000.000000   \n",
       "773812         0.0             0.0    -1000.000000    -1000.000000   \n",
       "773813       461.0             0.0      696.333333      641.333333   \n",
       "773814       461.0             0.0      696.333333      641.333333   \n",
       "773815       461.0             0.0      696.333333      641.333333   \n",
       "773816       461.0             0.0      696.333333      641.333333   \n",
       "\n",
       "        POIDS_3 [R]_C1  ...  ecart_temp_C3  alerte_temp_C3  cluster_All  \\\n",
       "773686    -1000.000000  ...            0.0               0            0   \n",
       "773687    -1000.000000  ...            0.0               0            0   \n",
       "773688      630.666667  ...            0.0               0            0   \n",
       "773689      630.666667  ...            0.0               0            0   \n",
       "773690      630.666667  ...            0.0               0            0   \n",
       "773691      630.666667  ...            0.0               0            0   \n",
       "773692      630.666667  ...            0.0               0            0   \n",
       "773693      630.666667  ...            0.0               0            0   \n",
       "773811    -1000.000000  ...            0.0               0            0   \n",
       "773812    -1000.000000  ...            0.0               0            0   \n",
       "773813      630.000000  ...            0.0               0            0   \n",
       "773814      630.000000  ...            0.0               0            0   \n",
       "773815      630.000000  ...            0.0               0            0   \n",
       "773816      630.000000  ...            0.0               0            0   \n",
       "\n",
       "        ecart_temp_C4_C  ecart_temp_C4_F  seconds_in_day   day_sin   day_cos  \\\n",
       "773686              0.0              0.0           55233 -0.767585 -0.640947   \n",
       "773687              0.0              0.0           55234 -0.767631 -0.640892   \n",
       "773688              0.0              0.0           55239 -0.767864 -0.640612   \n",
       "773689              0.0              0.0           55244 -0.768097 -0.640333   \n",
       "773690              0.0              0.0           55249 -0.768330 -0.640054   \n",
       "773691              0.0              0.0           55250 -0.768377 -0.639998   \n",
       "773692              0.0              0.0           55253 -0.768516 -0.639830   \n",
       "773693              0.0              0.0           55255 -0.768609 -0.639719   \n",
       "773811              0.0              0.0           57041 -0.844990 -0.534783   \n",
       "773812              0.0              0.0           57042 -0.845029 -0.534721   \n",
       "773813              0.0              0.0           57047 -0.845223 -0.534414   \n",
       "773814              0.0              0.0           57050 -0.845340 -0.534229   \n",
       "773815              0.0              0.0           57058 -0.845650 -0.533738   \n",
       "773816              0.0              0.0           57061 -0.845767 -0.533553   \n",
       "\n",
       "        anomalie  indicators  \n",
       "773686         2           0  \n",
       "773687         2           0  \n",
       "773688         2           0  \n",
       "773689         2           0  \n",
       "773690         2           0  \n",
       "773691         2           0  \n",
       "773692         2           0  \n",
       "773693         2           0  \n",
       "773811         2           0  \n",
       "773812         2           0  \n",
       "773813         2           0  \n",
       "773814         2           0  \n",
       "773815         2           0  \n",
       "773816         2           0  \n",
       "\n",
       "[14 rows x 372 columns]>"
      ]
     },
     "execution_count": 13,
     "metadata": {},
     "output_type": "execute_result"
    }
   ],
   "execution_count": 13
  },
  {
   "metadata": {
    "ExecuteTime": {
     "end_time": "2025-08-12T17:31:05.450076Z",
     "start_time": "2025-08-12T17:31:05.433354Z"
    }
   },
   "cell_type": "code",
   "source": "di.head",
   "id": "2b8b334ccbfc468a",
   "outputs": [
    {
     "data": {
      "text/plain": [
       "<bound method NDFrame.head of         Unnamed: 0             datetime  BP [R]_C1  HP [R]_C1  O2 [R]_C1  \\\n",
       "773676      773676  2025-06-13 15:16:49 -12.197917  47.064320  1638300.0   \n",
       "773677      773677  2025-06-13 15:16:50 -12.197917  47.064320  1638300.0   \n",
       "773678      773678  2025-06-13 15:16:51  -7.749630  47.706234  1638300.0   \n",
       "773679      773679  2025-06-13 15:16:52  -7.749630  47.706234  1638300.0   \n",
       "773680      773680  2025-06-13 15:16:53  -7.749630  47.706234  1638300.0   \n",
       "773681      773681  2025-06-13 15:17:20  -7.749630  47.706234  1638300.0   \n",
       "773682      773682  2025-06-13 15:17:21  -7.617086  48.199478  1638300.0   \n",
       "773683      773683  2025-06-13 15:17:22  -7.617086  48.199478  1638300.0   \n",
       "773801      773801  2025-06-13 15:46:06  -9.435902  47.011623  1638300.0   \n",
       "773802      773802  2025-06-13 15:46:09  -9.435902  47.011623  1638300.0   \n",
       "773803      773803  2025-06-13 15:46:10  -9.435902  47.011623  1638300.0   \n",
       "773804      773804  2025-06-13 15:46:14  -9.435902  47.011623  1638300.0   \n",
       "773805      773805  2025-06-13 15:46:16  -9.435902  47.011623  1638300.0   \n",
       "773806      773806  2025-06-13 15:46:36  -9.412439  46.853264  1638300.0   \n",
       "\n",
       "        CO2 [R]_C1  O2_MMOL [R]_C1  POIDS_1 [R]_C1  POIDS_2 [R]_C1  \\\n",
       "773676       452.0             0.0      695.333333      644.000000   \n",
       "773677       452.0             0.0      695.333333      644.000000   \n",
       "773678       453.0             0.0      695.333333      644.000000   \n",
       "773679       453.0             0.0      695.333333      644.000000   \n",
       "773680       453.0             0.0      695.333333      644.000000   \n",
       "773681       453.0             0.0      695.000000      644.000000   \n",
       "773682       453.0             0.0      695.000000      644.000000   \n",
       "773683       453.0             0.0      695.000000      644.000000   \n",
       "773801       462.0             0.0      696.666667      641.333333   \n",
       "773802       462.0             0.0      696.666667      641.333333   \n",
       "773803       462.0             0.0      696.666667      641.333333   \n",
       "773804       462.0             0.0      696.666667      641.333333   \n",
       "773805       462.0             0.0      696.666667      641.333333   \n",
       "773806       462.0             0.0      696.666667      641.333333   \n",
       "\n",
       "        POIDS_3 [R]_C1  ...  ecart_temp_C3  alerte_temp_C3  cluster_All  \\\n",
       "773676      631.000000  ...      -5.300001               1            0   \n",
       "773677      631.000000  ...      -5.300001               1            0   \n",
       "773678      631.000000  ...      -5.399999               1            0   \n",
       "773679      631.000000  ...      -5.399999               1            0   \n",
       "773680      631.000000  ...      -5.399999               1            0   \n",
       "773681      630.666667  ...      -5.399999               1            0   \n",
       "773682      630.666667  ...      -5.500000               1            0   \n",
       "773683      630.666667  ...      -5.500000               1            0   \n",
       "773801      630.333333  ...      -8.800000               1            0   \n",
       "773802      630.333333  ...      -7.700000               1            0   \n",
       "773803      630.333333  ...      -7.700000               1            0   \n",
       "773804      630.333333  ...      -7.700000               1            0   \n",
       "773805      630.333333  ...      -7.700000               1            0   \n",
       "773806      631.000000  ...      -7.700000               1            0   \n",
       "\n",
       "        ecart_temp_C4_C  ecart_temp_C4_F  seconds_in_day   day_sin   day_cos  \\\n",
       "773676        -3.299999             12.9           55009 -0.757043 -0.653366   \n",
       "773677        -3.099998             13.1           55010 -0.757090 -0.653310   \n",
       "773678        -3.099998             13.1           55011 -0.757138 -0.653255   \n",
       "773679        -3.099998             13.1           55012 -0.757185 -0.653200   \n",
       "773680        -3.099998             13.1           55013 -0.757233 -0.653145   \n",
       "773681        -2.799999             13.0           55040 -0.758514 -0.651657   \n",
       "773682        -2.799999             13.0           55041 -0.758561 -0.651602   \n",
       "773683        -2.799999             13.0           55042 -0.758608 -0.651547   \n",
       "773801         0.700001              4.0           56766 -0.834127 -0.551573   \n",
       "773802         0.700001              4.0           56769 -0.834247 -0.551391   \n",
       "773803         0.700001              4.0           56770 -0.834287 -0.551330   \n",
       "773804         0.700001              4.0           56774 -0.834447 -0.551088   \n",
       "773805         0.700001              4.0           56776 -0.834527 -0.550966   \n",
       "773806         0.599998              4.1           56796 -0.835328 -0.549752   \n",
       "\n",
       "        anomalie  indicators  \n",
       "773676         0           1  \n",
       "773677         0           1  \n",
       "773678         0           1  \n",
       "773679         0           1  \n",
       "773680         0           1  \n",
       "773681         0           1  \n",
       "773682         0           1  \n",
       "773683         0           1  \n",
       "773801         0           1  \n",
       "773802         0           1  \n",
       "773803         0           1  \n",
       "773804         0           1  \n",
       "773805         0           1  \n",
       "773806         0           1  \n",
       "\n",
       "[14 rows x 372 columns]>"
      ]
     },
     "execution_count": 14,
     "metadata": {},
     "output_type": "execute_result"
    }
   ],
   "execution_count": 14
  },
  {
   "metadata": {
    "ExecuteTime": {
     "end_time": "2025-08-13T19:37:37.209573Z",
     "start_time": "2025-08-13T19:36:14.836472Z"
    }
   },
   "cell_type": "code",
   "source": [
    "from sklearn.ensemble import RandomForestClassifier\n",
    "from sklearn.model_selection import train_test_split\n",
    "from sklearn.metrics import classification_report\n",
    "from sklearn.metrics import mean_absolute_error, mean_squared_error, r2_score\n",
    "\n",
    "\n",
    "\n",
    "X = df[[\n",
    "     'DEBIT_BP [B]_C4',\n",
    "        'DEBIT_HP [B]_C4',\n",
    "       'TEMPERATURE_MEG_CHAUD [R]_C4',\n",
    "        'TEMPERATURE_MEG_FROID [R]_C4',\n",
    "\n",
    "    'BP_R134_EN_BARS [R]_C4',\n",
    "    'BP_R134_EN_DEGRES [R]_C4',\n",
    "        'HP_R134_EN_BARS [R]_C4',\n",
    "    'HP_R134_EN_DEGRES [R]_C4',\n",
    "\n",
    "\n",
    "   # 'day_cos',\n",
    "    #'day_sin',\n",
    "    'CONSIGNE_BALLON_CHAUD [R]_C4',\n",
    "    'CONSIGNE_BALLON_FROID [R]_C4',\n",
    "\n",
    "    'TEMPERATURE_REPRISE [R]_C1',\n",
    "    'TEMPERATURE_REPRISE [R]_C2',\n",
    "    'TEMPERATURE_REPRISE [R]_C3',\n",
    "\n",
    "    'TEMPERATURE_RETOUR_CHAUD [R]_C1',\n",
    "    'TEMPERATURE_RETOUR_CHAUD [R]_C2',\n",
    "    'TEMPERATURE_RETOUR_CHAUD [R]_C3',\n",
    "\n",
    "    'TEMPERATURE_CONSIGNE [R]_C1',\n",
    "    'TEMPERATURE_CONSIGNE [R]_C3',\n",
    "    'TEMPERATURE_CONSIGNE [R]_C2',\n",
    "    #\n",
    "    'HYGROMETRIE_CONSIGNE [I]_C1',\n",
    "    'HYGROMETRIE_CONSIGNE [I]_C2',\n",
    "    'HYGROMETRIE_CONSIGNE [I]_C3',\n",
    "\n",
    "    # 'CONSIGNE_CO2 [I]_C1',\n",
    "    # 'CONSIGNE_CO2 [I]_C2',\n",
    "    # 'CONSIGNE_CO2 [I]_C3',\n",
    "\n",
    "    # 'CONSIGNE_O2 [I]_C1',\n",
    "    # 'CONSIGNE_O2 [I]_C2',\n",
    "    # 'CONSIGNE_O2 [I]_C3',\n",
    "    #\n",
    "    # 'CONSIGNE_VENTILATION [I]_C1',\n",
    "    # 'CONSIGNE_VENTILATION [I]_C2',\n",
    "\n",
    "\n",
    "    # 'TEMPERATURE_SOUFFLAGE [R]_C2',\n",
    "    # 'TEMPERATURE_SOUFFLAGE [R]_C1',\n",
    "    # 'TEMPERATURE_SOUFFLAGE [R]_C3',\n",
    "    #\n",
    "    # 'HYGROMETRIE_CELLULE [R]_C1',\n",
    "    # 'HYGROMETRIE_CELLULE [R]_C2',\n",
    "    # 'HYGROMETRIE_CELLULE [R]_C3',\n",
    "\n",
    "    # 'CONSIGNE_ECLAIRAGE [I]_C1',\n",
    "    # 'CONSIGNE_ECLAIRAGE [I]_C2',\n",
    "    # 'CONSIGNE_ECLAIRAGE [I]_C3',\n",
    "    #\n",
    "    # 'CONSIGNE_TEMP_FOND [R]_C1',\n",
    "    # 'CONSIGNE_TEMP_FOND [R]_C2',\n",
    "    # 'CONSIGNE_TEMP_FOND [R]_C3',\n",
    "\n",
    "    # 'day_sin',\n",
    "    # 'day_cos'\n",
    "\n",
    "    # 'ecart_temp_C4_C',\n",
    "    # 'ecart_temp_C4_F',\n",
    "    #\n",
    "    # 'indicator',\n",
    "    'ecart_temp_C1',\n",
    "    'ecart_temp_C2',\n",
    "    'ecart_temp_C3',\n",
    "    'ecart_temp_C4_C',\n",
    "    'ecart_temp_C4_F',\n",
    "\n",
    "   # 'CDE_DEGIVRAGE [B]_C4',\n",
    "   #  'CDE_EVAPO_FROID [B]_C4',\n",
    "   #  'CDE_EVAPO_CHAUD [B]_C4',\n",
    "   #\n",
    "   #  'CDE_CONDENSEUR [B]_C4',\n",
    "   #  'CDE_EVAPORATEUR [B]_C4',\n",
    "   #\n",
    "    # 'DEFAUT_COMPRESSEUR_HP [B]_C4',\n",
    "    # 'DEFAUT_COMPRESSEUR_BP [B]_C4',\n",
    "    # 'DEFAUT_COMPRESSEUR_1 [B]_C4',\n",
    "    # 'DEFAUT_COMPRESSEUR_2 [B]_C4',\n",
    "    # 'SECURITE_GENERALE [B]_C4'\n",
    "\n",
    "]]\n",
    "y = df['cluster']\n",
    "\n",
    "X_train, X_test, y_train, y_test = train_test_split(X, y, test_size=0.2, random_state=42)\n",
    "\n",
    "model = RandomForestClassifier(n_estimators=100, random_state=42)\n",
    "model.fit(X_train, y_train)\n",
    "\n",
    "# Évaluation*\n",
    "y_pred = model.predict(X_test)\n",
    "mae = mean_absolute_error(y_test, y_pred)\n",
    "mse = mean_squared_error(y_test, y_pred)\n",
    "r2 = r2_score(y_test, y_pred)\n",
    "\n",
    "print(mae)\n",
    "print(mse)\n",
    "print(r2)\n",
    "print(classification_report(y_test, y_pred))"
   ],
   "id": "f2a2823c7bb35b3b",
   "outputs": [
    {
     "name": "stdout",
     "output_type": "stream",
     "text": [
      "0.0018502632419976114\n",
      "0.007109496335918095\n",
      "0.9976074077083422\n",
      "              precision    recall  f1-score   support\n",
      "\n",
      "           0       1.00      1.00      1.00     47079\n",
      "           1       1.00      1.00      1.00     11290\n",
      "           2       1.00      1.00      1.00     12708\n",
      "           3       1.00      1.00      1.00     17090\n",
      "           4       1.00      1.00      1.00     90186\n",
      "\n",
      "    accuracy                           1.00    178353\n",
      "   macro avg       1.00      1.00      1.00    178353\n",
      "weighted avg       1.00      1.00      1.00    178353\n",
      "\n"
     ]
    }
   ],
   "execution_count": 124
  },
  {
   "metadata": {
    "ExecuteTime": {
     "end_time": "2025-08-13T12:49:11.362488Z",
     "start_time": "2025-08-13T12:49:11.268540Z"
    }
   },
   "cell_type": "code",
   "source": [
    "df_train = pd.concat([X_train, y_train] , axis=1)\n",
    "df_test = pd.concat([X_test, y_test], axis=1)"
   ],
   "id": "428ca147aeb2275d",
   "outputs": [],
   "execution_count": 117
  },
  {
   "metadata": {
    "ExecuteTime": {
     "end_time": "2025-08-13T12:51:42.258278Z",
     "start_time": "2025-08-13T12:51:42.249825Z"
    }
   },
   "cell_type": "code",
   "source": "len(df_train)",
   "id": "fea976689539acd9",
   "outputs": [
    {
     "data": {
      "text/plain": [
       "713409"
      ]
     },
     "execution_count": 121,
     "metadata": {},
     "output_type": "execute_result"
    }
   ],
   "execution_count": 121
  },
  {
   "metadata": {
    "ExecuteTime": {
     "end_time": "2025-08-13T12:49:13.621973Z",
     "start_time": "2025-08-13T12:49:13.614521Z"
    }
   },
   "cell_type": "code",
   "source": "len(df_test)",
   "id": "3f80d97309eb67b9",
   "outputs": [
    {
     "data": {
      "text/plain": [
       "178353"
      ]
     },
     "execution_count": 119,
     "metadata": {},
     "output_type": "execute_result"
    }
   ],
   "execution_count": 119
  },
  {
   "metadata": {
    "ExecuteTime": {
     "end_time": "2025-08-13T12:51:22.145220Z",
     "start_time": "2025-08-13T12:51:11.478077Z"
    }
   },
   "cell_type": "code",
   "source": "df_train.to_csv('../datas/E4_3/anomalies/data_train.csv' , index=False)",
   "id": "8e7bed83d92abdb",
   "outputs": [],
   "execution_count": 120
  },
  {
   "metadata": {
    "ExecuteTime": {
     "end_time": "2025-08-13T12:51:59.456661Z",
     "start_time": "2025-08-13T12:51:56.792387Z"
    }
   },
   "cell_type": "code",
   "source": "df_test.to_csv('../datas/E4_3/anomalies/data_test.csv' , index=False)",
   "id": "ed95db0f083c5ced",
   "outputs": [],
   "execution_count": 122
  },
  {
   "metadata": {
    "ExecuteTime": {
     "end_time": "2025-08-12T18:14:40.846609Z",
     "start_time": "2025-08-12T18:14:40.122960Z"
    }
   },
   "cell_type": "code",
   "source": "df = df.drop(columns=['Unnamed: 0'])",
   "id": "e6ebdabab492edb1",
   "outputs": [],
   "execution_count": 45
  },
  {
   "metadata": {
    "ExecuteTime": {
     "end_time": "2025-08-12T18:14:54.054708Z",
     "start_time": "2025-08-12T18:14:54.046284Z"
    }
   },
   "cell_type": "code",
   "source": "df.columns",
   "id": "3a5f2c820764002f",
   "outputs": [
    {
     "data": {
      "text/plain": [
       "Index(['datetime', 'BP [R]_C1', 'HP [R]_C1', 'O2 [R]_C1', 'CO2 [R]_C1',\n",
       "       'O2_MMOL [R]_C1', 'POIDS_1 [R]_C1', 'POIDS_2 [R]_C1', 'POIDS_3 [R]_C1',\n",
       "       'CO2_MMOL [R]_C1',\n",
       "       ...\n",
       "       'ecart_temp_C3', 'alerte_temp_C3', 'cluster_All', 'ecart_temp_C4_C',\n",
       "       'ecart_temp_C4_F', 'seconds_in_day', 'day_sin', 'day_cos', 'anomalie',\n",
       "       'indicators'],\n",
       "      dtype='object', length=371)"
      ]
     },
     "execution_count": 47,
     "metadata": {},
     "output_type": "execute_result"
    }
   ],
   "execution_count": 47
  },
  {
   "metadata": {
    "ExecuteTime": {
     "end_time": "2025-08-12T18:16:51.428404Z",
     "start_time": "2025-08-12T18:14:57.892081Z"
    }
   },
   "cell_type": "code",
   "source": "df.to_csv('../datas/E4_3/E3_all_alert_panne_indicator.csv', index=False)",
   "id": "75891f5c1c5dcb3",
   "outputs": [],
   "execution_count": 48
  },
  {
   "metadata": {
    "ExecuteTime": {
     "end_time": "2025-08-13T12:28:35.600398Z",
     "start_time": "2025-08-13T12:28:35.395793Z"
    }
   },
   "cell_type": "code",
   "source": [
    "import matplotlib.pyplot as plt\n",
    "importances = model.feature_importances_\n",
    "\n",
    "feature_names = X.columns\n",
    "plt.barh(feature_names, importances)\n",
    "plt.title(\"Importance des variables\")\n",
    "plt.xlabel(\"Importance\")\n",
    "plt.show()"
   ],
   "id": "296dbaa3addf29e0",
   "outputs": [
    {
     "data": {
      "text/plain": [
       "<Figure size 640x480 with 1 Axes>"
      ],
      "image/png": "[encoded data removed]"
     },
     "metadata": {},
     "output_type": "display_data"
    }
   ],
   "execution_count": 95
  },
  {
   "metadata": {},
   "cell_type": "code",
   "outputs": [],
   "execution_count": null,
   "source": "",
   "id": "24c37593ecb5d78"
  },
  {
   "metadata": {},
   "cell_type": "code",
   "source": [
    "for i in range(len(importances)):\n",
    "    if importances[i] > 1.0:\n",
    "        print(features[i], importances[i])"
   ],
   "id": "4e0f062a82030621",
   "outputs": [],
   "execution_count": null
  },
  {
   "metadata": {},
   "cell_type": "code",
   "source": [
    "df_importances = pd.DataFrame({\n",
    "    'Feature': X.columns,\n",
    "    'Importance': model.feature_importances_\n",
    "})\n",
    "df_importances = df_importances.sort_values(by='Importance', ascending=False)\n",
    "\n",
    "# Garder uniquement les 10 premières\n",
    "top = df_importances.head(15)\n",
    "\n",
    "# Afficher les résultats\n",
    "print(top)"
   ],
   "id": "4fec125a22cb1cc",
   "outputs": [],
   "execution_count": null
  },
  {
   "metadata": {},
   "cell_type": "code",
   "source": "top['Feature']",
   "id": "6280d8ba9a3a1f46",
   "outputs": [],
   "execution_count": null
  },
  {
   "metadata": {},
   "cell_type": "code",
   "source": [
    "from sklearn.cluster import KMeans\n",
    "\n",
    "\n",
    "features = df[top['Feature']]\n",
    "kmeans = KMeans(n_clusters=2, random_state=42)\n",
    "df['cluster_New'] = kmeans.fit_predict(df[top['Feature']])"
   ],
   "id": "7a05efd743686b55",
   "outputs": [],
   "execution_count": null
  },
  {
   "metadata": {},
   "cell_type": "code",
   "source": [
    "df = df.iloc[28_000:40000]\n",
    "import matplotlib.pyplot as plt\n",
    "\n",
    "plt.figure(figsize=(14, 6))\n",
    "\n",
    "# Mapper une couleur par cluster\n",
    "colors = df['cluster_New'].map({1: 'red', 0: 'green'})\n",
    "colors_2 = df['cluster_New'].map({1: 'purple', 0: 'brown'})\n",
    "#colors_3 = df['cluster'].map({1: 'purple', 0: 'brown'})\n",
    "#colors_4 = df['cluster'].map({1: 'yellow', 0: 'white'})\n",
    "\n",
    "# Tracer chaque variable (sur le même graphique) avec la couleur correspondant au cluster\n",
    "\n",
    "#plt.scatter(df.index, df['TEMPERATURE_MOY_INF [R]'], c=colors, label='Prob-Reprise', alpha=1.0, s=2)\n",
    "#plt.scatter(df.index, df['TEMPERATURE_MOY_SUP [R]'], c=colors_2, label='Prob-Consigne', alpha=1.0, s=2)\n",
    "plt.scatter(df.index, df['TEMPERATURE_REPRISE [R]_C1'], c=colors, label='Normal', alpha=0.5, s=2)\n",
    "plt.scatter(df.index, df['TEMPERATURE_CONSIGNE [R]_C1'], c=colors_2, label='Normal', alpha=0.5, s=2)\n",
    "#plt.scatter(df.index, df['TEMPERATURE_RETOUR_CHAUD [R]_C3'], c=colors, label='Normal', alpha=0.5, s=2)\n",
    "#plt.scatter(df.index, df['TEMPERATURE_ALLER_CHAUD [R]_C1'], c=colors, label='Normal', alpha=0.5, s=2)\n",
    "\n",
    "#plt.scatter(df.index, df['V2V_CIRCULATION_AIR [B]_C3'], c=colors_2, label='Normal', alpha=0.5, s=2)\n",
    "#plt.scatter(df.index, df['TEMPERATURE_MOY_INF [R]'], c=colors_3, label='Prob-Consigne', alpha=1.0, s=2)\n",
    "#plt.scatter(df.index, df['alerte_pred'], c=colors_4, label='Prob-Consigne', alpha=1.0, s=2)\n",
    "plt.title('Cluster All')\n",
    "plt.xlabel('Index')\n",
    "plt.ylabel('Temperature Reprise + consigne' )\n",
    "plt.legend()\n",
    "plt.grid(True)\n",
    "plt.show()"
   ],
   "id": "371fc18ac6d0e67d",
   "outputs": [],
   "execution_count": null
  },
  {
   "metadata": {
    "ExecuteTime": {
     "end_time": "2025-08-27T09:37:33.997943Z",
     "start_time": "2025-08-27T09:37:22.275994Z"
    }
   },
   "cell_type": "code",
   "source": [
    "import pandas as pd\n",
    "df = pd.read_csv('../../datas/E4_3/anomalie_2/data_train.csv', sep=',')"
   ],
   "id": "a1401738a6af5872",
   "outputs": [],
   "execution_count": 1
  },
  {
   "metadata": {
    "ExecuteTime": {
     "end_time": "2025-08-27T15:02:21.527859Z",
     "start_time": "2025-08-27T15:02:04.754972Z"
    }
   },
   "cell_type": "code",
   "source": [
    "from sklearn.ensemble import RandomForestClassifier\n",
    "from sklearn.model_selection import train_test_split\n",
    "from sklearn.metrics import classification_report\n",
    "\n",
    "features = [\n",
    "\n",
    "  'TEMPERATURE_CONSIGNE [R]_C1'\n",
    "  #   'TEMPERATURE_CONSIGNE [R]_C2',\n",
    "  #   'TEMPERATURE_CONSIGNE [R]_C3',\n",
    "\n",
    "    # 'TEMPERATURE_MEG_FROID [R]_C4',\n",
    "    # 'TEMPERATURE_MEG_CHAUD [R]_C4',\n",
    "    #\n",
    "    # 'TEMPERATURE_REPRISE [R]_C1',\n",
    "    # 'TEMPERATURE_REPRISE [R]_C2',\n",
    "    # 'TEMPERATURE_REPRISE [R]_C3',\n",
    "\n",
    "\n",
    "    # 'CONSIGNE_BALLON_FROID [R]_C4',\n",
    "    # 'CONSIGNE_BALLON_CHAUD [R]_C4',\n",
    "    #\n",
    "    # 'HYGROMETRIE_CONSIGNE [I]_C1',\n",
    "    # 'HYGROMETRIE_CONSIGNE [I]_C2',\n",
    "    # 'HYGROMETRIE_CONSIGNE [I]_C3',\n",
    "]\n",
    "\n",
    "# Séparation des features et du label\n",
    "X = df[features]  #.drop(columns=['datetime' , 'cluster'])#[features]\n",
    "y = df[['cluster']]\n",
    "\n",
    "# Split en train/test\n",
    "X_train, X_test, y_train, y_test = train_test_split(X, y, test_size=0.2, random_state=42)\n",
    "\n",
    "# Entraînement du modèle\n",
    "model = RandomForestClassifier(n_estimators=100, random_state=42)\n",
    "model.fit(X_train, y_train)\n",
    "\n",
    "# Prédiction et évaluation\n",
    "y_pred = model.predict(X_test)\n",
    "print(classification_report(y_test, y_pred))\n"
   ],
   "id": "396d3ce0fe6bee74",
   "outputs": [
    {
     "name": "stderr",
     "output_type": "stream",
     "text": [
      "/home/octopus/octobrain/.venv/lib/python3.11/site-packages/sklearn/base.py:1389: DataConversionWarning: A column-vector y was passed when a 1d array was expected. Please change the shape of y to (n_samples,), for example using ravel().\n",
      "  return fit_method(estimator, *args, **kwargs)\n"
     ]
    },
    {
     "name": "stdout",
     "output_type": "stream",
     "text": [
      "              precision    recall  f1-score   support\n",
      "\n",
      "           0       0.54      0.42      0.47     37320\n",
      "           1       0.00      0.00      0.00        10\n",
      "           2       0.51      0.26      0.34      7970\n",
      "           3       0.88      0.65      0.75     13569\n",
      "           4       0.70      0.84      0.76     81131\n",
      "\n",
      "    accuracy                           0.67    140000\n",
      "   macro avg       0.53      0.43      0.46    140000\n",
      "weighted avg       0.66      0.67      0.66    140000\n",
      "\n"
     ]
    },
    {
     "name": "stderr",
     "output_type": "stream",
     "text": [
      "/home/octopus/octobrain/.venv/lib/python3.11/site-packages/sklearn/metrics/_classification.py:1565: UndefinedMetricWarning: Precision is ill-defined and being set to 0.0 in labels with no predicted samples. Use `zero_division` parameter to control this behavior.\n",
      "  _warn_prf(average, modifier, f\"{metric.capitalize()} is\", len(result))\n",
      "/home/octopus/octobrain/.venv/lib/python3.11/site-packages/sklearn/metrics/_classification.py:1565: UndefinedMetricWarning: Precision is ill-defined and being set to 0.0 in labels with no predicted samples. Use `zero_division` parameter to control this behavior.\n",
      "  _warn_prf(average, modifier, f\"{metric.capitalize()} is\", len(result))\n",
      "/home/octopus/octobrain/.venv/lib/python3.11/site-packages/sklearn/metrics/_classification.py:1565: UndefinedMetricWarning: Precision is ill-defined and being set to 0.0 in labels with no predicted samples. Use `zero_division` parameter to control this behavior.\n",
      "  _warn_prf(average, modifier, f\"{metric.capitalize()} is\", len(result))\n"
     ]
    }
   ],
   "execution_count": 8
  },
  {
   "metadata": {
    "ExecuteTime": {
     "end_time": "2025-08-27T15:02:57.799030Z",
     "start_time": "2025-08-27T15:02:57.755474Z"
    }
   },
   "cell_type": "code",
   "source": [
    "importances = model.feature_importances_\n",
    "\n",
    "feature_names = X.columns\n",
    "plt.barh(feature_names, importances)\n",
    "plt.title(\"Importance des variables\")\n",
    "plt.xlabel(\"Importance\")\n",
    "plt.show()"
   ],
   "id": "2c953f8b80fcff87",
   "outputs": [
    {
     "ename": "NameError",
     "evalue": "name 'plt' is not defined",
     "output_type": "error",
     "traceback": [
      "\u001B[31m---------------------------------------------------------------------------\u001B[39m",
      "\u001B[31mNameError\u001B[39m                                 Traceback (most recent call last)",
      "\u001B[36mCell\u001B[39m\u001B[36m \u001B[39m\u001B[32mIn[10]\u001B[39m\u001B[32m, line 4\u001B[39m\n\u001B[32m      1\u001B[39m importances = model.feature_importances_\n\u001B[32m      3\u001B[39m feature_names = X.columns\n\u001B[32m----> \u001B[39m\u001B[32m4\u001B[39m \u001B[43mplt\u001B[49m.barh(feature_names, importances)\n\u001B[32m      5\u001B[39m plt.title(\u001B[33m\"\u001B[39m\u001B[33mImportance des variables\u001B[39m\u001B[33m\"\u001B[39m)\n\u001B[32m      6\u001B[39m plt.xlabel(\u001B[33m\"\u001B[39m\u001B[33mImportance\u001B[39m\u001B[33m\"\u001B[39m)\n",
      "\u001B[31mNameError\u001B[39m: name 'plt' is not defined"
     ]
    }
   ],
   "execution_count": 10
  },
  {
   "metadata": {
    "ExecuteTime": {
     "end_time": "2025-08-21T07:39:56.644449Z",
     "start_time": "2025-08-21T07:39:56.639028Z"
    }
   },
   "cell_type": "code",
   "source": [
    "for i in range(len(importances)):\n",
    "    if importances[i] > 1.0:\n",
    "        print(features[i], importances[i])"
   ],
   "id": "791558687320a561",
   "outputs": [],
   "execution_count": 175
  },
  {
   "metadata": {
    "ExecuteTime": {
     "end_time": "2025-08-21T07:40:37.293919Z",
     "start_time": "2025-08-21T07:40:37.275095Z"
    }
   },
   "cell_type": "code",
   "source": [
    "df_importances = pd.DataFrame({\n",
    "    'Feature': X.columns,\n",
    "    'Importance': model.feature_importances_\n",
    "})\n",
    "df_importances = df_importances.sort_values(by='Importance', ascending=False)\n",
    "\n",
    "# Garder uniquement les 10 premières\n",
    "top = df_importances.head(30)\n",
    "\n",
    "# Afficher les résultats\n",
    "print(top)"
   ],
   "id": "9090fa14e9f9c3bd",
   "outputs": [
    {
     "name": "stdout",
     "output_type": "stream",
     "text": [
      "                             Feature  Importance\n",
      "321     TEMPERATURE_MEG_FROID [R]_C4    0.083035\n",
      "234              BALLON_FROID [R]_C3    0.080167\n",
      "364                  ecart_temp_C4_F    0.080033\n",
      "19               BALLON_FROID [R]_C1    0.068273\n",
      "127              BALLON_FROID [R]_C2    0.053670\n",
      "105  TEMPERATURE_RETOUR_FROID [R]_C1    0.047488\n",
      "318  TEMPERATURE_RETOUR_FROID [R]_C3    0.038368\n",
      "99    TEMPERATURE_ALLER_FROID [R]_C1    0.036987\n",
      "206   TEMPERATURE_ALLER_FROID [R]_C2    0.034315\n",
      "212  TEMPERATURE_RETOUR_FROID [R]_C2    0.027760\n",
      "312   TEMPERATURE_ALLER_FROID [R]_C3    0.026047\n",
      "109                        HP [R]_C2    0.021827\n",
      "216                        HP [R]_C3    0.019439\n",
      "1                          HP [R]_C1    0.017791\n",
      "324         BP_R134_EN_DEGRES [R]_C4    0.017244\n",
      "233              BALLON_CHAUD [R]_C3    0.014857\n",
      "363                  ecart_temp_C4_C    0.014458\n",
      "327           HP_R134_EN_BARS [R]_C4    0.013426\n",
      "11                 A_SECONDES [I]_C1    0.012085\n",
      "108                        BP [R]_C2    0.011538\n",
      "126              BALLON_CHAUD [R]_C2    0.010571\n",
      "323           BP_R134_EN_BARS [R]_C4    0.008960\n",
      "119                A_SECONDES [I]_C2    0.008708\n",
      "215                        BP [R]_C3    0.008512\n",
      "104  TEMPERATURE_RETOUR_CHAUD [R]_C1    0.008090\n",
      "322     TEMPERATURE_MEG_CHAUD [R]_C4    0.008029\n",
      "328         HP_R134_EN_DEGRES [R]_C4    0.007974\n",
      "317  TEMPERATURE_RETOUR_CHAUD [R]_C3    0.007509\n",
      "205   TEMPERATURE_ALLER_CHAUD [R]_C2    0.007387\n",
      "360                    ecart_temp_C3    0.007315\n"
     ]
    }
   ],
   "execution_count": 177
  },
  {
   "metadata": {
    "ExecuteTime": {
     "end_time": "2025-08-27T15:19:19.281831Z",
     "start_time": "2025-08-27T15:18:59.151616Z"
    }
   },
   "cell_type": "code",
   "source": [
    "import pandas as pd\n",
    "lf = pd.read_csv('../../datas/E4_3/E3_all_alert_panne_indicator.csv', sep=',')"
   ],
   "id": "ace447f82fa2e94d",
   "outputs": [],
   "execution_count": 28
  },
  {
   "metadata": {
    "ExecuteTime": {
     "end_time": "2025-08-27T15:19:20.279259Z",
     "start_time": "2025-08-27T15:19:20.272367Z"
    }
   },
   "cell_type": "code",
   "source": "len(lf)",
   "id": "ee579cf08debb0ed",
   "outputs": [
    {
     "data": {
      "text/plain": [
       "891762"
      ]
     },
     "execution_count": 29,
     "metadata": {},
     "output_type": "execute_result"
    }
   ],
   "execution_count": 29
  },
  {
   "metadata": {
    "ExecuteTime": {
     "end_time": "2025-08-16T21:21:02.182462Z",
     "start_time": "2025-08-16T21:21:02.170969Z"
    }
   },
   "cell_type": "code",
   "source": [
    "for i in lf.columns:\n",
    "    print(i)"
   ],
   "id": "8b9f25f14412e7e3",
   "outputs": [
    {
     "name": "stdout",
     "output_type": "stream",
     "text": [
      "datetime\n",
      "BP [R]_C1\n",
      "HP [R]_C1\n",
      "O2 [R]_C1\n",
      "CO2 [R]_C1\n",
      "O2_MMOL [R]_C1\n",
      "POIDS_1 [R]_C1\n",
      "POIDS_2 [R]_C1\n",
      "POIDS_3 [R]_C1\n",
      "CO2_MMOL [R]_C1\n",
      "DEFAUT_BP [B]_C1\n",
      "DEFAUT_HP [B]_C1\n",
      "A_SECONDES [I]_C1\n",
      "IRRADIANCE [I]_C1\n",
      "REARMEMENT [B]_C1\n",
      "ARU_CELLULE [B]_C1\n",
      "CONSIGNE_O2 [I]_C1\n",
      "Etat_Mesure [B]_C1\n",
      "POIDS_TOTAL [R]_C1\n",
      "BALLON_CHAUD [R]_C1\n",
      "BALLON_FROID [R]_C1\n",
      "CONSIGNE_CO2 [I]_C1\n",
      "MA_VARIATEUR [B]_C1\n",
      "COMPRESSEUR_1 [B]_C1\n",
      "COMPRESSEUR_2 [B]_C1\n",
      "POMPE_INF_ECO [B]_C1\n",
      "POMPE_SUP_ECO [B]_C1\n",
      "PPM_O2_HUMIDE [R]_C1\n",
      "V2V_AIR_VICIE [B]_C1\n",
      "V2V_EAU_PLUIE [I]_C1\n",
      "HAUTEUR_ECOLUX [I]_C1\n",
      "HUMIDIFICATEUR [I]_C1\n",
      "POMPE_FOND_ECO [B]_C1\n",
      "PPM_CO2_HUMIDE [I]_C1\n",
      "V2V_DESHUMIDIF [B]_C1\n",
      "VANNE_PROP_INF [I]_C1\n",
      "VANNE_PROP_SUP [I]_C1\n",
      "FERMETURE_PORTE [B]_C1\n",
      "MOLE_O2_DERIVEE [R]_C1\n",
      "POMPE_UTA_CHAUD [B]_C1\n",
      "POMPE_UTA_FROID [B]_C1\n",
      "V2V_CAPTAGE_CO2 [B]_C1\n",
      "VANNE_PROP_FOND [I]_C1\n",
      "VANNE_UTA_CHAUD [I]_C1\n",
      "VANNE_UTA_FROID [I]_C1\n",
      "VENTILATEUR_CTA [B]_C1\n",
      "MOLE_CO2_DERIVEE [R]_C1\n",
      "ORIGINE_COLONNES [B]_C1\n",
      "V2V_INJECTION_N2 [B]_C1\n",
      "V2V_INJECTION_O2 [B]_C1\n",
      "V2V_INJ_AIR_NEUF [B]_C1\n",
      "VIDANGE_CANIVEAU [B]_C1\n",
      "CONSIGNE_ROTATION [I]_C1\n",
      "CONSIGNE_TEMP_INF [R]_C1\n",
      "CONSIGNE_TEMP_SUP [R]_C1\n",
      "DESHUMIDIFICATEUR [B]_C1\n",
      "POIDS_EAU_CELLULE [R]_C1\n",
      "POMPE_GENER_CHAUD [B]_C1\n",
      "POMPE_GENER_FROID [B]_C1\n",
      "TEMPERATURE_SONDE [R]_C1\n",
      "V2V_ABSORBTION_O2 [B]_C1\n",
      "V2V_CHAUD_INF_ECO [B]_C1\n",
      "V2V_CHAUD_SUP_ECO [B]_C1\n",
      "V2V_FROID_INF_ECO [B]_C1\n",
      "V2V_FROID_SUP_ECO [B]_C1\n",
      "V2V_INJECTION_CO2 [B]_C1\n",
      "CONSIGNE_ECLAIRAGE [I]_C1\n",
      "CONSIGNE_TEMP_FOND [R]_C1\n",
      "POIDS_EAU_CONSIGNE [R]_C1\n",
      "PRESSION_EXTERIEUR [R]_C1\n",
      "PRESSION_O2_HUMIDE [R]_C1\n",
      "V2V_ABSORBTION_CO2 [B]_C1\n",
      "V2V_ABSORBTION_CO3 [B]_C1\n",
      "V2V_CHAUD_FOND_ECO [B]_C1\n",
      "V2V_FROID_FOND_ECO [B]_C1\n",
      "HYGROMETRIE_CELLULE [R]_C1\n",
      "PRESSION_CO2_HUMIDE [R]_C1\n",
      "SURPRESSION_CEL_EXT [R]_C1\n",
      "TEMPERATURE_MOY_INF [R]_C1\n",
      "TEMPERATURE_MOY_SUP [R]_C1\n",
      "TEMPERATURE_REPRISE [R]_C1\n",
      "V2V_CIRCULATION_AIR [B]_C1\n",
      "V2V_CONDENS_UTA_EXT [B]_C1\n",
      "V2V_CONDENS_UTA_INT [B]_C1\n",
      "CONSIGNE_VENTILATION [I]_C1\n",
      "HYGROMETRIE_CONSIGNE [I]_C1\n",
      "TEMPERATURE_CONSIGNE [R]_C1\n",
      "TEMPERATURE_MOY_FOND [R]_C1\n",
      "V2V_LESSIVAT_ECORIUM [B]_C1\n",
      "V2V_VIDANGE_CANIVEAU [B]_C1\n",
      "VIDANGE_EAU_DE_PLUIE [B]_C1\n",
      "HYGROMETRIE_SOUFFLAGE [R]_C1\n",
      "TEMPERATURE_SOUFFLAGE [R]_C1\n",
      "V2V_CONDENSAT_UTA_EXT [B]_C1\n",
      "V2V_CONDENSAT_UTA_INT [B]_C1\n",
      "VENTILATEUR_TEMPETE_1 [B]_C1\n",
      "VENTILATEUR_TEMPETE_2 [B]_C1\n",
      "VENTILATEUR_TEMPETE_3 [B]_C1\n",
      "VENTILATEUR_TEMPETE_4 [B]_C1\n",
      "TEMPERATURE_ALLER_CHAUD [R]_C1\n",
      "TEMPERATURE_ALLER_FROID [R]_C1\n",
      "TEMP_ENTREE_INF_ECORIUM [R]_C1\n",
      "TEMP_ENTREE_SUP_ECORIUM [R]_C1\n",
      "TEMP_SORTIE_INF_ECORIUM [R]_C1\n",
      "TEMP_SORTIE_SUP_ECORIUM [R]_C1\n",
      "TEMPERATURE_RETOUR_CHAUD [R]_C1\n",
      "TEMPERATURE_RETOUR_FROID [R]_C1\n",
      "TEMP_ENTREE_FOND_ECORIUM [R]_C1\n",
      "TEMP_SORTIE_FOND_ECORIUM [R]_C1\n",
      "BP [R]_C2\n",
      "HP [R]_C2\n",
      "O2 [R]_C2\n",
      "CO2 [R]_C2\n",
      "O2_MMOL [R]_C2\n",
      "POIDS_1 [R]_C2\n",
      "POIDS_2 [R]_C2\n",
      "POIDS_3 [R]_C2\n",
      "CO2_MMOL [R]_C2\n",
      "DEFAUT_BP [B]_C2\n",
      "DEFAUT_HP [B]_C2\n",
      "A_SECONDES [I]_C2\n",
      "IRRADIANCE [I]_C2\n",
      "REARMEMENT [B]_C2\n",
      "ARU_CELLULE [B]_C2\n",
      "CONSIGNE_O2 [I]_C2\n",
      "Etat_Mesure [B]_C2\n",
      "POIDS_TOTAL [I]_C2\n",
      "BALLON_CHAUD [R]_C2\n",
      "BALLON_FROID [R]_C2\n",
      "CONSIGNE_CO2 [I]_C2\n",
      "MA_VARIATEUR [B]_C2\n",
      "COMPRESSEUR_1 [B]_C2\n",
      "COMPRESSEUR_2 [B]_C2\n",
      "POMPE_INF_ECO [B]_C2\n",
      "POMPE_SUP_ECO [B]_C2\n",
      "PPM_O2_HUMIDE [R]_C2\n",
      "V2V_AIR_VICIE [B]_C2\n",
      "V2V_EAU_PLUIE [I]_C2\n",
      "HAUTEUR_ECOLUX [I]_C2\n",
      "HUMIDIFICATEUR [I]_C2\n",
      "POMPE_FOND_ECO [B]_C2\n",
      "PPM_CO2_HUMIDE [I]_C2\n",
      "V2V_DESHUMIDIF [B]_C2\n",
      "VANNE_PROP_INF [I]_C2\n",
      "VANNE_PROP_SUP [I]_C2\n",
      "FERMETURE_PORTE [B]_C2\n",
      "MOLE_O2_DERIVEE [R]_C2\n",
      "POMPE_UTA_CHAUD [B]_C2\n",
      "POMPE_UTA_FROID [B]_C2\n",
      "V2V_CAPTAGE_CO2 [B]_C2\n",
      "VANNE_PROP_FOND [I]_C2\n",
      "VANNE_UTA_CHAUD [I]_C2\n",
      "VANNE_UTA_FROID [I]_C2\n",
      "VENTILATEUR_CTA [B]_C2\n",
      "MOLE_CO2_DERIVEE [R]_C2\n",
      "ORIGINE_COLONNES [B]_C2\n",
      "V2V_INJECTION_N2 [B]_C2\n",
      "V2V_INJECTION_O2 [B]_C2\n",
      "V2V_INJ_AIR_NEUF [B]_C2\n",
      "VIDANGE_CANIVEAU [B]_C2\n",
      "CONSIGNE_ROTATION [I]_C2\n",
      "CONSIGNE_TEMP_INF [R]_C2\n",
      "CONSIGNE_TEMP_SUP [R]_C2\n",
      "DESHUMIDIFICATEUR [B]_C2\n",
      "POIDS_EAU_CELLULE [R]_C2\n",
      "POMPE_GENER_CHAUD [B]_C2\n",
      "POMPE_GENER_FROID [B]_C2\n",
      "TEMPERATURE_SONDE [R]_C2\n",
      "V2V_ABSORBTION_O2 [B]_C2\n",
      "V2V_CHAUD_INF_ECO [B]_C2\n",
      "V2V_CHAUD_SUP_ECO [B]_C2\n",
      "V2V_FROID_INF_ECO [B]_C2\n",
      "V2V_FROID_SUP_ECO [B]_C2\n",
      "V2V_INJECTION_CO2 [B]_C2\n",
      "CONSIGNE_ECLAIRAGE [I]_C2\n",
      "CONSIGNE_TEMP_FOND [R]_C2\n",
      "POIDS_EAU_CONSIGNE [R]_C2\n",
      "PRESSION_EXTERIEUR [R]_C2\n",
      "PRESSION_O2_HUMIDE [R]_C2\n",
      "V2V_ABSORBTION_CO2 [B]_C2\n",
      "V2V_CHAUD_FOND_ECO [B]_C2\n",
      "V2V_FROID_FOND_ECO [B]_C2\n",
      "HYGROMETRIE_CELLULE [R]_C2\n",
      "PRESSION_CO2_HUMIDE [R]_C2\n",
      "SURPRESSION_CEL_EXT [R]_C2\n",
      "TEMPERATURE_MOY_INF [R]_C2\n",
      "TEMPERATURE_MOY_SUP [R]_C2\n",
      "TEMPERATURE_REPRISE [R]_C2\n",
      "V2V_CIRCULATION_AIR [B]_C2\n",
      "V2V_CONDENS_UTA_EXT [B]_C2\n",
      "V2V_CONDENS_UTA_INT [B]_C2\n",
      "CONSIGNE_VENTILATION [I]_C2\n",
      "HYGROMETRIE_CONSIGNE [I]_C2\n",
      "TEMPERATURE_CONSIGNE [R]_C2\n",
      "TEMPERATURE_MOY_FOND [R]_C2\n",
      "V2V_LESSIVAT_ECORIUM [B]_C2\n",
      "V2V_VIDANGE_CANIVEAU [B]_C2\n",
      "VIDANGE_EAU_DE_PLUIE [B]_C2\n",
      "HYGROMETRIE_SOUFFLAGE [R]_C2\n",
      "TEMPERATURE_SOUFFLAGE [R]_C2\n",
      "V2V_CONDENSAT_UTA_EXT [B]_C2\n",
      "V2V_CONDENSAT_UTA_INT [B]_C2\n",
      "VENTILATEUR_TEMPETE_1 [B]_C2\n",
      "VENTILATEUR_TEMPETE_2 [B]_C2\n",
      "VENTILATEUR_TEMPETE_3 [B]_C2\n",
      "VENTILATEUR_TEMPETE_4 [B]_C2\n",
      "TEMPERATURE_ALLER_CHAUD [R]_C2\n",
      "TEMPERATURE_ALLER_FROID [R]_C2\n",
      "TEMP_ENTREE_INF_ECORIUM [R]_C2\n",
      "TEMP_ENTREE_SUP_ECORIUM [R]_C2\n",
      "TEMP_SORTIE_INF_ECORIUM [R]_C2\n",
      "TEMP_SORTIE_SUP_ECORIUM [R]_C2\n",
      "TEMPERATURE_RETOUR_CHAUD [R]_C2\n",
      "TEMPERATURE_RETOUR_FROID [R]_C2\n",
      "TEMP_ENTREE_FOND_ECORIUM [R]_C2\n",
      "TEMP_SORTIE_FOND_ECORIUM [R]_C2\n",
      "BP [R]_C3\n",
      "HP [R]_C3\n",
      "O2 [R]_C3\n",
      "CO2 [R]_C3\n",
      "O2_MMOL [R]_C3\n",
      "POIDS_1 [R]_C3\n",
      "POIDS_2 [R]_C3\n",
      "POIDS_3 [R]_C3\n",
      "CO2_MMOL [R]_C3\n",
      "DEFAUT_BP [B]_C3\n",
      "DEFAUT_HP [B]_C3\n",
      "A_SECONDES [I]_C3\n",
      "IRRADIANCE [I]_C3\n",
      "REARMEMENT [B]_C3\n",
      "ARU_CELLULE [B]_C3\n",
      "CONSIGNE_O2 [I]_C3\n",
      "Etat_Mesure [B]_C3\n",
      "POIDS_TOTAL [R]_C3\n",
      "BALLON_CHAUD [R]_C3\n",
      "BALLON_FROID [R]_C3\n",
      "CONSIGNE_CO2 [I]_C3\n",
      "MA_VARIATEUR [B]_C3\n",
      "COMPRESSEUR_1 [B]_C3\n",
      "COMPRESSEUR_2 [B]_C3\n",
      "POMPE_INF_ECO [B]_C3\n",
      "POMPE_SUP_ECO [B]_C3\n",
      "PPM_O2_HUMIDE [R]_C3\n",
      "V2V_AIR_VICIE [B]_C3\n",
      "V2V_EAU_PLUIE [I]_C3\n",
      "HAUTEUR_ECOLUX [I]_C3\n",
      "HUMIDIFICATEUR [I]_C3\n",
      "POMPE_FOND_ECO [B]_C3\n",
      "PPM_CO2_HUMIDE [I]_C3\n",
      "V2V_DESHUMIDIF [B]_C3\n",
      "VANNE_PROP_INF [I]_C3\n",
      "VANNE_PROP_SUP [I]_C3\n",
      "FERMETURE_PORTE [B]_C3\n",
      "MOLE_O2_DERIVEE [R]_C3\n",
      "POMPE_UTA_CHAUD [B]_C3\n",
      "POMPE_UTA_FROID [B]_C3\n",
      "V2V_CAPTAGE_CO2 [B]_C3\n",
      "VANNE_PROP_FOND [I]_C3\n",
      "VANNE_UTA_CHAUD [I]_C3\n",
      "VANNE_UTA_FROID [I]_C3\n",
      "VENTILATEUR_CTA [B]_C3\n",
      "MOLE_CO2_DERIVEE [R]_C3\n",
      "ORIGINE_COLONNES [B]_C3\n",
      "V2V_INJECTION_N2 [B]_C3\n",
      "V2V_INJECTION_O2 [B]_C3\n",
      "V2V_INJ_AIR_NEUF [B]_C3\n",
      "VIDANGE_CANIVEAU [B]_C3\n",
      "CONSIGNE_ROTATION [I]_C3\n",
      "CONSIGNE_TEMP_INF [R]_C3\n",
      "CONSIGNE_TEMP_SUP [R]_C3\n",
      "DESHUMIDIFICATEUR [B]_C3\n",
      "POIDS_EAU_CELLULE [R]_C3\n",
      "POMPE_GENER_CHAUD [B]_C3\n",
      "POMPE_GENER_FROID [B]_C3\n",
      "TEMPERATURE_SONDE [R]_C3\n",
      "V2V_ABSORBTION_O2 [B]_C3\n",
      "V2V_CHAUD_INF_ECO [B]_C3\n",
      "V2V_CHAUD_SUP_ECO [B]_C3\n",
      "V2V_FROID_INF_ECO [B]_C3\n",
      "V2V_FROID_SUP_ECO [B]_C3\n",
      "V2V_INJECTION_CO2 [B]_C3\n",
      "CONSIGNE_ECLAIRAGE [I]_C3\n",
      "CONSIGNE_TEMP_FOND [R]_C3\n",
      "POIDS_EAU_CONSIGNE [R]_C3\n",
      "PRESSION_EXTERIEUR [R]_C3\n",
      "PRESSION_O2_HUMIDE [R]_C3\n",
      "V2V_ABSORBTION_CO2 [B]_C3\n",
      "V2V_CHAUD_FOND_ECO [B]_C3\n",
      "HYGROMETRIE_CELLULE [R]_C3\n",
      "PRESSION_CO2_HUMIDE [R]_C3\n",
      "SURPRESSION_CEL_EXT [R]_C3\n",
      "TEMPERATURE_MOY_INF [R]_C3\n",
      "TEMPERATURE_MOY_SUP [R]_C3\n",
      "TEMPERATURE_REPRISE [R]_C3\n",
      "V2V_CIRCULATION_AIR [B]_C3\n",
      "V2V_CONDENS_UTA_EXT [B]_C3\n",
      "V2V_CONDENS_UTA_INT [B]_C3\n",
      "CONSIGNE_VENTILATION [I]_C3\n",
      "HYGROMETRIE_CONSIGNE [I]_C3\n",
      "TEMPERATURE_CONSIGNE [R]_C3\n",
      "TEMPERATURE_MOY_FOND [R]_C3\n",
      "V2V_LESSIVAT_ECORIUM [B]_C3\n",
      "V2V_VIDANGE_CANIVEAU [B]_C3\n",
      "VIDANGE_EAU_DE_PLUIE [B]_C3\n",
      "HYGROMETRIE_SOUFFLAGE [R]_C3\n",
      "TEMPERATURE_SOUFFLAGE [R]_C3\n",
      "V2V_CONDENSAT_UTA_EXT [B]_C3\n",
      "V2V_CONDENSAT_UTA_INT [B]_C3\n",
      "VENTILATEUR_TEMPETE_1 [B]_C3\n",
      "VENTILATEUR_TEMPETE_2 [B]_C3\n",
      "VENTILATEUR_TEMPETE_3 [B]_C3\n",
      "VENTILATEUR_TEMPETE_4 [B]_C3\n",
      "TEMPERATURE_ALLER_CHAUD [R]_C3\n",
      "TEMPERATURE_ALLER_FROID [R]_C3\n",
      "TEMP_ENTREE_INF_ECORIUM [R]_C3\n",
      "TEMP_ENTREE_SUP_ECORIUM [R]_C3\n",
      "TEMP_SORTIE_INF_ECORIUM [R]_C3\n",
      "TEMP_SORTIE_SUP_ECORIUM [R]_C3\n",
      "TEMPERATURE_RETOUR_CHAUD [R]_C3\n",
      "TEMPERATURE_RETOUR_FROID [R]_C3\n",
      "TEMP_ENTREE_FOND_ECORIUM [R]_C3\n",
      "TEMP_SORTIE_FOND_ECORIUM [R]_C3\n",
      "TEMPERATURE_MEG_FROID [R]_C4\n",
      "TEMPERATURE_MEG_CHAUD [R]_C4\n",
      "BP_R134_EN_BARS [R]_C4\n",
      "BP_R134_EN_DEGRES [R]_C4\n",
      "CONSIGNE_BALLON_FROID [R]_C4\n",
      "CONSIGNE_BALLON_CHAUD [R]_C4\n",
      "HP_R134_EN_BARS [R]_C4\n",
      "HP_R134_EN_DEGRES [R]_C4\n",
      "CDE_CONDENSEUR [B]_C4\n",
      "CDE_EVAPORATEUR [B]_C4\n",
      "LOCAL_DISTANT [B]_C4\n",
      "MA_THERMO [B]_C4\n",
      "CDE_DEGIVRAGE [B]_C4\n",
      "CDE_EVAPO_FROID [B]_C4\n",
      "CDE_EVAPO_CHAUD [B]_C4\n",
      "DEBIT_BP [B]_C4\n",
      "DEBIT_HP [B]_C4\n",
      "DEFAUT_COMPRESSEUR_HP [B]_C4\n",
      "DEFAUT_COMPRESSEUR_BP [B]_C4\n",
      "DEFAUT_COMPRESSEUR_1 [B]_C4\n",
      "DEFAUT_COMPRESSEUR_2 [B]_C4\n",
      "SECURITE_GENERALE [B]_C4\n",
      "THERMOSTAT [B]_C4\n",
      "SECURITE_HP [B]_C4\n",
      "COMPRESSEUR_1 [B]_C4\n",
      "COMPRESSEUR_2 [B]_C4\n",
      "CDE_EVAPO_BP_FROID [B]_C4\n",
      "CDE_VENTILATEUR_EVAPO [B]_C4\n",
      "POMPE_MEG_FROID [B]_C4\n",
      "POMPE_MEG_CHAUD [B]_C4\n",
      "RETOUR_LOCAL_DISTANT [B]_C4\n",
      "SECU_BALLON_CHAUD [B]_C4\n",
      "SECU_BALLON_FROID [B]_C4\n",
      "CDE_COMPRESSEUR1 [B]_C4\n",
      "CDE_COMPRESSEUR2 [B]_C4\n",
      "ecart_temp_C1\n",
      "alerte_temp_C1\n",
      "ecart_temp_C2\n",
      "alerte_temp_C2\n",
      "ecart_temp_C3\n",
      "alerte_temp_C3\n",
      "cluster_All\n",
      "ecart_temp_C4_C\n",
      "ecart_temp_C4_F\n",
      "seconds_in_day\n",
      "day_sin\n",
      "day_cos\n",
      "anomalie\n",
      "indicators\n",
      "cluster\n"
     ]
    }
   ],
   "execution_count": 33
  },
  {
   "metadata": {
    "ExecuteTime": {
     "end_time": "2025-08-27T15:20:11.794015Z",
     "start_time": "2025-08-27T15:20:11.472038Z"
    }
   },
   "cell_type": "code",
   "source": [
    "from sklearn.cluster import KMeans\n",
    "\n",
    "# Appliquer KMeans (2 groupes ici)\n",
    "features = [\n",
    "    'TEMPERATURE_MEG_CHAUD [R]_C4',\n",
    "    'TEMPERATURE_MEG_FROID [R]_C4',\n",
    "\n",
    "]\n",
    "\n",
    "kmeans = KMeans(n_clusters=5, random_state=42)\n",
    "lf['cluster_test'] = kmeans.fit_predict(lf[features])"
   ],
   "id": "92a7f3e21d1f30be",
   "outputs": [],
   "execution_count": 34
  },
  {
   "metadata": {
    "ExecuteTime": {
     "end_time": "2025-08-13T09:20:09.870963Z",
     "start_time": "2025-08-13T09:20:09.861581Z"
    }
   },
   "cell_type": "code",
   "source": [
    "cluster_test = lf[lf['anomalie']==2]\n",
    "len(cluster_test)"
   ],
   "id": "edf40fb069840821",
   "outputs": [
    {
     "data": {
      "text/plain": [
       "14"
      ]
     },
     "execution_count": 182,
     "metadata": {},
     "output_type": "execute_result"
    }
   ],
   "execution_count": 182
  },
  {
   "metadata": {
    "ExecuteTime": {
     "end_time": "2025-08-13T09:20:15.180046Z",
     "start_time": "2025-08-13T09:20:15.163028Z"
    }
   },
   "cell_type": "code",
   "source": "cluster_test.head",
   "id": "4c4ca5ce9f13fa50",
   "outputs": [
    {
     "data": {
      "text/plain": [
       "<bound method NDFrame.head of                    datetime  BP [R]_C1  HP [R]_C1  O2 [R]_C1  CO2 [R]_C1  \\\n",
       "773686  2025-06-13 15:20:33   0.000000   0.000000        0.0         0.0   \n",
       "773687  2025-06-13 15:20:34   0.000000   0.000000        0.0         0.0   \n",
       "773688  2025-06-13 15:20:39 -11.129303  50.220543  1638300.0       452.0   \n",
       "773689  2025-06-13 15:20:44 -11.129303  50.220543  1638300.0       452.0   \n",
       "773690  2025-06-13 15:20:49 -11.129303  50.220543  1638300.0       452.0   \n",
       "773691  2025-06-13 15:20:50 -11.129303  50.220543  1638300.0       452.0   \n",
       "773692  2025-06-13 15:20:53 -11.129303  50.220543  1638300.0       452.0   \n",
       "773693  2025-06-13 15:20:55 -11.129303  50.220543  1638300.0       452.0   \n",
       "773811  2025-06-13 15:50:41   0.000000   0.000000        0.0         0.0   \n",
       "773812  2025-06-13 15:50:42   0.000000   0.000000        0.0         0.0   \n",
       "773813  2025-06-13 15:50:47  -7.838324  47.471207  1638300.0       461.0   \n",
       "773814  2025-06-13 15:50:50  -7.838324  47.471207  1638300.0       461.0   \n",
       "773815  2025-06-13 15:50:58  -7.838324  47.471207  1638300.0       461.0   \n",
       "773816  2025-06-13 15:51:01  -7.838324  47.471207  1638300.0       461.0   \n",
       "\n",
       "        O2_MMOL [R]_C1  POIDS_1 [R]_C1  POIDS_2 [R]_C1  POIDS_3 [R]_C1  \\\n",
       "773686             0.0    -1000.000000    -1000.000000    -1000.000000   \n",
       "773687             0.0    -1000.000000    -1000.000000    -1000.000000   \n",
       "773688             0.0      694.666667      644.333333      630.666667   \n",
       "773689             0.0      694.666667      644.333333      630.666667   \n",
       "773690             0.0      694.666667      644.333333      630.666667   \n",
       "773691             0.0      694.666667      644.333333      630.666667   \n",
       "773692             0.0      694.666667      644.333333      630.666667   \n",
       "773693             0.0      694.666667      644.333333      630.666667   \n",
       "773811             0.0    -1000.000000    -1000.000000    -1000.000000   \n",
       "773812             0.0    -1000.000000    -1000.000000    -1000.000000   \n",
       "773813             0.0      696.333333      641.333333      630.000000   \n",
       "773814             0.0      696.333333      641.333333      630.000000   \n",
       "773815             0.0      696.333333      641.333333      630.000000   \n",
       "773816             0.0      696.333333      641.333333      630.000000   \n",
       "\n",
       "        CO2_MMOL [R]_C1  ...  alerte_temp_C3  cluster_All  ecart_temp_C4_C  \\\n",
       "773686              0.0  ...               0            0              0.0   \n",
       "773687              0.0  ...               0            0              0.0   \n",
       "773688              0.0  ...               0            0              0.0   \n",
       "773689              0.0  ...               0            0              0.0   \n",
       "773690              0.0  ...               0            0              0.0   \n",
       "773691              0.0  ...               0            0              0.0   \n",
       "773692              0.0  ...               0            0              0.0   \n",
       "773693              0.0  ...               0            0              0.0   \n",
       "773811              0.0  ...               0            0              0.0   \n",
       "773812              0.0  ...               0            0              0.0   \n",
       "773813              0.0  ...               0            0              0.0   \n",
       "773814              0.0  ...               0            0              0.0   \n",
       "773815              0.0  ...               0            0              0.0   \n",
       "773816              0.0  ...               0            0              0.0   \n",
       "\n",
       "        ecart_temp_C4_F  seconds_in_day   day_sin   day_cos  anomalie  \\\n",
       "773686              0.0           55233 -0.767585 -0.640947         2   \n",
       "773687              0.0           55234 -0.767631 -0.640892         2   \n",
       "773688              0.0           55239 -0.767864 -0.640612         2   \n",
       "773689              0.0           55244 -0.768097 -0.640333         2   \n",
       "773690              0.0           55249 -0.768330 -0.640054         2   \n",
       "773691              0.0           55250 -0.768377 -0.639998         2   \n",
       "773692              0.0           55253 -0.768516 -0.639830         2   \n",
       "773693              0.0           55255 -0.768609 -0.639719         2   \n",
       "773811              0.0           57041 -0.844990 -0.534783         2   \n",
       "773812              0.0           57042 -0.845029 -0.534721         2   \n",
       "773813              0.0           57047 -0.845223 -0.534414         2   \n",
       "773814              0.0           57050 -0.845340 -0.534229         2   \n",
       "773815              0.0           57058 -0.845650 -0.533738         2   \n",
       "773816              0.0           57061 -0.845767 -0.533553         2   \n",
       "\n",
       "        indicators  cluster_test  \n",
       "773686           0             1  \n",
       "773687           0             1  \n",
       "773688           0             1  \n",
       "773689           0             1  \n",
       "773690           0             1  \n",
       "773691           0             1  \n",
       "773692           0             1  \n",
       "773693           0             1  \n",
       "773811           0             1  \n",
       "773812           0             1  \n",
       "773813           0             1  \n",
       "773814           0             1  \n",
       "773815           0             1  \n",
       "773816           0             1  \n",
       "\n",
       "[14 rows x 372 columns]>"
      ]
     },
     "execution_count": 183,
     "metadata": {},
     "output_type": "execute_result"
    }
   ],
   "execution_count": 183
  },
  {
   "metadata": {
    "ExecuteTime": {
     "end_time": "2025-08-13T08:40:04.019138Z",
     "start_time": "2025-08-13T08:40:03.997239Z"
    }
   },
   "cell_type": "code",
   "source": "lf",
   "id": "b9be71ce6f24c9b9",
   "outputs": [
    {
     "data": {
      "text/plain": [
       "<bound method NDFrame.head of                    datetime  BP [R]_C1  HP [R]_C1  O2 [R]_C1  CO2 [R]_C1  \\\n",
       "0       2025-04-07 10:28:44   0.000000   0.000000        0.0         0.0   \n",
       "1       2025-04-07 10:28:50 -14.528214  33.102051  1638300.0       359.0   \n",
       "2       2025-04-07 10:28:53 -14.528214  33.102051  1638300.0       359.0   \n",
       "3       2025-04-07 10:29:00 -14.528214  33.102051  1638300.0       359.0   \n",
       "4       2025-04-07 10:29:04 -14.528214  33.102051  1638300.0       359.0   \n",
       "...                     ...        ...        ...        ...         ...   \n",
       "891757  2025-06-30 11:59:29  14.362375  27.909761  1638300.0       348.0   \n",
       "891758  2025-06-30 11:59:59  14.362375  27.909761  1638300.0       348.0   \n",
       "891759  2025-06-30 12:00:29  14.362375  27.909761  1638300.0       348.0   \n",
       "891760  2025-06-30 12:00:59  14.362375  27.909761  1638300.0       348.0   \n",
       "891761  2025-06-30 12:01:29  14.362375  27.909761  1638300.0       348.0   \n",
       "\n",
       "        O2_MMOL [R]_C1  POIDS_1 [R]_C1  POIDS_2 [R]_C1  POIDS_3 [R]_C1  \\\n",
       "0                  0.0    -1000.000000    -1000.000000    -1000.000000   \n",
       "1                  0.0      178.333333      158.333333      157.666667   \n",
       "2                  0.0      178.333333      158.333333      157.666667   \n",
       "3                  0.0      178.333333      158.333333      157.666667   \n",
       "4                  0.0      178.333333      158.333333      157.666667   \n",
       "...                ...             ...             ...             ...   \n",
       "891757             0.0        5.333333       -2.666667       -2.000000   \n",
       "891758             0.0        5.333333       -2.666667       -2.000000   \n",
       "891759             0.0        5.333333       -2.666667       -2.000000   \n",
       "891760             0.0        5.333333       -2.666667       -2.000000   \n",
       "891761             0.0        5.333333       -2.666667       -2.000000   \n",
       "\n",
       "        CO2_MMOL [R]_C1  ...  alerte_temp_C3  cluster_All  ecart_temp_C4_C  \\\n",
       "0                   0.0  ...               0            0         0.000000   \n",
       "1                   0.0  ...               0            1         0.000000   \n",
       "2                   0.0  ...               0            1         0.000000   \n",
       "3                   0.0  ...               0            1         0.000000   \n",
       "4                   0.0  ...               1            1         0.000000   \n",
       "...                 ...  ...             ...          ...              ...   \n",
       "891757              0.0  ...               1            0       -17.799999   \n",
       "891758              0.0  ...               1            0       -17.799999   \n",
       "891759              0.0  ...               1            0       -17.799999   \n",
       "891760              0.0  ...               1            0       -17.799999   \n",
       "891761              0.0  ...               1            0       -17.799999   \n",
       "\n",
       "        ecart_temp_C4_F  seconds_in_day   day_sin   day_cos  anomalie  \\\n",
       "0                   0.0           37724  0.387784 -0.921750         1   \n",
       "1                   0.0           37730  0.387382 -0.921920         1   \n",
       "2                   0.0           37733  0.387180 -0.922004         1   \n",
       "3                   0.0           37740  0.386711 -0.922201         1   \n",
       "4                   0.0           37744  0.386443 -0.922313         1   \n",
       "...                 ...             ...       ...       ...       ...   \n",
       "891757             30.5           43169  0.002254 -0.999997         0   \n",
       "891758             30.5           43199  0.000073 -1.000000         0   \n",
       "891759             30.5           43229 -0.002109 -0.999998         0   \n",
       "891760             30.5           43259 -0.004291 -0.999991         0   \n",
       "891761             30.5           43289 -0.006472 -0.999979         0   \n",
       "\n",
       "        indicators  cluster_test  \n",
       "0                0             1  \n",
       "1                0             1  \n",
       "2                0             1  \n",
       "3                0             1  \n",
       "4                0             1  \n",
       "...            ...           ...  \n",
       "891757           0             1  \n",
       "891758           0             1  \n",
       "891759           0             1  \n",
       "891760           0             1  \n",
       "891761           0             1  \n",
       "\n",
       "[57074 rows x 372 columns]>"
      ]
     },
     "execution_count": 92,
     "metadata": {},
     "output_type": "execute_result"
    }
   ],
   "execution_count": 92
  },
  {
   "metadata": {
    "ExecuteTime": {
     "end_time": "2025-08-13T09:04:25.674088Z",
     "start_time": "2025-08-13T09:04:25.666336Z"
    }
   },
   "cell_type": "code",
   "source": "indicaton_test = lf[lf['cluster_test']==3]",
   "id": "6e18afb2b3fa1ce7",
   "outputs": [],
   "execution_count": 140
  },
  {
   "metadata": {
    "ExecuteTime": {
     "end_time": "2025-08-13T09:04:26.557342Z",
     "start_time": "2025-08-13T09:04:26.547623Z"
    }
   },
   "cell_type": "code",
   "source": "indicaton_test.head",
   "id": "764b258aa45102c1",
   "outputs": [
    {
     "data": {
      "text/plain": [
       "<bound method NDFrame.head of Empty DataFrame\n",
       "Columns: [datetime, BP [R]_C1, HP [R]_C1, O2 [R]_C1, CO2 [R]_C1, O2_MMOL [R]_C1, POIDS_1 [R]_C1, POIDS_2 [R]_C1, POIDS_3 [R]_C1, CO2_MMOL [R]_C1, DEFAUT_BP [B]_C1, DEFAUT_HP [B]_C1, A_SECONDES [I]_C1, IRRADIANCE [I]_C1, REARMEMENT [B]_C1, ARU_CELLULE [B]_C1, CONSIGNE_O2 [I]_C1, Etat_Mesure [B]_C1, POIDS_TOTAL [R]_C1, BALLON_CHAUD [R]_C1, BALLON_FROID [R]_C1, CONSIGNE_CO2 [I]_C1, MA_VARIATEUR [B]_C1, COMPRESSEUR_1 [B]_C1, COMPRESSEUR_2 [B]_C1, POMPE_INF_ECO [B]_C1, POMPE_SUP_ECO [B]_C1, PPM_O2_HUMIDE [R]_C1, V2V_AIR_VICIE [B]_C1, V2V_EAU_PLUIE [I]_C1, HAUTEUR_ECOLUX [I]_C1, HUMIDIFICATEUR [I]_C1, POMPE_FOND_ECO [B]_C1, PPM_CO2_HUMIDE [I]_C1, V2V_DESHUMIDIF [B]_C1, VANNE_PROP_INF [I]_C1, VANNE_PROP_SUP [I]_C1, FERMETURE_PORTE [B]_C1, MOLE_O2_DERIVEE [R]_C1, POMPE_UTA_CHAUD [B]_C1, POMPE_UTA_FROID [B]_C1, V2V_CAPTAGE_CO2 [B]_C1, VANNE_PROP_FOND [I]_C1, VANNE_UTA_CHAUD [I]_C1, VANNE_UTA_FROID [I]_C1, VENTILATEUR_CTA [B]_C1, MOLE_CO2_DERIVEE [R]_C1, ORIGINE_COLONNES [B]_C1, V2V_INJECTION_N2 [B]_C1, V2V_INJECTION_O2 [B]_C1, V2V_INJ_AIR_NEUF [B]_C1, VIDANGE_CANIVEAU [B]_C1, CONSIGNE_ROTATION [I]_C1, CONSIGNE_TEMP_INF [R]_C1, CONSIGNE_TEMP_SUP [R]_C1, DESHUMIDIFICATEUR [B]_C1, POIDS_EAU_CELLULE [R]_C1, POMPE_GENER_CHAUD [B]_C1, POMPE_GENER_FROID [B]_C1, TEMPERATURE_SONDE [R]_C1, V2V_ABSORBTION_O2 [B]_C1, V2V_CHAUD_INF_ECO [B]_C1, V2V_CHAUD_SUP_ECO [B]_C1, V2V_FROID_INF_ECO [B]_C1, V2V_FROID_SUP_ECO [B]_C1, V2V_INJECTION_CO2 [B]_C1, CONSIGNE_ECLAIRAGE [I]_C1, CONSIGNE_TEMP_FOND [R]_C1, POIDS_EAU_CONSIGNE [R]_C1, PRESSION_EXTERIEUR [R]_C1, PRESSION_O2_HUMIDE [R]_C1, V2V_ABSORBTION_CO2 [B]_C1, V2V_ABSORBTION_CO3 [B]_C1, V2V_CHAUD_FOND_ECO [B]_C1, V2V_FROID_FOND_ECO [B]_C1, HYGROMETRIE_CELLULE [R]_C1, PRESSION_CO2_HUMIDE [R]_C1, SURPRESSION_CEL_EXT [R]_C1, TEMPERATURE_MOY_INF [R]_C1, TEMPERATURE_MOY_SUP [R]_C1, TEMPERATURE_REPRISE [R]_C1, V2V_CIRCULATION_AIR [B]_C1, V2V_CONDENS_UTA_EXT [B]_C1, V2V_CONDENS_UTA_INT [B]_C1, CONSIGNE_VENTILATION [I]_C1, HYGROMETRIE_CONSIGNE [I]_C1, TEMPERATURE_CONSIGNE [R]_C1, TEMPERATURE_MOY_FOND [R]_C1, V2V_LESSIVAT_ECORIUM [B]_C1, V2V_VIDANGE_CANIVEAU [B]_C1, VIDANGE_EAU_DE_PLUIE [B]_C1, HYGROMETRIE_SOUFFLAGE [R]_C1, TEMPERATURE_SOUFFLAGE [R]_C1, V2V_CONDENSAT_UTA_EXT [B]_C1, V2V_CONDENSAT_UTA_INT [B]_C1, VENTILATEUR_TEMPETE_1 [B]_C1, VENTILATEUR_TEMPETE_2 [B]_C1, VENTILATEUR_TEMPETE_3 [B]_C1, VENTILATEUR_TEMPETE_4 [B]_C1, TEMPERATURE_ALLER_CHAUD [R]_C1, ...]\n",
       "Index: []\n",
       "\n",
       "[0 rows x 372 columns]>"
      ]
     },
     "execution_count": 141,
     "metadata": {},
     "output_type": "execute_result"
    }
   ],
   "execution_count": 141
  },
  {
   "metadata": {},
   "cell_type": "code",
   "outputs": [],
   "execution_count": null,
   "source": "",
   "id": "888c1785d6f0638a"
  },
  {
   "metadata": {
    "ExecuteTime": {
     "end_time": "2025-08-27T15:37:08.491784Z",
     "start_time": "2025-08-27T15:36:55.072952Z"
    }
   },
   "cell_type": "code",
   "source": [
    "import matplotlib.pyplot as plt\n",
    "import matplotlib.dates as mdates\n",
    "import pandas as pd\n",
    "\n",
    "df = lf.iloc[150_000:800_000].copy()\n",
    "\n",
    "if not pd.api.types.is_datetime64_any_dtype(df['datetime']):\n",
    "    df['datetime'] = pd.to_datetime(df['datetime'], errors='coerce')\n",
    "\n",
    "plt.figure(figsize=(14, 6))\n",
    "\n",
    "# Mapping des couleurs par cluster\n",
    "colors_map = {\n",
    "    0: 'cyan', 2: 'green', 1: 'red', 3: 'blue', 4: 'brown',\n",
    "    5: 'black', 6: 'yellow', 7: 'pink', 8: 'purple', 9: 'orange',\n",
    "    10: 'magenta', 11: 'lime', 12: 'navy', 13: 'gold', 14: 'teal',\n",
    "    15: 'violet', 16: 'olive', 17: 'coral', 18: 'turquoise', 19: 'maroon'\n",
    "}\n",
    "\n",
    "colors_3 = df['cluster_test'].map(colors_map)\n",
    "\n",
    "# Scatter plot\n",
    "plt.scatter(df['datetime'],df['TEMPERATURE_MEG_CHAUD [R]_C4'],c=colors_3,label='TEMPERATURE_MEG_CHAUD [R]_C4',alpha=0.5,s=2)\n",
    "plt.scatter(df['datetime'],df[\"TEMPERATURE_MEG_FROID [R]_C4\"],c=colors_3,label=\"TEMPERATURE_MEG_FROID [R]_C4\",alpha=0.5,s=2)\n",
    "plt.title('Cluster')\n",
    "plt.xlabel('Date')\n",
    "plt.ylabel('TEMPERATURE_MEG_CHAUD [R]_C4')\n",
    "plt.legend()\n",
    "plt.grid(True)\n",
    "\n",
    "# if pd.api.types.is_datetime64_any_dtype(df['datetime']):\n",
    "#     ax = plt.gca()\n",
    "#     ax.xaxis.set_major_formatter(mdates.DateFormatter('%Y-%m-%d %H:%M'))\n",
    "#     ax.xaxis.set_major_locator(mdates.AutoDateLocator())\n",
    "#     plt.xticks(rotation=45)\n",
    "\n",
    "plt.tight_layout()\n",
    "plt.show()\n"
   ],
   "id": "27fd4f8507f4ba14",
   "outputs": [
    {
     "name": "stderr",
     "output_type": "stream",
     "text": [
      "/tmp/ipykernel_1866658/3519423694.py:37: UserWarning: Creating legend with loc=\"best\" can be slow with large amounts of data.\n",
      "  plt.tight_layout()\n"
     ]
    },
    {
     "data": {
      "text/plain": [
       "<Figure size 1400x600 with 1 Axes>"
      ],
      "image/png": "[encoded data removed]"
     },
     "metadata": {},
     "output_type": "display_data"
    }
   ],
   "execution_count": 49
  },
  {
   "metadata": {},
   "cell_type": "code",
   "outputs": [],
   "execution_count": null,
   "source": "",
   "id": "49e3be6dce584a2f"
  },
  {
   "metadata": {
    "ExecuteTime": {
     "end_time": "2025-08-13T12:45:41.384058Z",
     "start_time": "2025-08-13T12:45:41.363161Z"
    }
   },
   "cell_type": "code",
   "source": "df.head",
   "id": "5ccd0229a53af254",
   "outputs": [
    {
     "data": {
      "text/plain": [
       "<bound method NDFrame.head of                    datetime  BP [R]_C1  HP [R]_C1  O2 [R]_C1  CO2 [R]_C1  \\\n",
       "773686  2025-06-13 15:20:33   0.000000   0.000000        0.0         0.0   \n",
       "773687  2025-06-13 15:20:34   0.000000   0.000000        0.0         0.0   \n",
       "773688  2025-06-13 15:20:39 -11.129303  50.220543  1638300.0       452.0   \n",
       "773689  2025-06-13 15:20:44 -11.129303  50.220543  1638300.0       452.0   \n",
       "773690  2025-06-13 15:20:49 -11.129303  50.220543  1638300.0       452.0   \n",
       "773691  2025-06-13 15:20:50 -11.129303  50.220543  1638300.0       452.0   \n",
       "773692  2025-06-13 15:20:53 -11.129303  50.220543  1638300.0       452.0   \n",
       "773693  2025-06-13 15:20:55 -11.129303  50.220543  1638300.0       452.0   \n",
       "773811  2025-06-13 15:50:41   0.000000   0.000000        0.0         0.0   \n",
       "773812  2025-06-13 15:50:42   0.000000   0.000000        0.0         0.0   \n",
       "773813  2025-06-13 15:50:47  -7.838324  47.471207  1638300.0       461.0   \n",
       "773814  2025-06-13 15:50:50  -7.838324  47.471207  1638300.0       461.0   \n",
       "773815  2025-06-13 15:50:58  -7.838324  47.471207  1638300.0       461.0   \n",
       "773816  2025-06-13 15:51:01  -7.838324  47.471207  1638300.0       461.0   \n",
       "\n",
       "        O2_MMOL [R]_C1  POIDS_1 [R]_C1  POIDS_2 [R]_C1  POIDS_3 [R]_C1  \\\n",
       "773686             0.0    -1000.000000    -1000.000000    -1000.000000   \n",
       "773687             0.0    -1000.000000    -1000.000000    -1000.000000   \n",
       "773688             0.0      694.666667      644.333333      630.666667   \n",
       "773689             0.0      694.666667      644.333333      630.666667   \n",
       "773690             0.0      694.666667      644.333333      630.666667   \n",
       "773691             0.0      694.666667      644.333333      630.666667   \n",
       "773692             0.0      694.666667      644.333333      630.666667   \n",
       "773693             0.0      694.666667      644.333333      630.666667   \n",
       "773811             0.0    -1000.000000    -1000.000000    -1000.000000   \n",
       "773812             0.0    -1000.000000    -1000.000000    -1000.000000   \n",
       "773813             0.0      696.333333      641.333333      630.000000   \n",
       "773814             0.0      696.333333      641.333333      630.000000   \n",
       "773815             0.0      696.333333      641.333333      630.000000   \n",
       "773816             0.0      696.333333      641.333333      630.000000   \n",
       "\n",
       "        CO2_MMOL [R]_C1  ...  alerte_temp_C3  cluster_All  ecart_temp_C4_C  \\\n",
       "773686              0.0  ...               0            0              0.0   \n",
       "773687              0.0  ...               0            0              0.0   \n",
       "773688              0.0  ...               0            0              0.0   \n",
       "773689              0.0  ...               0            0              0.0   \n",
       "773690              0.0  ...               0            0              0.0   \n",
       "773691              0.0  ...               0            0              0.0   \n",
       "773692              0.0  ...               0            0              0.0   \n",
       "773693              0.0  ...               0            0              0.0   \n",
       "773811              0.0  ...               0            0              0.0   \n",
       "773812              0.0  ...               0            0              0.0   \n",
       "773813              0.0  ...               0            0              0.0   \n",
       "773814              0.0  ...               0            0              0.0   \n",
       "773815              0.0  ...               0            0              0.0   \n",
       "773816              0.0  ...               0            0              0.0   \n",
       "\n",
       "        ecart_temp_C4_F  seconds_in_day   day_sin   day_cos  anomalie  \\\n",
       "773686              0.0           55233 -0.767585 -0.640947         2   \n",
       "773687              0.0           55234 -0.767631 -0.640892         2   \n",
       "773688              0.0           55239 -0.767864 -0.640612         2   \n",
       "773689              0.0           55244 -0.768097 -0.640333         2   \n",
       "773690              0.0           55249 -0.768330 -0.640054         2   \n",
       "773691              0.0           55250 -0.768377 -0.639998         2   \n",
       "773692              0.0           55253 -0.768516 -0.639830         2   \n",
       "773693              0.0           55255 -0.768609 -0.639719         2   \n",
       "773811              0.0           57041 -0.844990 -0.534783         2   \n",
       "773812              0.0           57042 -0.845029 -0.534721         2   \n",
       "773813              0.0           57047 -0.845223 -0.534414         2   \n",
       "773814              0.0           57050 -0.845340 -0.534229         2   \n",
       "773815              0.0           57058 -0.845650 -0.533738         2   \n",
       "773816              0.0           57061 -0.845767 -0.533553         2   \n",
       "\n",
       "        indicators  cluster  \n",
       "773686           0        1  \n",
       "773687           0        1  \n",
       "773688           0        1  \n",
       "773689           0        1  \n",
       "773690           0        1  \n",
       "773691           0        1  \n",
       "773692           0        1  \n",
       "773693           0        1  \n",
       "773811           0        1  \n",
       "773812           0        1  \n",
       "773813           0        1  \n",
       "773814           0        1  \n",
       "773815           0        1  \n",
       "773816           0        1  \n",
       "\n",
       "[14 rows x 372 columns]>"
      ]
     },
     "execution_count": 114,
     "metadata": {},
     "output_type": "execute_result"
    }
   ],
   "execution_count": 114
  },
  {
   "metadata": {
    "ExecuteTime": {
     "end_time": "2025-08-13T12:20:32.078413Z",
     "start_time": "2025-08-13T12:20:32.070059Z"
    }
   },
   "cell_type": "code",
   "source": "lf['cluster'] = lf['cluster_test']",
   "id": "516b90b3d7192bcc",
   "outputs": [],
   "execution_count": 87
  },
  {
   "metadata": {
    "ExecuteTime": {
     "end_time": "2025-08-13T12:20:51.654308Z",
     "start_time": "2025-08-13T12:20:50.716943Z"
    }
   },
   "cell_type": "code",
   "source": "lf = lf.drop(columns=['cluster_test'])",
   "id": "f7b56a08c130e976",
   "outputs": [],
   "execution_count": 88
  },
  {
   "metadata": {
    "ExecuteTime": {
     "end_time": "2025-08-13T12:22:51.310560Z",
     "start_time": "2025-08-13T12:20:53.389987Z"
    }
   },
   "cell_type": "code",
   "source": "lf.to_csv('../datas/E4_3/E3_all_alert_panne_indicator.csv' , index=False)",
   "id": "181de1de02bc9fe",
   "outputs": [],
   "execution_count": 89
  },
  {
   "metadata": {},
   "cell_type": "code",
   "source": [
    "import seaborn as sns\n",
    "sns.scatterplot(data=df,\n",
    "                x=df.index,\n",
    "                y='CDE_CONDENSEUR [B]_C4',\n",
    "                hue='alerte_temp_C1')"
   ],
   "id": "8cbd34fd4d5f8155",
   "outputs": [],
   "execution_count": null
  },
  {
   "metadata": {
    "ExecuteTime": {
     "end_time": "2025-08-16T21:19:14.665986Z",
     "start_time": "2025-08-16T21:19:03.596937Z"
    }
   },
   "cell_type": "code",
   "source": "df.to_csv('../datas/E4_3/test_cluster/test_cluster.csv', index=False)",
   "id": "1ba77f01837b880e",
   "outputs": [],
   "execution_count": 30
  },
  {
   "metadata": {},
   "cell_type": "code",
   "source": [
    "for col in df.columns:\n",
    "    print(col)"
   ],
   "id": "ddc2c745a91c22df",
   "outputs": [],
   "execution_count": null
  },
  {
   "metadata": {},
   "cell_type": "code",
   "source": [
    "from sklearn.cluster import KMeans\n",
    "features = [\n",
    "   'alerte_temp_C1' ,\n",
    "    'alerte_temp_C2' ,\n",
    "    'alerte_temp_C3' ,\n",
    "    'CDE_CONDENSEUR [B]_C4',\n",
    "    'CDE_EVAPORATEUR [B]_C4',\n",
    "    \n",
    "    'CDE_EVAPO_BP_FROID [B]_C4',\n",
    "    'CDE_VENTILATEUR_EVAPO [B]_C4',\n",
    "   \n",
    "    'CDE_COMPRESSEUR1 [B]_C4',\n",
    "    'CDE_COMPRESSEUR2 [B]_C4',\n",
    "    'HP_R134_EN_BARS [R]_C4'\n",
    "]\n",
    "\n",
    "\n",
    "kmeans = KMeans(n_clusters=2, random_state=3042)\n",
    "df['cluster_New'] = kmeans.fit_predict(df[features])"
   ],
   "id": "6ef56d9049187766",
   "outputs": [],
   "execution_count": null
  },
  {
   "metadata": {},
   "cell_type": "code",
   "source": "df = pd.read_csv('../datas/ECOLAB_3/E3_all_alert.csv' , sep=',' )",
   "id": "c0f31d0d437b43b0",
   "outputs": [],
   "execution_count": null
  },
  {
   "metadata": {},
   "cell_type": "code",
   "source": [
    "#import matplotlib.pyplot as plt\n",
    "df = df.iloc[0:]\n",
    "plt.figure(figsize=(14, 6))\n",
    "\n",
    "# Mapper une couleur par cluster\n",
    "colors = df['CDE_EVAPORATEUR [B]_C4'].map({1: 'red', 0: 'green' , 2 : 'blue' , 3:'brown'})\n",
    "colors_2 = df['cluster_New'].map({1: 'purple', 0: 'brown' , 2 : 'cyan' ,3:'black'})\n",
    "colors_3 = df['cluster_New'].map({1: 'crimson', 0: 'darkcyan', 2 : 'white' ,3:'pink'})\n",
    "#colors_4 = df['cluster_All'].map({1: 'orangered', 0: 'royalblue'})\n",
    "\n",
    "\n",
    "#plt.scatter(df.index, df['CONSIGNE_BALLON_FROID [R]_C4'], c=colors, label='Normal', alpha=0.5, s=2)\n",
    "#plt.scatter(df.index, df['CDE_CONDENSEUR [B]_C4'], c=colors_3, label='Normal', alpha=0.5, s=2)\n",
    "plt.scatter(df.index, df['ecart_temp_C1'], c=colors, label='Normal', alpha=0.5, s=2)\n",
    "#plt.scatter(df.index, df['TEMPERATURE_CONSIGNE [R]_C1'], c=colors, label='Normal', alpha=0.5, s=2)\n",
    "\n",
    "#plt.scatter(df.index, df['CONSIGNE_BALLON_FROID [R]_C4'], c=colors_3, label='Normal', alpha=0.5, s=2)\n",
    "plt.title('Cluster All')\n",
    "plt.xlabel('Index')\n",
    "plt.ylabel('Temperature Reprise + consigne' )\n",
    "plt.legend()\n",
    "plt.grid(True)\n",
    "plt.show()"
   ],
   "id": "9c34478f3317a455",
   "outputs": [],
   "execution_count": null
  },
  {
   "metadata": {},
   "cell_type": "code",
   "source": "df = pd.read_csv('../datas/ECOLAB_3/C4/C4_1.csv' , sep=',')",
   "id": "a91a81a98b91594f",
   "outputs": [],
   "execution_count": null
  },
  {
   "metadata": {},
   "cell_type": "code",
   "outputs": [],
   "execution_count": null,
   "source": "",
   "id": "a15ea80302321d1"
  },
  {
   "metadata": {},
   "cell_type": "code",
   "source": "df.columns",
   "id": "a8798ac5e90ce671",
   "outputs": [],
   "execution_count": null
  },
  {
   "metadata": {},
   "cell_type": "code",
   "source": [
    "df = df[df['datatime'] >= '2025-06-13 15:17:00']\n",
    "df = df[df['datatime'] <= '2025-06-13 15:56:00']\n",
    "for lig in df['TEMPERATURE_MEG_FROID [R]']:\n",
    "    print([lig])"
   ],
   "id": "1a2a6d423fb9f5d3",
   "outputs": [],
   "execution_count": null
  }
 ],
 "metadata": {
  "kernelspec": {
   "display_name": "Python 3",
   "language": "python",
   "name": "python3"
  },
  "language_info": {
   "codemirror_mode": {
    "name": "ipython",
    "version": 2
   },
   "file_extension": ".py",
   "mimetype": "text/x-python",
   "name": "python",
   "nbconvert_exporter": "python",
   "pygments_lexer": "ipython2",
   "version": "2.7.6"
  }
 },
 "nbformat": 4,
 "nbformat_minor": 5
}
