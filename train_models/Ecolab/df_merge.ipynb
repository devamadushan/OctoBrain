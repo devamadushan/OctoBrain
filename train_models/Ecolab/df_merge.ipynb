{
 "cells": [
  {
   "cell_type": "code",
   "id": "initial_id",
   "metadata": {
    "collapsed": true,
    "ExecuteTime": {
     "end_time": "2025-07-08T12:26:08.184934Z",
     "start_time": "2025-07-08T12:26:07.687858Z"
    }
   },
   "source": "import pandas as pd",
   "outputs": [],
   "execution_count": 2
  },
  {
   "metadata": {
    "ExecuteTime": {
     "end_time": "2025-07-08T12:27:58.797694Z",
     "start_time": "2025-07-08T12:27:58.370577Z"
    }
   },
   "cell_type": "code",
   "source": [
    "df_1 = pd.read_csv('../datas/ECOLAB_4/test/C1.csv')\n",
    "df_2 = pd.read_csv('../datas/ECOLAB_4/test/C2.csv')\n",
    "df_3 = pd.read_csv('../datas/ECOLAB_4/test/C3.csv')\n",
    "df_4 = pd.read_csv('../datas/ECOLAB_4/test/C4.csv' , low_memory=False)"
   ],
   "id": "ee1f48d3b979f1ee",
   "outputs": [],
   "execution_count": 5
  },
  {
   "metadata": {
    "ExecuteTime": {
     "end_time": "2025-07-08T12:28:00.727358Z",
     "start_time": "2025-07-08T12:28:00.713437Z"
    }
   },
   "cell_type": "code",
   "source": "df_4['datatime']",
   "id": "e13ec457ff6560f3",
   "outputs": [
    {
     "data": {
      "text/plain": [
       "0         2025-02-05 01:00:00\n",
       "1         2025-02-05 01:00:15\n",
       "2         2025-02-05 01:00:16\n",
       "3         2025-02-05 01:00:45\n",
       "4         2025-02-05 01:00:46\n",
       "                 ...         \n",
       "213865    2025-03-18 15:13:15\n",
       "213866    2025-03-18 15:13:44\n",
       "213867    2025-03-18 15:13:45\n",
       "213868    2025-03-18 15:14:14\n",
       "213869    2025-03-18 15:14:15\n",
       "Name: datatime, Length: 213870, dtype: object"
      ]
     },
     "execution_count": 6,
     "metadata": {},
     "output_type": "execute_result"
    }
   ],
   "execution_count": 6
  },
  {
   "metadata": {
    "ExecuteTime": {
     "end_time": "2025-07-08T12:28:34.270086Z",
     "start_time": "2025-07-08T12:28:34.254010Z"
    }
   },
   "cell_type": "code",
   "source": [
    "df_1_cols = df_1.drop(columns='datatime').columns\n",
    "for col in df_1_cols:\n",
    "    df_1[f'{col}_C1'] = df_1[col]\n",
    "df_1 = df_1.drop(columns=df_1_cols)"
   ],
   "id": "93e9297dcf340caf",
   "outputs": [],
   "execution_count": 7
  },
  {
   "metadata": {
    "ExecuteTime": {
     "end_time": "2025-07-08T12:28:42.121092Z",
     "start_time": "2025-07-08T12:28:42.108747Z"
    }
   },
   "cell_type": "code",
   "source": "df_1['datatime']",
   "id": "f02ab88e1572179d",
   "outputs": [
    {
     "data": {
      "text/plain": [
       "0        2025-07-04 10:34:08\n",
       "1        2025-07-04 10:34:28\n",
       "2        2025-07-04 10:34:52\n",
       "3        2025-07-04 10:35:54\n",
       "4        2025-07-04 10:36:59\n",
       "                ...         \n",
       "16839    2025-07-08 13:30:47\n",
       "16840    2025-07-08 13:31:17\n",
       "16841    2025-07-08 13:31:47\n",
       "16842    2025-07-08 13:32:17\n",
       "16843    2025-07-08 13:32:47\n",
       "Name: datatime, Length: 16844, dtype: object"
      ]
     },
     "execution_count": 9,
     "metadata": {},
     "output_type": "execute_result"
    }
   ],
   "execution_count": 9
  },
  {
   "metadata": {
    "ExecuteTime": {
     "end_time": "2025-07-08T12:28:50.089182Z",
     "start_time": "2025-07-08T12:28:50.073651Z"
    }
   },
   "cell_type": "code",
   "source": [
    "df_2_cols = df_2.drop(columns='datatime').columns\n",
    "for col in df_2_cols:\n",
    "    df_2[f'{col}_C2'] = df_2[col]\n",
    "df_2 = df_2.drop(columns=df_2_cols)"
   ],
   "id": "46678db485d101d",
   "outputs": [],
   "execution_count": 10
  },
  {
   "metadata": {
    "ExecuteTime": {
     "end_time": "2025-07-08T12:29:00.496455Z",
     "start_time": "2025-07-08T12:29:00.481251Z"
    }
   },
   "cell_type": "code",
   "source": [
    "df_3_cols = df_3.drop(columns='datatime').columns\n",
    "for col in df_3_cols:\n",
    "    df_3[f'{col}_C3'] = df_3[col]\n",
    "df_3 = df_3.drop(columns=df_3_cols)"
   ],
   "id": "899bfc390be2edab",
   "outputs": [],
   "execution_count": 11
  },
  {
   "metadata": {
    "ExecuteTime": {
     "end_time": "2025-07-08T12:29:07.452601Z",
     "start_time": "2025-07-08T12:29:07.408096Z"
    }
   },
   "cell_type": "code",
   "source": [
    "df_4_cols = df_4.drop(columns='datatime').columns\n",
    "for col in df_4_cols:\n",
    "    df_4[f'{col}_C4'] = df_4[col]\n",
    "df_4 = df_4.drop(columns=df_4_cols)"
   ],
   "id": "44b832dad5f31dea",
   "outputs": [],
   "execution_count": 12
  },
  {
   "metadata": {
    "ExecuteTime": {
     "end_time": "2025-07-08T12:29:22.759806Z",
     "start_time": "2025-07-08T12:29:21.486553Z"
    }
   },
   "cell_type": "code",
   "source": [
    "import pandas as pd\n",
    "from functools import reduce\n",
    "\n",
    "dfs = [df_1, df_2, df_3, df_4]\n",
    "\n",
    "df_merged = reduce(lambda left, right: pd.merge(left, right, on='datatime', how='outer'), dfs)\n",
    "\n",
    "df_merged = df_merged.sort_values('datatime')\n",
    "\n",
    "df_merged = df_merged.ffill()\n",
    "\n",
    "df_merged = df_merged.reset_index(drop=True)\n",
    "\n",
    "print(df_merged)"
   ],
   "id": "489a3e949db5d55c",
   "outputs": [
    {
     "name": "stdout",
     "output_type": "stream",
     "text": [
      "                   datatime  Unnamed: 0_C1  CONSIGNE_ROTATION [I]_C1  \\\n",
      "0       2025-02-05 01:00:00            NaN                       NaN   \n",
      "1       2025-02-05 01:00:15            NaN                       NaN   \n",
      "2       2025-02-05 01:00:16            NaN                       NaN   \n",
      "3       2025-02-05 01:00:45            NaN                       NaN   \n",
      "4       2025-02-05 01:00:46            NaN                       NaN   \n",
      "...                     ...            ...                       ...   \n",
      "230719  2025-07-08 13:35:17        16843.0                       0.0   \n",
      "230720  2025-07-08 13:35:47        16843.0                       0.0   \n",
      "230721  2025-07-08 13:36:17        16843.0                       0.0   \n",
      "230722  2025-07-08 13:36:47        16843.0                       0.0   \n",
      "230723  2025-07-08 13:37:17        16843.0                       0.0   \n",
      "\n",
      "        CONSIGNE_ECLAIRAGE [I]_C1  CONSIGNE_TEMP_FOND [R]_C1  \\\n",
      "0                             NaN                        NaN   \n",
      "1                             NaN                        NaN   \n",
      "2                             NaN                        NaN   \n",
      "3                             NaN                        NaN   \n",
      "4                             NaN                        NaN   \n",
      "...                           ...                        ...   \n",
      "230719                        0.0                       23.0   \n",
      "230720                        0.0                       23.0   \n",
      "230721                        0.0                       23.0   \n",
      "230722                        0.0                       23.0   \n",
      "230723                        0.0                       23.0   \n",
      "\n",
      "       TEMPERATURE_REPRISE [R]_C1  CONSIGNE_VENTILATION [I]_C1  \\\n",
      "0                             NaN                          NaN   \n",
      "1                             NaN                          NaN   \n",
      "2                             NaN                          NaN   \n",
      "3                             NaN                          NaN   \n",
      "4                             NaN                          NaN   \n",
      "...                           ...                          ...   \n",
      "230719                       23,4                         60.0   \n",
      "230720                       23,4                         60.0   \n",
      "230721                       23,4                         60.0   \n",
      "230722                       23,4                         60.0   \n",
      "230723                       23,4                         60.0   \n",
      "\n",
      "        HYGROMETRIE_CONSIGNE [I]_C1  TEMPERATURE_CONSIGNE [R]_C1  \\\n",
      "0                               NaN                          NaN   \n",
      "1                               NaN                          NaN   \n",
      "2                               NaN                          NaN   \n",
      "3                               NaN                          NaN   \n",
      "4                               NaN                          NaN   \n",
      "...                             ...                          ...   \n",
      "230719                         80.0                         23.0   \n",
      "230720                         80.0                         23.0   \n",
      "230721                         80.0                         23.0   \n",
      "230722                         80.0                         23.0   \n",
      "230723                         80.0                         23.0   \n",
      "\n",
      "        HYGROMETRIE_SOUFFLAGE [R]_C1  ... TEMPERATURE_SOUFFLAGE [R]_C3  \\\n",
      "0                                NaN  ...                          NaN   \n",
      "1                                NaN  ...                          NaN   \n",
      "2                                NaN  ...                          NaN   \n",
      "3                                NaN  ...                          NaN   \n",
      "4                                NaN  ...                          NaN   \n",
      "...                              ...  ...                          ...   \n",
      "230719                          40.0  ...                         23,6   \n",
      "230720                          40.0  ...                         23,6   \n",
      "230721                          40.0  ...                         23,6   \n",
      "230722                          40.0  ...                         23,6   \n",
      "230723                          40.0  ...                         23,6   \n",
      "\n",
      "        Unnamed: 0_C4 TEMPERATURE_MEG_FROID [R]_C4  \\\n",
      "0                 0.0                   -5,8000002   \n",
      "1                 1.0                   -5,8000002   \n",
      "2                 2.0                   -5,8000002   \n",
      "3                 3.0                   -5,8000002   \n",
      "4                 4.0                   -5,8000002   \n",
      "...               ...                          ...   \n",
      "230719       213869.0                   -4,1999998   \n",
      "230720       213869.0                   -4,1999998   \n",
      "230721       213869.0                   -4,1999998   \n",
      "230722       213869.0                   -4,1999998   \n",
      "230723       213869.0                   -4,1999998   \n",
      "\n",
      "        TEMPERATURE_MEG_CHAUD [R]_C4  BP_R134_EN_BARS [R]_C4  \\\n",
      "0                                 45               1,3361666   \n",
      "1                                 45               1,3361666   \n",
      "2                                 45               1,3361666   \n",
      "3                                 45               1,3361666   \n",
      "4                                 45               1,3361666   \n",
      "...                              ...                     ...   \n",
      "230719                      32,70000            0,0059999824   \n",
      "230720                      32,70000            0,0059999824   \n",
      "230721                      32,70000            0,0059999824   \n",
      "230722                      32,70000            0,0059999824   \n",
      "230723                      32,70000            0,0059999824   \n",
      "\n",
      "        BP_R134_EN_DEGRES [R]_C4 CONSIGNE_BALLON_FROID [R]_C4  \\\n",
      "0                     -6,0422668                         -6.0   \n",
      "1                     -6,0422668                         -6.0   \n",
      "2                     -6,0422668                         -6.0   \n",
      "3                     -6,0422668                         -6.0   \n",
      "4                     -6,0422668                         -6.0   \n",
      "...                          ...                          ...   \n",
      "230719                -26,445801                        -10.0   \n",
      "230720                -26,445801                        -10.0   \n",
      "230721                -26,445801                        -10.0   \n",
      "230722                -26,445801                        -10.0   \n",
      "230723                -26,445801                        -10.0   \n",
      "\n",
      "        CONSIGNE_BALLON_CHAUD [R]_C4  HP_R134_EN_BARS [R]_C4  \\\n",
      "0                               45.0                    2,22   \n",
      "1                               45.0                    2,22   \n",
      "2                               45.0                    2,22   \n",
      "3                               45.0                    2,22   \n",
      "4                               45.0                    2,22   \n",
      "...                              ...                     ...   \n",
      "230719                          45.0                   0,035   \n",
      "230720                          45.0                   0,035   \n",
      "230721                          45.0                   0,035   \n",
      "230722                          45.0                   0,035   \n",
      "230723                          45.0                   0,035   \n",
      "\n",
      "        HP_R134_EN_DEGRES [R]_C4  \n",
      "0                      2,5189381  \n",
      "1                      2,5189381  \n",
      "2                      2,5189381  \n",
      "3                      2,5189381  \n",
      "4                      2,5189381  \n",
      "...                          ...  \n",
      "230719                -24,419168  \n",
      "230720                -24,419168  \n",
      "230721                -24,419168  \n",
      "230722                -24,419168  \n",
      "230723                -24,419168  \n",
      "\n",
      "[230724 rows x 41 columns]\n"
     ]
    }
   ],
   "execution_count": 13
  },
  {
   "metadata": {
    "ExecuteTime": {
     "end_time": "2025-07-08T12:29:44.093816Z",
     "start_time": "2025-07-08T12:29:42.241137Z"
    }
   },
   "cell_type": "code",
   "source": "df_merged.to_csv('../datas/ECOLAB_4/test/E4_all.csv', index=False)",
   "id": "b5e0d18030077a5d",
   "outputs": [],
   "execution_count": 14
  }
 ],
 "metadata": {
  "kernelspec": {
   "display_name": "Python 3",
   "language": "python",
   "name": "python3"
  },
  "language_info": {
   "codemirror_mode": {
    "name": "ipython",
    "version": 2
   },
   "file_extension": ".py",
   "mimetype": "text/x-python",
   "name": "python",
   "nbconvert_exporter": "python",
   "pygments_lexer": "ipython2",
   "version": "2.7.6"
  }
 },
 "nbformat": 4,
 "nbformat_minor": 5
}
