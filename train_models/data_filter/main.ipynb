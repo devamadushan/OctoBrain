{
 "cells": [
  {
   "cell_type": "code",
   "id": "initial_id",
   "metadata": {
    "collapsed": true,
    "ExecuteTime": {
     "end_time": "2025-03-26T15:31:44.557229Z",
     "start_time": "2025-03-26T15:31:44.091375Z"
    }
   },
   "source": "import pandas as pd",
   "outputs": [],
   "execution_count": 3
  },
  {
   "metadata": {
    "ExecuteTime": {
     "end_time": "2025-03-26T15:50:57.315074Z",
     "start_time": "2025-03-26T15:50:57.311158Z"
    }
   },
   "cell_type": "code",
   "source": [
    "\n",
    "#DATETIME_start_1 = f\"25/02/2025 19:05:00\"\n",
    "#DATETIME_stop_1 = f\"03/03/2025 09:29:00\"\n",
    "\n",
    "DATETIME_start_1 = pd.to_datetime(\"25/02/2025 19:05:00\", dayfirst=True)\n",
    "DATETIME_stop_1 = pd.to_datetime(\"03/03/2025 09:29:00\", dayfirst=True)\n",
    "\n",
    "\n"
   ],
   "id": "9142feebf86547a1",
   "outputs": [],
   "execution_count": 27
  },
  {
   "metadata": {
    "ExecuteTime": {
     "end_time": "2025-03-26T15:48:33.098534Z",
     "start_time": "2025-03-26T15:48:32.832827Z"
    }
   },
   "cell_type": "code",
   "source": [
    "df = pd.read_csv('data_raw/Deva-Melun.csv' , sep=';')\n",
    "\n",
    "df['DateTime'] = pd.to_datetime(df['Date'] + ' ' + df['Time'], dayfirst=True, errors='coerce')\n",
    "\n",
    "print(df.head())"
   ],
   "id": "9bbc022dc14bd248",
   "outputs": [
    {
     "name": "stdout",
     "output_type": "stream",
     "text": [
      "  Breaks        Date      Time  HYGROMETRIE_CELLULE [I]  \\\n",
      "0   OPEN  05/02/2025  01:00:01                       48   \n",
      "1    NaN  05/02/2025  01:00:15                       48   \n",
      "2    NaN  05/02/2025  01:00:45                       48   \n",
      "3    NaN  05/02/2025  01:01:15                       48   \n",
      "4    NaN  05/02/2025  01:01:45                       48   \n",
      "\n",
      "   HYGROMETRIE_CONSIGNE [I] TEMPERATURE_REPRISE [R] TEMPERATURE_CONSIGNE [R]  \\\n",
      "0                        30                       9                       30   \n",
      "1                        30                       9                       30   \n",
      "2                        30                       9                       30   \n",
      "3                        30                       9                       30   \n",
      "4                        30                       9                       30   \n",
      "\n",
      "  POIDS_EAU_CELLULE [R] POIDS_EAU_CONSIGNE [R]            DateTime  \n",
      "0             3,4062974                      0 2025-02-05 01:00:01  \n",
      "1             3,4062974                      0 2025-02-05 01:00:15  \n",
      "2             3,4062974                      0 2025-02-05 01:00:45  \n",
      "3             3,4062974                      0 2025-02-05 01:01:15  \n",
      "4             3,4062974                      0 2025-02-05 01:01:45  \n"
     ]
    }
   ],
   "execution_count": 19
  },
  {
   "metadata": {
    "ExecuteTime": {
     "end_time": "2025-03-26T15:51:43.625234Z",
     "start_time": "2025-03-26T15:51:43.618916Z"
    }
   },
   "cell_type": "code",
   "source": [
    "\n",
    "#if (df[df['DateTime'] >= DATETIME_start_1] and df[df['DateTime'] <= DATETIME_stop_1] ):\n",
    "filtered_df = df[(df['DateTime'] >= DATETIME_start_1) & (df['DateTime'] <= DATETIME_stop_1)]\n",
    "print(filtered_df.head())"
   ],
   "id": "a3128cd8fff11607",
   "outputs": [
    {
     "name": "stdout",
     "output_type": "stream",
     "text": [
      "      Breaks        Date      Time  HYGROMETRIE_CELLULE [I]  \\\n",
      "64460    NaN  25/02/2025  19:05:20                       69   \n",
      "64461    NaN  25/02/2025  19:05:50                       69   \n",
      "64462    NaN  25/02/2025  19:06:20                       70   \n",
      "64463    NaN  25/02/2025  19:06:50                       71   \n",
      "64464    NaN  25/02/2025  19:07:20                       71   \n",
      "\n",
      "       HYGROMETRIE_CONSIGNE [I] TEMPERATURE_REPRISE [R]  \\\n",
      "64460                         3                     0,2   \n",
      "64461                         3              0,30000001   \n",
      "64462                         3                     0,5   \n",
      "64463                         3                     0,5   \n",
      "64464                         3              0,30000001   \n",
      "\n",
      "      TEMPERATURE_CONSIGNE [R] POIDS_EAU_CELLULE [R] POIDS_EAU_CONSIGNE [R]  \\\n",
      "64460                   0,1525             2,6374164             0,11337893   \n",
      "64461                   0,1525             2,6567426             0,11337893   \n",
      "64462                   0,1525             2,7350135             0,11337893   \n",
      "64463                   0,1525             2,7742596             0,11337893   \n",
      "64464                   0,1525             2,7340879             0,11337893   \n",
      "\n",
      "                 DateTime  \n",
      "64460 2025-02-25 19:05:20  \n",
      "64461 2025-02-25 19:05:50  \n",
      "64462 2025-02-25 19:06:20  \n",
      "64463 2025-02-25 19:06:50  \n",
      "64464 2025-02-25 19:07:20  \n"
     ]
    }
   ],
   "execution_count": 28
  },
  {
   "metadata": {
    "ExecuteTime": {
     "end_time": "2025-03-26T15:55:55.606020Z",
     "start_time": "2025-03-26T15:55:55.563257Z"
    }
   },
   "cell_type": "code",
   "source": "filtered_df.to_csv('data_filtered/Melun_1.csv', sep=';',index=False)",
   "id": "f5bfdd8a2faeb7b9",
   "outputs": [],
   "execution_count": 31
  }
 ],
 "metadata": {
  "kernelspec": {
   "display_name": "Python 3",
   "language": "python",
   "name": "python3"
  },
  "language_info": {
   "codemirror_mode": {
    "name": "ipython",
    "version": 2
   },
   "file_extension": ".py",
   "mimetype": "text/x-python",
   "name": "python",
   "nbconvert_exporter": "python",
   "pygments_lexer": "ipython2",
   "version": "2.7.6"
  }
 },
 "nbformat": 4,
 "nbformat_minor": 5
}
